{
 "cells": [
  {
   "cell_type": "code",
   "execution_count": 7,
   "metadata": {},
   "outputs": [],
   "source": [
    "# Imports \n",
    "import requests\n",
    "import pandas as pd\n",
    "import numpy as np\n",
    "import plotly.express as px\n",
    "import string\n",
    "from rapidfuzz import process, fuzz\n",
    "from sklearn.preprocessing import RobustScaler\n",
    "from category_encoders import TargetEncoder\n",
    "from sklearn.model_selection import train_test_split, GridSearchCV\n",
    "from sklearn.ensemble import RandomForestRegressor, GradientBoostingRegressor\n",
    "from sklearn.tree import DecisionTreeRegressor\n",
    "from sklearn.metrics import mean_absolute_percentage_error, mean_absolute_error, root_mean_squared_error\n",
    "from sklearn.dummy import DummyRegressor\n",
    "from sklearn.feature_selection import VarianceThreshold\n",
    "from sklearn.neighbors import KNeighborsRegressor\n",
    "from plotly.subplots import make_subplots\n",
    "import plotly.graph_objects as go\n",
    "import joblib"
   ]
  },
  {
   "cell_type": "code",
   "execution_count": 8,
   "metadata": {},
   "outputs": [],
   "source": [
    "# Laden der Daten von meinem Google Drive (Dateien sind öffentlich)\n",
    "\n",
    "file_paths = [\"data/Red.csv\", \"data/White.csv\", \"data/Rose.csv\", \"data/Sparkling.csv\"]\n",
    "wine_types = [\"Red\", \"White\", \"Rose\", \"Sparkling\"]\n",
    "datasets = []\n",
    "for path, wine_type in zip(file_paths, wine_types):\n",
    "    df = pd.read_csv(path)\n",
    "    df[\"WineType\"] = wine_type # Hinzufügen der Spalte \"WineType\" \n",
    "    datasets.append(df)\n",
    "\n",
    "df = pd.concat(datasets, ignore_index=True)"
   ]
  },
  {
   "cell_type": "markdown",
   "metadata": {},
   "source": [
    "## DATA UNDERSTANDING"
   ]
  },
  {
   "cell_type": "code",
   "execution_count": 9,
   "metadata": {},
   "outputs": [
    {
     "name": "stdout",
     "output_type": "stream",
     "text": [
      "<class 'pandas.core.frame.DataFrame'>\n",
      "RangeIndex: 13834 entries, 0 to 13833\n",
      "Data columns (total 9 columns):\n",
      " #   Column           Non-Null Count  Dtype  \n",
      "---  ------           --------------  -----  \n",
      " 0   Name             13834 non-null  object \n",
      " 1   Country          13834 non-null  object \n",
      " 2   Region           13834 non-null  object \n",
      " 3   Winery           13834 non-null  object \n",
      " 4   Rating           13834 non-null  float64\n",
      " 5   NumberOfRatings  13834 non-null  int64  \n",
      " 6   Price            13834 non-null  float64\n",
      " 7   Year             13834 non-null  object \n",
      " 8   WineType         13834 non-null  object \n",
      "dtypes: float64(2), int64(1), object(6)\n",
      "memory usage: 972.8+ KB\n"
     ]
    }
   ],
   "source": [
    "df.info()"
   ]
  },
  {
   "cell_type": "code",
   "execution_count": 10,
   "metadata": {},
   "outputs": [
    {
     "name": "stdout",
     "output_type": "stream",
     "text": [
      "             Rating  NumberOfRatings         Price          Year\n",
      "count  13834.000000     13834.000000  13834.000000  13834.000000\n",
      "mean       3.865664       428.322466     33.024850   2015.556961\n",
      "std        0.296427      1838.413812     70.899893      3.188885\n",
      "min        2.200000        25.000000      3.150000   1961.000000\n",
      "25%        3.700000        56.000000      9.902500   2015.000000\n",
      "50%        3.900000       129.000000     15.950000   2016.000000\n",
      "75%        4.100000       336.000000     32.500000   2018.000000\n",
      "max        4.900000     94287.000000   3410.790000   2020.000000\n"
     ]
    },
    {
     "data": {
      "text/html": [
       "<div>\n",
       "<style scoped>\n",
       "    .dataframe tbody tr th:only-of-type {\n",
       "        vertical-align: middle;\n",
       "    }\n",
       "\n",
       "    .dataframe tbody tr th {\n",
       "        vertical-align: top;\n",
       "    }\n",
       "\n",
       "    .dataframe thead th {\n",
       "        text-align: right;\n",
       "    }\n",
       "</style>\n",
       "<table border=\"1\" class=\"dataframe\">\n",
       "  <thead>\n",
       "    <tr style=\"text-align: right;\">\n",
       "      <th></th>\n",
       "      <th>Name</th>\n",
       "      <th>Country</th>\n",
       "      <th>Region</th>\n",
       "      <th>Winery</th>\n",
       "      <th>Rating</th>\n",
       "      <th>NumberOfRatings</th>\n",
       "      <th>Price</th>\n",
       "      <th>Year</th>\n",
       "      <th>WineType</th>\n",
       "    </tr>\n",
       "  </thead>\n",
       "  <tbody>\n",
       "    <tr>\n",
       "      <th>0</th>\n",
       "      <td>Pomerol 2011</td>\n",
       "      <td>France</td>\n",
       "      <td>Pomerol</td>\n",
       "      <td>Château La Providence</td>\n",
       "      <td>4.2</td>\n",
       "      <td>100</td>\n",
       "      <td>95.00</td>\n",
       "      <td>2011.0</td>\n",
       "      <td>Red</td>\n",
       "    </tr>\n",
       "    <tr>\n",
       "      <th>1</th>\n",
       "      <td>Lirac 2017</td>\n",
       "      <td>France</td>\n",
       "      <td>Lirac</td>\n",
       "      <td>Château Mont-Redon</td>\n",
       "      <td>4.3</td>\n",
       "      <td>100</td>\n",
       "      <td>15.50</td>\n",
       "      <td>2017.0</td>\n",
       "      <td>Red</td>\n",
       "    </tr>\n",
       "    <tr>\n",
       "      <th>2</th>\n",
       "      <td>Erta e China Rosso di Toscana 2015</td>\n",
       "      <td>Italy</td>\n",
       "      <td>Toscana</td>\n",
       "      <td>Renzo Masi</td>\n",
       "      <td>3.9</td>\n",
       "      <td>100</td>\n",
       "      <td>7.45</td>\n",
       "      <td>2015.0</td>\n",
       "      <td>Red</td>\n",
       "    </tr>\n",
       "    <tr>\n",
       "      <th>3</th>\n",
       "      <td>Bardolino 2019</td>\n",
       "      <td>Italy</td>\n",
       "      <td>Bardolino</td>\n",
       "      <td>Cavalchina</td>\n",
       "      <td>3.5</td>\n",
       "      <td>100</td>\n",
       "      <td>8.72</td>\n",
       "      <td>2019.0</td>\n",
       "      <td>Red</td>\n",
       "    </tr>\n",
       "    <tr>\n",
       "      <th>4</th>\n",
       "      <td>Ried Scheibner Pinot Noir 2016</td>\n",
       "      <td>Austria</td>\n",
       "      <td>Carnuntum</td>\n",
       "      <td>Markowitsch</td>\n",
       "      <td>3.9</td>\n",
       "      <td>100</td>\n",
       "      <td>29.15</td>\n",
       "      <td>2016.0</td>\n",
       "      <td>Red</td>\n",
       "    </tr>\n",
       "  </tbody>\n",
       "</table>\n",
       "</div>"
      ],
      "text/plain": [
       "                                 Name  Country     Region  \\\n",
       "0                        Pomerol 2011   France    Pomerol   \n",
       "1                          Lirac 2017   France      Lirac   \n",
       "2  Erta e China Rosso di Toscana 2015    Italy    Toscana   \n",
       "3                      Bardolino 2019    Italy  Bardolino   \n",
       "4      Ried Scheibner Pinot Noir 2016  Austria  Carnuntum   \n",
       "\n",
       "                  Winery  Rating  NumberOfRatings  Price    Year WineType  \n",
       "0  Château La Providence     4.2              100  95.00  2011.0      Red  \n",
       "1     Château Mont-Redon     4.3              100  15.50  2017.0      Red  \n",
       "2             Renzo Masi     3.9              100   7.45  2015.0      Red  \n",
       "3             Cavalchina     3.5              100   8.72  2019.0      Red  \n",
       "4            Markowitsch     3.9              100  29.15  2016.0      Red  "
      ]
     },
     "execution_count": 10,
     "metadata": {},
     "output_type": "execute_result"
    }
   ],
   "source": [
    "# Spalte \"Year\" als einziger Data Preparation Schritt wird hier schon als Integer konvertiert, um bessere Statistiken & Visualisierungen bilden zu können\n",
    "df[\"Year\"] = pd.to_numeric(df[\"Year\"].replace(\"N.V.\", np.nan))\n",
    "df[\"Year\"] = pd.to_numeric(df[\"Year\"], downcast=\"integer\")\n",
    "df[\"Year\"] = pd.to_numeric(df[\"Year\"].fillna(df[\"Year\"].median()))\n",
    "print(df.describe())\n",
    "df.head()"
   ]
  },
  {
   "cell_type": "code",
   "execution_count": 11,
   "metadata": {},
   "outputs": [
    {
     "name": "stdout",
     "output_type": "stream",
     "text": [
      "Countries: 33\n",
      "Wineries: 3505\n",
      "Regions 861\n",
      "Names: 10934\n",
      "Types: 4\n",
      "-------Verteilung der Wine Types-------\n",
      " WineType\n",
      "Red          8666\n",
      "White        3764\n",
      "Sparkling    1007\n",
      "Rose          397\n",
      "Name: count, dtype: int64\n"
     ]
    }
   ],
   "source": [
    "# Anzahl unique values nach Spalte für nicht-numerische Spalten\n",
    "print(\"Countries:\", df[\"Country\"].nunique())\n",
    "print(\"Wineries:\",df[\"Winery\"].nunique())\n",
    "print(\"Regions\",df[\"Region\"].nunique())\n",
    "print(\"Names:\",df[\"Name\"].nunique())\n",
    "print(\"Types:\",df[\"WineType\"].nunique())\n",
    "print(\"-------Verteilung der Wine Types-------\\n\",df[\"WineType\"].value_counts())"
   ]
  },
  {
   "cell_type": "code",
   "execution_count": 12,
   "metadata": {},
   "outputs": [
    {
     "data": {
      "application/vnd.plotly.v1+json": {
       "config": {
        "plotlyServerURL": "https://plot.ly"
       },
       "data": [
        {
         "hovertemplate": "Rating=%{x}<br>count=%{y}<br>label=%{text}<extra></extra>",
         "legendgroup": "",
         "marker": {
          "color": "#146c91",
          "pattern": {
           "shape": ""
          }
         },
         "name": "",
         "orientation": "v",
         "showlegend": false,
         "text": [
          "1",
          "2",
          "2",
          "3",
          "8",
          "8",
          "",
          "",
          "",
          "",
          "",
          "",
          "",
          "",
          "",
          "",
          "",
          "",
          "",
          "",
          "",
          "",
          "",
          "",
          "8",
          "1"
         ],
         "textangle": 45,
         "textposition": "auto",
         "type": "bar",
         "x": [
          "2.2",
          "2.5",
          "2.6",
          "2.7",
          "2.8",
          "2.9",
          "3.0",
          "3.1",
          "3.2",
          "3.3",
          "3.4",
          "3.5",
          "3.6",
          "3.7",
          "3.8",
          "3.9",
          "4.0",
          "4.1",
          "4.2",
          "4.3",
          "4.4",
          "4.5",
          "4.6",
          "4.7",
          "4.8",
          "4.9"
         ],
         "xaxis": "x",
         "y": {
          "bdata": "AQACAAIAAwAIAAgAIAAwAI4AGQHVATgDQwV/BhEIAAeKBTsFCgRsAmwBygCCAB8ACAABAA==",
          "dtype": "i2"
         },
         "yaxis": "y"
        }
       ],
       "layout": {
        "barmode": "relative",
        "legend": {
         "tracegroupgap": 0
        },
        "margin": {
         "t": 60
        },
        "template": {
         "data": {
          "bar": [
           {
            "error_x": {
             "color": "#2a3f5f"
            },
            "error_y": {
             "color": "#2a3f5f"
            },
            "marker": {
             "line": {
              "color": "#E5ECF6",
              "width": 0.5
             },
             "pattern": {
              "fillmode": "overlay",
              "size": 10,
              "solidity": 0.2
             }
            },
            "type": "bar"
           }
          ],
          "barpolar": [
           {
            "marker": {
             "line": {
              "color": "#E5ECF6",
              "width": 0.5
             },
             "pattern": {
              "fillmode": "overlay",
              "size": 10,
              "solidity": 0.2
             }
            },
            "type": "barpolar"
           }
          ],
          "carpet": [
           {
            "aaxis": {
             "endlinecolor": "#2a3f5f",
             "gridcolor": "white",
             "linecolor": "white",
             "minorgridcolor": "white",
             "startlinecolor": "#2a3f5f"
            },
            "baxis": {
             "endlinecolor": "#2a3f5f",
             "gridcolor": "white",
             "linecolor": "white",
             "minorgridcolor": "white",
             "startlinecolor": "#2a3f5f"
            },
            "type": "carpet"
           }
          ],
          "choropleth": [
           {
            "colorbar": {
             "outlinewidth": 0,
             "ticks": ""
            },
            "type": "choropleth"
           }
          ],
          "contour": [
           {
            "colorbar": {
             "outlinewidth": 0,
             "ticks": ""
            },
            "colorscale": [
             [
              0,
              "#0d0887"
             ],
             [
              0.1111111111111111,
              "#46039f"
             ],
             [
              0.2222222222222222,
              "#7201a8"
             ],
             [
              0.3333333333333333,
              "#9c179e"
             ],
             [
              0.4444444444444444,
              "#bd3786"
             ],
             [
              0.5555555555555556,
              "#d8576b"
             ],
             [
              0.6666666666666666,
              "#ed7953"
             ],
             [
              0.7777777777777778,
              "#fb9f3a"
             ],
             [
              0.8888888888888888,
              "#fdca26"
             ],
             [
              1,
              "#f0f921"
             ]
            ],
            "type": "contour"
           }
          ],
          "contourcarpet": [
           {
            "colorbar": {
             "outlinewidth": 0,
             "ticks": ""
            },
            "type": "contourcarpet"
           }
          ],
          "heatmap": [
           {
            "colorbar": {
             "outlinewidth": 0,
             "ticks": ""
            },
            "colorscale": [
             [
              0,
              "#0d0887"
             ],
             [
              0.1111111111111111,
              "#46039f"
             ],
             [
              0.2222222222222222,
              "#7201a8"
             ],
             [
              0.3333333333333333,
              "#9c179e"
             ],
             [
              0.4444444444444444,
              "#bd3786"
             ],
             [
              0.5555555555555556,
              "#d8576b"
             ],
             [
              0.6666666666666666,
              "#ed7953"
             ],
             [
              0.7777777777777778,
              "#fb9f3a"
             ],
             [
              0.8888888888888888,
              "#fdca26"
             ],
             [
              1,
              "#f0f921"
             ]
            ],
            "type": "heatmap"
           }
          ],
          "histogram": [
           {
            "marker": {
             "pattern": {
              "fillmode": "overlay",
              "size": 10,
              "solidity": 0.2
             }
            },
            "type": "histogram"
           }
          ],
          "histogram2d": [
           {
            "colorbar": {
             "outlinewidth": 0,
             "ticks": ""
            },
            "colorscale": [
             [
              0,
              "#0d0887"
             ],
             [
              0.1111111111111111,
              "#46039f"
             ],
             [
              0.2222222222222222,
              "#7201a8"
             ],
             [
              0.3333333333333333,
              "#9c179e"
             ],
             [
              0.4444444444444444,
              "#bd3786"
             ],
             [
              0.5555555555555556,
              "#d8576b"
             ],
             [
              0.6666666666666666,
              "#ed7953"
             ],
             [
              0.7777777777777778,
              "#fb9f3a"
             ],
             [
              0.8888888888888888,
              "#fdca26"
             ],
             [
              1,
              "#f0f921"
             ]
            ],
            "type": "histogram2d"
           }
          ],
          "histogram2dcontour": [
           {
            "colorbar": {
             "outlinewidth": 0,
             "ticks": ""
            },
            "colorscale": [
             [
              0,
              "#0d0887"
             ],
             [
              0.1111111111111111,
              "#46039f"
             ],
             [
              0.2222222222222222,
              "#7201a8"
             ],
             [
              0.3333333333333333,
              "#9c179e"
             ],
             [
              0.4444444444444444,
              "#bd3786"
             ],
             [
              0.5555555555555556,
              "#d8576b"
             ],
             [
              0.6666666666666666,
              "#ed7953"
             ],
             [
              0.7777777777777778,
              "#fb9f3a"
             ],
             [
              0.8888888888888888,
              "#fdca26"
             ],
             [
              1,
              "#f0f921"
             ]
            ],
            "type": "histogram2dcontour"
           }
          ],
          "mesh3d": [
           {
            "colorbar": {
             "outlinewidth": 0,
             "ticks": ""
            },
            "type": "mesh3d"
           }
          ],
          "parcoords": [
           {
            "line": {
             "colorbar": {
              "outlinewidth": 0,
              "ticks": ""
             }
            },
            "type": "parcoords"
           }
          ],
          "pie": [
           {
            "automargin": true,
            "type": "pie"
           }
          ],
          "scatter": [
           {
            "fillpattern": {
             "fillmode": "overlay",
             "size": 10,
             "solidity": 0.2
            },
            "type": "scatter"
           }
          ],
          "scatter3d": [
           {
            "line": {
             "colorbar": {
              "outlinewidth": 0,
              "ticks": ""
             }
            },
            "marker": {
             "colorbar": {
              "outlinewidth": 0,
              "ticks": ""
             }
            },
            "type": "scatter3d"
           }
          ],
          "scattercarpet": [
           {
            "marker": {
             "colorbar": {
              "outlinewidth": 0,
              "ticks": ""
             }
            },
            "type": "scattercarpet"
           }
          ],
          "scattergeo": [
           {
            "marker": {
             "colorbar": {
              "outlinewidth": 0,
              "ticks": ""
             }
            },
            "type": "scattergeo"
           }
          ],
          "scattergl": [
           {
            "marker": {
             "colorbar": {
              "outlinewidth": 0,
              "ticks": ""
             }
            },
            "type": "scattergl"
           }
          ],
          "scattermap": [
           {
            "marker": {
             "colorbar": {
              "outlinewidth": 0,
              "ticks": ""
             }
            },
            "type": "scattermap"
           }
          ],
          "scattermapbox": [
           {
            "marker": {
             "colorbar": {
              "outlinewidth": 0,
              "ticks": ""
             }
            },
            "type": "scattermapbox"
           }
          ],
          "scatterpolar": [
           {
            "marker": {
             "colorbar": {
              "outlinewidth": 0,
              "ticks": ""
             }
            },
            "type": "scatterpolar"
           }
          ],
          "scatterpolargl": [
           {
            "marker": {
             "colorbar": {
              "outlinewidth": 0,
              "ticks": ""
             }
            },
            "type": "scatterpolargl"
           }
          ],
          "scatterternary": [
           {
            "marker": {
             "colorbar": {
              "outlinewidth": 0,
              "ticks": ""
             }
            },
            "type": "scatterternary"
           }
          ],
          "surface": [
           {
            "colorbar": {
             "outlinewidth": 0,
             "ticks": ""
            },
            "colorscale": [
             [
              0,
              "#0d0887"
             ],
             [
              0.1111111111111111,
              "#46039f"
             ],
             [
              0.2222222222222222,
              "#7201a8"
             ],
             [
              0.3333333333333333,
              "#9c179e"
             ],
             [
              0.4444444444444444,
              "#bd3786"
             ],
             [
              0.5555555555555556,
              "#d8576b"
             ],
             [
              0.6666666666666666,
              "#ed7953"
             ],
             [
              0.7777777777777778,
              "#fb9f3a"
             ],
             [
              0.8888888888888888,
              "#fdca26"
             ],
             [
              1,
              "#f0f921"
             ]
            ],
            "type": "surface"
           }
          ],
          "table": [
           {
            "cells": {
             "fill": {
              "color": "#EBF0F8"
             },
             "line": {
              "color": "white"
             }
            },
            "header": {
             "fill": {
              "color": "#C8D4E3"
             },
             "line": {
              "color": "white"
             }
            },
            "type": "table"
           }
          ]
         },
         "layout": {
          "annotationdefaults": {
           "arrowcolor": "#2a3f5f",
           "arrowhead": 0,
           "arrowwidth": 1
          },
          "autotypenumbers": "strict",
          "coloraxis": {
           "colorbar": {
            "outlinewidth": 0,
            "ticks": ""
           }
          },
          "colorscale": {
           "diverging": [
            [
             0,
             "#8e0152"
            ],
            [
             0.1,
             "#c51b7d"
            ],
            [
             0.2,
             "#de77ae"
            ],
            [
             0.3,
             "#f1b6da"
            ],
            [
             0.4,
             "#fde0ef"
            ],
            [
             0.5,
             "#f7f7f7"
            ],
            [
             0.6,
             "#e6f5d0"
            ],
            [
             0.7,
             "#b8e186"
            ],
            [
             0.8,
             "#7fbc41"
            ],
            [
             0.9,
             "#4d9221"
            ],
            [
             1,
             "#276419"
            ]
           ],
           "sequential": [
            [
             0,
             "#0d0887"
            ],
            [
             0.1111111111111111,
             "#46039f"
            ],
            [
             0.2222222222222222,
             "#7201a8"
            ],
            [
             0.3333333333333333,
             "#9c179e"
            ],
            [
             0.4444444444444444,
             "#bd3786"
            ],
            [
             0.5555555555555556,
             "#d8576b"
            ],
            [
             0.6666666666666666,
             "#ed7953"
            ],
            [
             0.7777777777777778,
             "#fb9f3a"
            ],
            [
             0.8888888888888888,
             "#fdca26"
            ],
            [
             1,
             "#f0f921"
            ]
           ],
           "sequentialminus": [
            [
             0,
             "#0d0887"
            ],
            [
             0.1111111111111111,
             "#46039f"
            ],
            [
             0.2222222222222222,
             "#7201a8"
            ],
            [
             0.3333333333333333,
             "#9c179e"
            ],
            [
             0.4444444444444444,
             "#bd3786"
            ],
            [
             0.5555555555555556,
             "#d8576b"
            ],
            [
             0.6666666666666666,
             "#ed7953"
            ],
            [
             0.7777777777777778,
             "#fb9f3a"
            ],
            [
             0.8888888888888888,
             "#fdca26"
            ],
            [
             1,
             "#f0f921"
            ]
           ]
          },
          "colorway": [
           "#636efa",
           "#EF553B",
           "#00cc96",
           "#ab63fa",
           "#FFA15A",
           "#19d3f3",
           "#FF6692",
           "#B6E880",
           "#FF97FF",
           "#FECB52"
          ],
          "font": {
           "color": "#2a3f5f"
          },
          "geo": {
           "bgcolor": "white",
           "lakecolor": "white",
           "landcolor": "#E5ECF6",
           "showlakes": true,
           "showland": true,
           "subunitcolor": "white"
          },
          "hoverlabel": {
           "align": "left"
          },
          "hovermode": "closest",
          "mapbox": {
           "style": "light"
          },
          "paper_bgcolor": "white",
          "plot_bgcolor": "#E5ECF6",
          "polar": {
           "angularaxis": {
            "gridcolor": "white",
            "linecolor": "white",
            "ticks": ""
           },
           "bgcolor": "#E5ECF6",
           "radialaxis": {
            "gridcolor": "white",
            "linecolor": "white",
            "ticks": ""
           }
          },
          "scene": {
           "xaxis": {
            "backgroundcolor": "#E5ECF6",
            "gridcolor": "white",
            "gridwidth": 2,
            "linecolor": "white",
            "showbackground": true,
            "ticks": "",
            "zerolinecolor": "white"
           },
           "yaxis": {
            "backgroundcolor": "#E5ECF6",
            "gridcolor": "white",
            "gridwidth": 2,
            "linecolor": "white",
            "showbackground": true,
            "ticks": "",
            "zerolinecolor": "white"
           },
           "zaxis": {
            "backgroundcolor": "#E5ECF6",
            "gridcolor": "white",
            "gridwidth": 2,
            "linecolor": "white",
            "showbackground": true,
            "ticks": "",
            "zerolinecolor": "white"
           }
          },
          "shapedefaults": {
           "line": {
            "color": "#2a3f5f"
           }
          },
          "ternary": {
           "aaxis": {
            "gridcolor": "white",
            "linecolor": "white",
            "ticks": ""
           },
           "baxis": {
            "gridcolor": "white",
            "linecolor": "white",
            "ticks": ""
           },
           "bgcolor": "#E5ECF6",
           "caxis": {
            "gridcolor": "white",
            "linecolor": "white",
            "ticks": ""
           }
          },
          "title": {
           "x": 0.05
          },
          "xaxis": {
           "automargin": true,
           "gridcolor": "white",
           "linecolor": "white",
           "ticks": "",
           "title": {
            "standoff": 15
           },
           "zerolinecolor": "white",
           "zerolinewidth": 2
          },
          "yaxis": {
           "automargin": true,
           "gridcolor": "white",
           "linecolor": "white",
           "ticks": "",
           "title": {
            "standoff": 15
           },
           "zerolinecolor": "white",
           "zerolinewidth": 2
          }
         }
        },
        "xaxis": {
         "anchor": "y",
         "domain": [
          0,
          1
         ],
         "title": {
          "text": "Rating"
         }
        },
        "yaxis": {
         "anchor": "x",
         "domain": [
          0,
          1
         ],
         "title": {
          "text": "Anzahl der Weine"
         }
        }
       }
      }
     },
     "metadata": {},
     "output_type": "display_data"
    }
   ],
   "source": [
    "# Bar Plot: Verteilung der Ratings \n",
    "\n",
    "counts_nach_rating = df[\"Rating\"].value_counts().reset_index()\n",
    "counts_nach_rating= counts_nach_rating.sort_values(\"Rating\")\n",
    "\n",
    "counts_nach_rating[\"Rating\"] = counts_nach_rating[\"Rating\"].astype(str)\n",
    "counts_nach_rating[\"label\"] = counts_nach_rating[\"count\"].apply(lambda x: str(x) if x < 10 else \"\")\n",
    "\n",
    "fig = px.bar(counts_nach_rating, x=\"Rating\", y=\"count\", text=\"label\", color_discrete_sequence=[\"#146c91\"])\n",
    "fig.update_traces(textangle=45)\n",
    "fig.update_layout(yaxis_title=\"Anzahl der Weine\", xaxis_title=\"Rating\")\n",
    "fig.show()"
   ]
  },
  {
   "cell_type": "code",
   "execution_count": 13,
   "metadata": {},
   "outputs": [
    {
     "data": {
      "application/vnd.plotly.v1+json": {
       "config": {
        "plotlyServerURL": "https://plot.ly"
       },
       "data": [
        {
         "coloraxis": "coloraxis",
         "hovertemplate": "x: %{x}<br>y: %{y}<br>color: %{z}<extra></extra>",
         "name": "0",
         "texttemplate": "%{z}",
         "type": "heatmap",
         "x": [
          "Year",
          "Rating",
          "NumberOfRatings",
          "Price"
         ],
         "xaxis": "x",
         "y": [
          "Year",
          "Rating",
          "NumberOfRatings",
          "Price"
         ],
         "yaxis": "y",
         "z": {
          "bdata": "AAAAAAAA8D/D9Shcj8LVv3sUrkfhepS/UrgehetR2L/D9Shcj8LVvwAAAAAAAPA/7FG4HoXrsT/NzMzMzMzcP3sUrkfhepS/7FG4HoXrsT8AAAAAAADwP3sUrkfhepQ/UrgehetR2L/NzMzMzMzcP3sUrkfhepQ/AAAAAAAA8D8=",
          "dtype": "f8",
          "shape": "4, 4"
         }
        }
       ],
       "layout": {
        "coloraxis": {
         "colorscale": [
          [
           0,
           "rgb(255,255,217)"
          ],
          [
           0.125,
           "rgb(237,248,177)"
          ],
          [
           0.25,
           "rgb(199,233,180)"
          ],
          [
           0.375,
           "rgb(127,205,187)"
          ],
          [
           0.5,
           "rgb(65,182,196)"
          ],
          [
           0.625,
           "rgb(29,145,192)"
          ],
          [
           0.75,
           "rgb(34,94,168)"
          ],
          [
           0.875,
           "rgb(37,52,148)"
          ],
          [
           1,
           "rgb(8,29,88)"
          ]
         ]
        },
        "margin": {
         "t": 60
        },
        "template": {
         "data": {
          "bar": [
           {
            "error_x": {
             "color": "#2a3f5f"
            },
            "error_y": {
             "color": "#2a3f5f"
            },
            "marker": {
             "line": {
              "color": "#E5ECF6",
              "width": 0.5
             },
             "pattern": {
              "fillmode": "overlay",
              "size": 10,
              "solidity": 0.2
             }
            },
            "type": "bar"
           }
          ],
          "barpolar": [
           {
            "marker": {
             "line": {
              "color": "#E5ECF6",
              "width": 0.5
             },
             "pattern": {
              "fillmode": "overlay",
              "size": 10,
              "solidity": 0.2
             }
            },
            "type": "barpolar"
           }
          ],
          "carpet": [
           {
            "aaxis": {
             "endlinecolor": "#2a3f5f",
             "gridcolor": "white",
             "linecolor": "white",
             "minorgridcolor": "white",
             "startlinecolor": "#2a3f5f"
            },
            "baxis": {
             "endlinecolor": "#2a3f5f",
             "gridcolor": "white",
             "linecolor": "white",
             "minorgridcolor": "white",
             "startlinecolor": "#2a3f5f"
            },
            "type": "carpet"
           }
          ],
          "choropleth": [
           {
            "colorbar": {
             "outlinewidth": 0,
             "ticks": ""
            },
            "type": "choropleth"
           }
          ],
          "contour": [
           {
            "colorbar": {
             "outlinewidth": 0,
             "ticks": ""
            },
            "colorscale": [
             [
              0,
              "#0d0887"
             ],
             [
              0.1111111111111111,
              "#46039f"
             ],
             [
              0.2222222222222222,
              "#7201a8"
             ],
             [
              0.3333333333333333,
              "#9c179e"
             ],
             [
              0.4444444444444444,
              "#bd3786"
             ],
             [
              0.5555555555555556,
              "#d8576b"
             ],
             [
              0.6666666666666666,
              "#ed7953"
             ],
             [
              0.7777777777777778,
              "#fb9f3a"
             ],
             [
              0.8888888888888888,
              "#fdca26"
             ],
             [
              1,
              "#f0f921"
             ]
            ],
            "type": "contour"
           }
          ],
          "contourcarpet": [
           {
            "colorbar": {
             "outlinewidth": 0,
             "ticks": ""
            },
            "type": "contourcarpet"
           }
          ],
          "heatmap": [
           {
            "colorbar": {
             "outlinewidth": 0,
             "ticks": ""
            },
            "colorscale": [
             [
              0,
              "#0d0887"
             ],
             [
              0.1111111111111111,
              "#46039f"
             ],
             [
              0.2222222222222222,
              "#7201a8"
             ],
             [
              0.3333333333333333,
              "#9c179e"
             ],
             [
              0.4444444444444444,
              "#bd3786"
             ],
             [
              0.5555555555555556,
              "#d8576b"
             ],
             [
              0.6666666666666666,
              "#ed7953"
             ],
             [
              0.7777777777777778,
              "#fb9f3a"
             ],
             [
              0.8888888888888888,
              "#fdca26"
             ],
             [
              1,
              "#f0f921"
             ]
            ],
            "type": "heatmap"
           }
          ],
          "histogram": [
           {
            "marker": {
             "pattern": {
              "fillmode": "overlay",
              "size": 10,
              "solidity": 0.2
             }
            },
            "type": "histogram"
           }
          ],
          "histogram2d": [
           {
            "colorbar": {
             "outlinewidth": 0,
             "ticks": ""
            },
            "colorscale": [
             [
              0,
              "#0d0887"
             ],
             [
              0.1111111111111111,
              "#46039f"
             ],
             [
              0.2222222222222222,
              "#7201a8"
             ],
             [
              0.3333333333333333,
              "#9c179e"
             ],
             [
              0.4444444444444444,
              "#bd3786"
             ],
             [
              0.5555555555555556,
              "#d8576b"
             ],
             [
              0.6666666666666666,
              "#ed7953"
             ],
             [
              0.7777777777777778,
              "#fb9f3a"
             ],
             [
              0.8888888888888888,
              "#fdca26"
             ],
             [
              1,
              "#f0f921"
             ]
            ],
            "type": "histogram2d"
           }
          ],
          "histogram2dcontour": [
           {
            "colorbar": {
             "outlinewidth": 0,
             "ticks": ""
            },
            "colorscale": [
             [
              0,
              "#0d0887"
             ],
             [
              0.1111111111111111,
              "#46039f"
             ],
             [
              0.2222222222222222,
              "#7201a8"
             ],
             [
              0.3333333333333333,
              "#9c179e"
             ],
             [
              0.4444444444444444,
              "#bd3786"
             ],
             [
              0.5555555555555556,
              "#d8576b"
             ],
             [
              0.6666666666666666,
              "#ed7953"
             ],
             [
              0.7777777777777778,
              "#fb9f3a"
             ],
             [
              0.8888888888888888,
              "#fdca26"
             ],
             [
              1,
              "#f0f921"
             ]
            ],
            "type": "histogram2dcontour"
           }
          ],
          "mesh3d": [
           {
            "colorbar": {
             "outlinewidth": 0,
             "ticks": ""
            },
            "type": "mesh3d"
           }
          ],
          "parcoords": [
           {
            "line": {
             "colorbar": {
              "outlinewidth": 0,
              "ticks": ""
             }
            },
            "type": "parcoords"
           }
          ],
          "pie": [
           {
            "automargin": true,
            "type": "pie"
           }
          ],
          "scatter": [
           {
            "fillpattern": {
             "fillmode": "overlay",
             "size": 10,
             "solidity": 0.2
            },
            "type": "scatter"
           }
          ],
          "scatter3d": [
           {
            "line": {
             "colorbar": {
              "outlinewidth": 0,
              "ticks": ""
             }
            },
            "marker": {
             "colorbar": {
              "outlinewidth": 0,
              "ticks": ""
             }
            },
            "type": "scatter3d"
           }
          ],
          "scattercarpet": [
           {
            "marker": {
             "colorbar": {
              "outlinewidth": 0,
              "ticks": ""
             }
            },
            "type": "scattercarpet"
           }
          ],
          "scattergeo": [
           {
            "marker": {
             "colorbar": {
              "outlinewidth": 0,
              "ticks": ""
             }
            },
            "type": "scattergeo"
           }
          ],
          "scattergl": [
           {
            "marker": {
             "colorbar": {
              "outlinewidth": 0,
              "ticks": ""
             }
            },
            "type": "scattergl"
           }
          ],
          "scattermap": [
           {
            "marker": {
             "colorbar": {
              "outlinewidth": 0,
              "ticks": ""
             }
            },
            "type": "scattermap"
           }
          ],
          "scattermapbox": [
           {
            "marker": {
             "colorbar": {
              "outlinewidth": 0,
              "ticks": ""
             }
            },
            "type": "scattermapbox"
           }
          ],
          "scatterpolar": [
           {
            "marker": {
             "colorbar": {
              "outlinewidth": 0,
              "ticks": ""
             }
            },
            "type": "scatterpolar"
           }
          ],
          "scatterpolargl": [
           {
            "marker": {
             "colorbar": {
              "outlinewidth": 0,
              "ticks": ""
             }
            },
            "type": "scatterpolargl"
           }
          ],
          "scatterternary": [
           {
            "marker": {
             "colorbar": {
              "outlinewidth": 0,
              "ticks": ""
             }
            },
            "type": "scatterternary"
           }
          ],
          "surface": [
           {
            "colorbar": {
             "outlinewidth": 0,
             "ticks": ""
            },
            "colorscale": [
             [
              0,
              "#0d0887"
             ],
             [
              0.1111111111111111,
              "#46039f"
             ],
             [
              0.2222222222222222,
              "#7201a8"
             ],
             [
              0.3333333333333333,
              "#9c179e"
             ],
             [
              0.4444444444444444,
              "#bd3786"
             ],
             [
              0.5555555555555556,
              "#d8576b"
             ],
             [
              0.6666666666666666,
              "#ed7953"
             ],
             [
              0.7777777777777778,
              "#fb9f3a"
             ],
             [
              0.8888888888888888,
              "#fdca26"
             ],
             [
              1,
              "#f0f921"
             ]
            ],
            "type": "surface"
           }
          ],
          "table": [
           {
            "cells": {
             "fill": {
              "color": "#EBF0F8"
             },
             "line": {
              "color": "white"
             }
            },
            "header": {
             "fill": {
              "color": "#C8D4E3"
             },
             "line": {
              "color": "white"
             }
            },
            "type": "table"
           }
          ]
         },
         "layout": {
          "annotationdefaults": {
           "arrowcolor": "#2a3f5f",
           "arrowhead": 0,
           "arrowwidth": 1
          },
          "autotypenumbers": "strict",
          "coloraxis": {
           "colorbar": {
            "outlinewidth": 0,
            "ticks": ""
           }
          },
          "colorscale": {
           "diverging": [
            [
             0,
             "#8e0152"
            ],
            [
             0.1,
             "#c51b7d"
            ],
            [
             0.2,
             "#de77ae"
            ],
            [
             0.3,
             "#f1b6da"
            ],
            [
             0.4,
             "#fde0ef"
            ],
            [
             0.5,
             "#f7f7f7"
            ],
            [
             0.6,
             "#e6f5d0"
            ],
            [
             0.7,
             "#b8e186"
            ],
            [
             0.8,
             "#7fbc41"
            ],
            [
             0.9,
             "#4d9221"
            ],
            [
             1,
             "#276419"
            ]
           ],
           "sequential": [
            [
             0,
             "#0d0887"
            ],
            [
             0.1111111111111111,
             "#46039f"
            ],
            [
             0.2222222222222222,
             "#7201a8"
            ],
            [
             0.3333333333333333,
             "#9c179e"
            ],
            [
             0.4444444444444444,
             "#bd3786"
            ],
            [
             0.5555555555555556,
             "#d8576b"
            ],
            [
             0.6666666666666666,
             "#ed7953"
            ],
            [
             0.7777777777777778,
             "#fb9f3a"
            ],
            [
             0.8888888888888888,
             "#fdca26"
            ],
            [
             1,
             "#f0f921"
            ]
           ],
           "sequentialminus": [
            [
             0,
             "#0d0887"
            ],
            [
             0.1111111111111111,
             "#46039f"
            ],
            [
             0.2222222222222222,
             "#7201a8"
            ],
            [
             0.3333333333333333,
             "#9c179e"
            ],
            [
             0.4444444444444444,
             "#bd3786"
            ],
            [
             0.5555555555555556,
             "#d8576b"
            ],
            [
             0.6666666666666666,
             "#ed7953"
            ],
            [
             0.7777777777777778,
             "#fb9f3a"
            ],
            [
             0.8888888888888888,
             "#fdca26"
            ],
            [
             1,
             "#f0f921"
            ]
           ]
          },
          "colorway": [
           "#636efa",
           "#EF553B",
           "#00cc96",
           "#ab63fa",
           "#FFA15A",
           "#19d3f3",
           "#FF6692",
           "#B6E880",
           "#FF97FF",
           "#FECB52"
          ],
          "font": {
           "color": "#2a3f5f"
          },
          "geo": {
           "bgcolor": "white",
           "lakecolor": "white",
           "landcolor": "#E5ECF6",
           "showlakes": true,
           "showland": true,
           "subunitcolor": "white"
          },
          "hoverlabel": {
           "align": "left"
          },
          "hovermode": "closest",
          "mapbox": {
           "style": "light"
          },
          "paper_bgcolor": "white",
          "plot_bgcolor": "#E5ECF6",
          "polar": {
           "angularaxis": {
            "gridcolor": "white",
            "linecolor": "white",
            "ticks": ""
           },
           "bgcolor": "#E5ECF6",
           "radialaxis": {
            "gridcolor": "white",
            "linecolor": "white",
            "ticks": ""
           }
          },
          "scene": {
           "xaxis": {
            "backgroundcolor": "#E5ECF6",
            "gridcolor": "white",
            "gridwidth": 2,
            "linecolor": "white",
            "showbackground": true,
            "ticks": "",
            "zerolinecolor": "white"
           },
           "yaxis": {
            "backgroundcolor": "#E5ECF6",
            "gridcolor": "white",
            "gridwidth": 2,
            "linecolor": "white",
            "showbackground": true,
            "ticks": "",
            "zerolinecolor": "white"
           },
           "zaxis": {
            "backgroundcolor": "#E5ECF6",
            "gridcolor": "white",
            "gridwidth": 2,
            "linecolor": "white",
            "showbackground": true,
            "ticks": "",
            "zerolinecolor": "white"
           }
          },
          "shapedefaults": {
           "line": {
            "color": "#2a3f5f"
           }
          },
          "ternary": {
           "aaxis": {
            "gridcolor": "white",
            "linecolor": "white",
            "ticks": ""
           },
           "baxis": {
            "gridcolor": "white",
            "linecolor": "white",
            "ticks": ""
           },
           "bgcolor": "#E5ECF6",
           "caxis": {
            "gridcolor": "white",
            "linecolor": "white",
            "ticks": ""
           }
          },
          "title": {
           "x": 0.05
          },
          "xaxis": {
           "automargin": true,
           "gridcolor": "white",
           "linecolor": "white",
           "ticks": "",
           "title": {
            "standoff": 15
           },
           "zerolinecolor": "white",
           "zerolinewidth": 2
          },
          "yaxis": {
           "automargin": true,
           "gridcolor": "white",
           "linecolor": "white",
           "ticks": "",
           "title": {
            "standoff": 15
           },
           "zerolinecolor": "white",
           "zerolinewidth": 2
          }
         }
        },
        "xaxis": {
         "anchor": "y",
         "constrain": "domain",
         "domain": [
          0,
          1
         ],
         "scaleanchor": "y"
        },
        "yaxis": {
         "anchor": "x",
         "autorange": "reversed",
         "constrain": "domain",
         "domain": [
          0,
          1
         ]
        }
       }
      }
     },
     "metadata": {},
     "output_type": "display_data"
    }
   ],
   "source": [
    "# Heatmap: Korrelation numerischer Spalten\n",
    "numerische_spalten = df[[\"Year\", \"Rating\", \"NumberOfRatings\", \"Price\"]]\n",
    "heatmap = numerische_spalten.corr().round(2)\n",
    "\n",
    "fig = px.imshow(heatmap, text_auto=True, color_continuous_scale=\"YlGnBu\")\n",
    "fig.show()"
   ]
  },
  {
   "cell_type": "code",
   "execution_count": 14,
   "metadata": {},
   "outputs": [
    {
     "data": {
      "application/vnd.plotly.v1+json": {
       "config": {
        "plotlyServerURL": "https://plot.ly"
       },
       "data": [
        {
         "marker": {
          "color": "#146c91"
         },
         "type": "bar",
         "x": [
          "Argentina",
          "Australia",
          "Austria",
          "Brazil",
          "Bulgaria",
          "Canada",
          "Chile",
          "China",
          "Croatia",
          "Czech Republic",
          "France",
          "Georgia",
          "Germany",
          "Greece",
          "Hungary",
          "Israel",
          "Italy",
          "Lebanon",
          "Luxembourg",
          "Mexico",
          "Moldova",
          "New Zealand",
          "Portugal",
          "Romania",
          "Slovakia",
          "Slovenia",
          "South Africa",
          "Spain",
          "Switzerland",
          "Turkey",
          "United Kingdom",
          "United States",
          "Uruguay"
         ],
         "xaxis": "x",
         "y": {
          "bdata": "F96yc1KEDkAA2sFS7U0OQIY7Z7hzhg5AFK5H4XoUDEBmZmZmZmYOQHh3d3d3dwtAB6cGWBHKDUCZmZmZmZkJQFVVVVVVVRBAMzMzMzMzEEDsHab7bnYPQAy90Au90A9AF98V8zXxDkBFtvP91HgNQOiWOPV7bg1AYJdUPoz7DUD0s9YqswoPQM3MzMzMjBBAJUmSJEmSDkAzMzMzMzMLQDMzMzMzsxBAwEb8a8S/DkBdyqVcyuUOQBhenIeO4Q1AAAAAAAAADkCg9Emf9EkNQJqCA+H/ag5ArGfg0bR6DkDqTW9605sOQEjhehSuRw1AIiIiIiIiEEBM/QUFPhsPQD0K16NwPQ5A",
          "dtype": "f8"
         },
         "yaxis": "y"
        },
        {
         "marker": {
          "color": "#FF3358"
         },
         "type": "scatter",
         "x": [
          "Argentina",
          "Australia",
          "Austria",
          "Brazil",
          "Bulgaria",
          "Canada",
          "Chile",
          "China",
          "Croatia",
          "Czech Republic",
          "France",
          "Georgia",
          "Germany",
          "Greece",
          "Hungary",
          "Israel",
          "Italy",
          "Lebanon",
          "Luxembourg",
          "Mexico",
          "Moldova",
          "New Zealand",
          "Portugal",
          "Romania",
          "Slovakia",
          "Slovenia",
          "South Africa",
          "Spain",
          "Switzerland",
          "Turkey",
          "United Kingdom",
          "United States",
          "Uruguay"
         ],
         "xaxis": "x",
         "y": {
          "bdata": "hLlp4S3rNED3AMci/GNCQKhgfQrWZzRA2PD0SllmMUDMzMzMzEwkQN3d3d3d3S1Ao0aVUw4jM0AHOm2g00Y7QHd3d3d39zVAZmZmZmZmOUCh3SDJCMVLQDaM9pvynDNAtY1QDHLoNUC4jQbwFkgvQFfNebrSuypAvGcpnaGrL0AmT8KVy0M9QJqZmZmZcUJAb4xgor8zM0DNzMzMzEwhQNejcD0KBzhAwyFgTzWpNEAIdVAHdcAxQB46hhfnoSlAZmZmZmbmM0CamZmZmRkqQFJKXmcOQzJA4eaMctd6NkCSB1E2+vI8QOtRuB6F6y9Aw/UoXI/iTEBS8qHBDdxFQJVDi2zn+yxA",
          "dtype": "f8"
         },
         "yaxis": "y2"
        }
       ],
       "layout": {
        "showlegend": false,
        "template": {
         "data": {
          "bar": [
           {
            "error_x": {
             "color": "#2a3f5f"
            },
            "error_y": {
             "color": "#2a3f5f"
            },
            "marker": {
             "line": {
              "color": "#E5ECF6",
              "width": 0.5
             },
             "pattern": {
              "fillmode": "overlay",
              "size": 10,
              "solidity": 0.2
             }
            },
            "type": "bar"
           }
          ],
          "barpolar": [
           {
            "marker": {
             "line": {
              "color": "#E5ECF6",
              "width": 0.5
             },
             "pattern": {
              "fillmode": "overlay",
              "size": 10,
              "solidity": 0.2
             }
            },
            "type": "barpolar"
           }
          ],
          "carpet": [
           {
            "aaxis": {
             "endlinecolor": "#2a3f5f",
             "gridcolor": "white",
             "linecolor": "white",
             "minorgridcolor": "white",
             "startlinecolor": "#2a3f5f"
            },
            "baxis": {
             "endlinecolor": "#2a3f5f",
             "gridcolor": "white",
             "linecolor": "white",
             "minorgridcolor": "white",
             "startlinecolor": "#2a3f5f"
            },
            "type": "carpet"
           }
          ],
          "choropleth": [
           {
            "colorbar": {
             "outlinewidth": 0,
             "ticks": ""
            },
            "type": "choropleth"
           }
          ],
          "contour": [
           {
            "colorbar": {
             "outlinewidth": 0,
             "ticks": ""
            },
            "colorscale": [
             [
              0,
              "#0d0887"
             ],
             [
              0.1111111111111111,
              "#46039f"
             ],
             [
              0.2222222222222222,
              "#7201a8"
             ],
             [
              0.3333333333333333,
              "#9c179e"
             ],
             [
              0.4444444444444444,
              "#bd3786"
             ],
             [
              0.5555555555555556,
              "#d8576b"
             ],
             [
              0.6666666666666666,
              "#ed7953"
             ],
             [
              0.7777777777777778,
              "#fb9f3a"
             ],
             [
              0.8888888888888888,
              "#fdca26"
             ],
             [
              1,
              "#f0f921"
             ]
            ],
            "type": "contour"
           }
          ],
          "contourcarpet": [
           {
            "colorbar": {
             "outlinewidth": 0,
             "ticks": ""
            },
            "type": "contourcarpet"
           }
          ],
          "heatmap": [
           {
            "colorbar": {
             "outlinewidth": 0,
             "ticks": ""
            },
            "colorscale": [
             [
              0,
              "#0d0887"
             ],
             [
              0.1111111111111111,
              "#46039f"
             ],
             [
              0.2222222222222222,
              "#7201a8"
             ],
             [
              0.3333333333333333,
              "#9c179e"
             ],
             [
              0.4444444444444444,
              "#bd3786"
             ],
             [
              0.5555555555555556,
              "#d8576b"
             ],
             [
              0.6666666666666666,
              "#ed7953"
             ],
             [
              0.7777777777777778,
              "#fb9f3a"
             ],
             [
              0.8888888888888888,
              "#fdca26"
             ],
             [
              1,
              "#f0f921"
             ]
            ],
            "type": "heatmap"
           }
          ],
          "histogram": [
           {
            "marker": {
             "pattern": {
              "fillmode": "overlay",
              "size": 10,
              "solidity": 0.2
             }
            },
            "type": "histogram"
           }
          ],
          "histogram2d": [
           {
            "colorbar": {
             "outlinewidth": 0,
             "ticks": ""
            },
            "colorscale": [
             [
              0,
              "#0d0887"
             ],
             [
              0.1111111111111111,
              "#46039f"
             ],
             [
              0.2222222222222222,
              "#7201a8"
             ],
             [
              0.3333333333333333,
              "#9c179e"
             ],
             [
              0.4444444444444444,
              "#bd3786"
             ],
             [
              0.5555555555555556,
              "#d8576b"
             ],
             [
              0.6666666666666666,
              "#ed7953"
             ],
             [
              0.7777777777777778,
              "#fb9f3a"
             ],
             [
              0.8888888888888888,
              "#fdca26"
             ],
             [
              1,
              "#f0f921"
             ]
            ],
            "type": "histogram2d"
           }
          ],
          "histogram2dcontour": [
           {
            "colorbar": {
             "outlinewidth": 0,
             "ticks": ""
            },
            "colorscale": [
             [
              0,
              "#0d0887"
             ],
             [
              0.1111111111111111,
              "#46039f"
             ],
             [
              0.2222222222222222,
              "#7201a8"
             ],
             [
              0.3333333333333333,
              "#9c179e"
             ],
             [
              0.4444444444444444,
              "#bd3786"
             ],
             [
              0.5555555555555556,
              "#d8576b"
             ],
             [
              0.6666666666666666,
              "#ed7953"
             ],
             [
              0.7777777777777778,
              "#fb9f3a"
             ],
             [
              0.8888888888888888,
              "#fdca26"
             ],
             [
              1,
              "#f0f921"
             ]
            ],
            "type": "histogram2dcontour"
           }
          ],
          "mesh3d": [
           {
            "colorbar": {
             "outlinewidth": 0,
             "ticks": ""
            },
            "type": "mesh3d"
           }
          ],
          "parcoords": [
           {
            "line": {
             "colorbar": {
              "outlinewidth": 0,
              "ticks": ""
             }
            },
            "type": "parcoords"
           }
          ],
          "pie": [
           {
            "automargin": true,
            "type": "pie"
           }
          ],
          "scatter": [
           {
            "fillpattern": {
             "fillmode": "overlay",
             "size": 10,
             "solidity": 0.2
            },
            "type": "scatter"
           }
          ],
          "scatter3d": [
           {
            "line": {
             "colorbar": {
              "outlinewidth": 0,
              "ticks": ""
             }
            },
            "marker": {
             "colorbar": {
              "outlinewidth": 0,
              "ticks": ""
             }
            },
            "type": "scatter3d"
           }
          ],
          "scattercarpet": [
           {
            "marker": {
             "colorbar": {
              "outlinewidth": 0,
              "ticks": ""
             }
            },
            "type": "scattercarpet"
           }
          ],
          "scattergeo": [
           {
            "marker": {
             "colorbar": {
              "outlinewidth": 0,
              "ticks": ""
             }
            },
            "type": "scattergeo"
           }
          ],
          "scattergl": [
           {
            "marker": {
             "colorbar": {
              "outlinewidth": 0,
              "ticks": ""
             }
            },
            "type": "scattergl"
           }
          ],
          "scattermap": [
           {
            "marker": {
             "colorbar": {
              "outlinewidth": 0,
              "ticks": ""
             }
            },
            "type": "scattermap"
           }
          ],
          "scattermapbox": [
           {
            "marker": {
             "colorbar": {
              "outlinewidth": 0,
              "ticks": ""
             }
            },
            "type": "scattermapbox"
           }
          ],
          "scatterpolar": [
           {
            "marker": {
             "colorbar": {
              "outlinewidth": 0,
              "ticks": ""
             }
            },
            "type": "scatterpolar"
           }
          ],
          "scatterpolargl": [
           {
            "marker": {
             "colorbar": {
              "outlinewidth": 0,
              "ticks": ""
             }
            },
            "type": "scatterpolargl"
           }
          ],
          "scatterternary": [
           {
            "marker": {
             "colorbar": {
              "outlinewidth": 0,
              "ticks": ""
             }
            },
            "type": "scatterternary"
           }
          ],
          "surface": [
           {
            "colorbar": {
             "outlinewidth": 0,
             "ticks": ""
            },
            "colorscale": [
             [
              0,
              "#0d0887"
             ],
             [
              0.1111111111111111,
              "#46039f"
             ],
             [
              0.2222222222222222,
              "#7201a8"
             ],
             [
              0.3333333333333333,
              "#9c179e"
             ],
             [
              0.4444444444444444,
              "#bd3786"
             ],
             [
              0.5555555555555556,
              "#d8576b"
             ],
             [
              0.6666666666666666,
              "#ed7953"
             ],
             [
              0.7777777777777778,
              "#fb9f3a"
             ],
             [
              0.8888888888888888,
              "#fdca26"
             ],
             [
              1,
              "#f0f921"
             ]
            ],
            "type": "surface"
           }
          ],
          "table": [
           {
            "cells": {
             "fill": {
              "color": "#EBF0F8"
             },
             "line": {
              "color": "white"
             }
            },
            "header": {
             "fill": {
              "color": "#C8D4E3"
             },
             "line": {
              "color": "white"
             }
            },
            "type": "table"
           }
          ]
         },
         "layout": {
          "annotationdefaults": {
           "arrowcolor": "#2a3f5f",
           "arrowhead": 0,
           "arrowwidth": 1
          },
          "autotypenumbers": "strict",
          "coloraxis": {
           "colorbar": {
            "outlinewidth": 0,
            "ticks": ""
           }
          },
          "colorscale": {
           "diverging": [
            [
             0,
             "#8e0152"
            ],
            [
             0.1,
             "#c51b7d"
            ],
            [
             0.2,
             "#de77ae"
            ],
            [
             0.3,
             "#f1b6da"
            ],
            [
             0.4,
             "#fde0ef"
            ],
            [
             0.5,
             "#f7f7f7"
            ],
            [
             0.6,
             "#e6f5d0"
            ],
            [
             0.7,
             "#b8e186"
            ],
            [
             0.8,
             "#7fbc41"
            ],
            [
             0.9,
             "#4d9221"
            ],
            [
             1,
             "#276419"
            ]
           ],
           "sequential": [
            [
             0,
             "#0d0887"
            ],
            [
             0.1111111111111111,
             "#46039f"
            ],
            [
             0.2222222222222222,
             "#7201a8"
            ],
            [
             0.3333333333333333,
             "#9c179e"
            ],
            [
             0.4444444444444444,
             "#bd3786"
            ],
            [
             0.5555555555555556,
             "#d8576b"
            ],
            [
             0.6666666666666666,
             "#ed7953"
            ],
            [
             0.7777777777777778,
             "#fb9f3a"
            ],
            [
             0.8888888888888888,
             "#fdca26"
            ],
            [
             1,
             "#f0f921"
            ]
           ],
           "sequentialminus": [
            [
             0,
             "#0d0887"
            ],
            [
             0.1111111111111111,
             "#46039f"
            ],
            [
             0.2222222222222222,
             "#7201a8"
            ],
            [
             0.3333333333333333,
             "#9c179e"
            ],
            [
             0.4444444444444444,
             "#bd3786"
            ],
            [
             0.5555555555555556,
             "#d8576b"
            ],
            [
             0.6666666666666666,
             "#ed7953"
            ],
            [
             0.7777777777777778,
             "#fb9f3a"
            ],
            [
             0.8888888888888888,
             "#fdca26"
            ],
            [
             1,
             "#f0f921"
            ]
           ]
          },
          "colorway": [
           "#636efa",
           "#EF553B",
           "#00cc96",
           "#ab63fa",
           "#FFA15A",
           "#19d3f3",
           "#FF6692",
           "#B6E880",
           "#FF97FF",
           "#FECB52"
          ],
          "font": {
           "color": "#2a3f5f"
          },
          "geo": {
           "bgcolor": "white",
           "lakecolor": "white",
           "landcolor": "#E5ECF6",
           "showlakes": true,
           "showland": true,
           "subunitcolor": "white"
          },
          "hoverlabel": {
           "align": "left"
          },
          "hovermode": "closest",
          "mapbox": {
           "style": "light"
          },
          "paper_bgcolor": "white",
          "plot_bgcolor": "#E5ECF6",
          "polar": {
           "angularaxis": {
            "gridcolor": "white",
            "linecolor": "white",
            "ticks": ""
           },
           "bgcolor": "#E5ECF6",
           "radialaxis": {
            "gridcolor": "white",
            "linecolor": "white",
            "ticks": ""
           }
          },
          "scene": {
           "xaxis": {
            "backgroundcolor": "#E5ECF6",
            "gridcolor": "white",
            "gridwidth": 2,
            "linecolor": "white",
            "showbackground": true,
            "ticks": "",
            "zerolinecolor": "white"
           },
           "yaxis": {
            "backgroundcolor": "#E5ECF6",
            "gridcolor": "white",
            "gridwidth": 2,
            "linecolor": "white",
            "showbackground": true,
            "ticks": "",
            "zerolinecolor": "white"
           },
           "zaxis": {
            "backgroundcolor": "#E5ECF6",
            "gridcolor": "white",
            "gridwidth": 2,
            "linecolor": "white",
            "showbackground": true,
            "ticks": "",
            "zerolinecolor": "white"
           }
          },
          "shapedefaults": {
           "line": {
            "color": "#2a3f5f"
           }
          },
          "ternary": {
           "aaxis": {
            "gridcolor": "white",
            "linecolor": "white",
            "ticks": ""
           },
           "baxis": {
            "gridcolor": "white",
            "linecolor": "white",
            "ticks": ""
           },
           "bgcolor": "#E5ECF6",
           "caxis": {
            "gridcolor": "white",
            "linecolor": "white",
            "ticks": ""
           }
          },
          "title": {
           "x": 0.05
          },
          "xaxis": {
           "automargin": true,
           "gridcolor": "white",
           "linecolor": "white",
           "ticks": "",
           "title": {
            "standoff": 15
           },
           "zerolinecolor": "white",
           "zerolinewidth": 2
          },
          "yaxis": {
           "automargin": true,
           "gridcolor": "white",
           "linecolor": "white",
           "ticks": "",
           "title": {
            "standoff": 15
           },
           "zerolinecolor": "white",
           "zerolinewidth": 2
          }
         }
        },
        "title": {
         "text": "Durchschnitt von Rating & Preis nach Ländern"
        },
        "xaxis": {
         "anchor": "y",
         "domain": [
          0,
          0.94
         ]
        },
        "yaxis": {
         "anchor": "x",
         "domain": [
          0,
          1
         ],
         "range": [
          1,
          4.375
         ],
         "tickfont": {
          "color": "#146c91"
         },
         "title": {
          "font": {
           "color": "#146c91"
          },
          "text": "Durchschnittliches Rating"
         }
        },
        "yaxis2": {
         "anchor": "x",
         "overlaying": "y",
         "range": [
          0,
          60
         ],
         "side": "right",
         "tickfont": {
          "color": "#FF3358"
         },
         "title": {
          "font": {
           "color": "#FF3358"
          },
          "text": "Durchschnittlicher Preis"
         }
        }
       }
      }
     },
     "metadata": {},
     "output_type": "display_data"
    }
   ],
   "source": [
    "# Plot: Average Price per Country UND average Rating per country\n",
    "fig = go.Figure()\n",
    "fig = make_subplots(specs=[[{\"secondary_y\": True}]])\n",
    "df_avg_prices = df.groupby(\"Country\")[\"Price\"].mean().reset_index()\n",
    "df_avg_ratings = df.groupby(\"Country\")[\"Rating\"].mean().reset_index()\n",
    "\n",
    "fig.add_trace(go.Bar(x=df_avg_ratings[\"Country\"], y=df_avg_ratings[\"Rating\"], marker=dict(color=\"#146c91\")),secondary_y=False)\n",
    "\n",
    "fig.add_trace(go.Scatter(x=df_avg_prices[\"Country\"],y=df_avg_prices[\"Price\"],marker=dict(color=\"#FF3358\")),secondary_y=True)\n",
    "\n",
    "min_avg_rating = df_avg_ratings[\"Rating\"].min()\n",
    "max_avg_rating = df_avg_ratings[\"Rating\"].max()\n",
    "fig.update_yaxes(title_text=\"Durchschnittliches Rating\", range=[1,max_avg_rating + 0.2], secondary_y=False, title_font=dict(color=\"#146c91\"),\n",
    "tickfont=dict(color=\"#146c91\"))\n",
    "fig.update_yaxes(title_text=\"Durchschnittlicher Preis\", range=[0,60],secondary_y=True, title_font=dict(color=\"#FF3358\"),\n",
    "    tickfont=dict(color=\"#FF3358\"))\n",
    "fig.update_layout(title=\"Durchschnitt von Rating & Preis nach Ländern\", showlegend=False)\n",
    "\n",
    "fig.show()"
   ]
  },
  {
   "cell_type": "code",
   "execution_count": 15,
   "metadata": {},
   "outputs": [
    {
     "data": {
      "application/vnd.plotly.v1+json": {
       "config": {
        "plotlyServerURL": "https://plot.ly"
       },
       "data": [
        {
         "hovertemplate": "Country=%{x}<br>Anzahl der Weine=%{y}<extra></extra>",
         "legendgroup": "",
         "marker": {
          "color": "#146c91",
          "pattern": {
           "shape": ""
          }
         },
         "name": "",
         "orientation": "v",
         "showlegend": false,
         "textposition": "outside",
         "type": "bar",
         "x": [
          "Italy",
          "France",
          "Spain",
          "Germany",
          "South Africa",
          "United States",
          "Austria",
          "Chile",
          "Portugal",
          "Australia"
         ],
         "xaxis": "x",
         "y": {
          "bdata": "Tw9sDf0FzQROAxIC7AGvAVABPgE=",
          "dtype": "i2"
         },
         "yaxis": "y"
        }
       ],
       "layout": {
        "barmode": "relative",
        "legend": {
         "tracegroupgap": 0
        },
        "margin": {
         "t": 60
        },
        "template": {
         "data": {
          "bar": [
           {
            "error_x": {
             "color": "#2a3f5f"
            },
            "error_y": {
             "color": "#2a3f5f"
            },
            "marker": {
             "line": {
              "color": "#E5ECF6",
              "width": 0.5
             },
             "pattern": {
              "fillmode": "overlay",
              "size": 10,
              "solidity": 0.2
             }
            },
            "type": "bar"
           }
          ],
          "barpolar": [
           {
            "marker": {
             "line": {
              "color": "#E5ECF6",
              "width": 0.5
             },
             "pattern": {
              "fillmode": "overlay",
              "size": 10,
              "solidity": 0.2
             }
            },
            "type": "barpolar"
           }
          ],
          "carpet": [
           {
            "aaxis": {
             "endlinecolor": "#2a3f5f",
             "gridcolor": "white",
             "linecolor": "white",
             "minorgridcolor": "white",
             "startlinecolor": "#2a3f5f"
            },
            "baxis": {
             "endlinecolor": "#2a3f5f",
             "gridcolor": "white",
             "linecolor": "white",
             "minorgridcolor": "white",
             "startlinecolor": "#2a3f5f"
            },
            "type": "carpet"
           }
          ],
          "choropleth": [
           {
            "colorbar": {
             "outlinewidth": 0,
             "ticks": ""
            },
            "type": "choropleth"
           }
          ],
          "contour": [
           {
            "colorbar": {
             "outlinewidth": 0,
             "ticks": ""
            },
            "colorscale": [
             [
              0,
              "#0d0887"
             ],
             [
              0.1111111111111111,
              "#46039f"
             ],
             [
              0.2222222222222222,
              "#7201a8"
             ],
             [
              0.3333333333333333,
              "#9c179e"
             ],
             [
              0.4444444444444444,
              "#bd3786"
             ],
             [
              0.5555555555555556,
              "#d8576b"
             ],
             [
              0.6666666666666666,
              "#ed7953"
             ],
             [
              0.7777777777777778,
              "#fb9f3a"
             ],
             [
              0.8888888888888888,
              "#fdca26"
             ],
             [
              1,
              "#f0f921"
             ]
            ],
            "type": "contour"
           }
          ],
          "contourcarpet": [
           {
            "colorbar": {
             "outlinewidth": 0,
             "ticks": ""
            },
            "type": "contourcarpet"
           }
          ],
          "heatmap": [
           {
            "colorbar": {
             "outlinewidth": 0,
             "ticks": ""
            },
            "colorscale": [
             [
              0,
              "#0d0887"
             ],
             [
              0.1111111111111111,
              "#46039f"
             ],
             [
              0.2222222222222222,
              "#7201a8"
             ],
             [
              0.3333333333333333,
              "#9c179e"
             ],
             [
              0.4444444444444444,
              "#bd3786"
             ],
             [
              0.5555555555555556,
              "#d8576b"
             ],
             [
              0.6666666666666666,
              "#ed7953"
             ],
             [
              0.7777777777777778,
              "#fb9f3a"
             ],
             [
              0.8888888888888888,
              "#fdca26"
             ],
             [
              1,
              "#f0f921"
             ]
            ],
            "type": "heatmap"
           }
          ],
          "histogram": [
           {
            "marker": {
             "pattern": {
              "fillmode": "overlay",
              "size": 10,
              "solidity": 0.2
             }
            },
            "type": "histogram"
           }
          ],
          "histogram2d": [
           {
            "colorbar": {
             "outlinewidth": 0,
             "ticks": ""
            },
            "colorscale": [
             [
              0,
              "#0d0887"
             ],
             [
              0.1111111111111111,
              "#46039f"
             ],
             [
              0.2222222222222222,
              "#7201a8"
             ],
             [
              0.3333333333333333,
              "#9c179e"
             ],
             [
              0.4444444444444444,
              "#bd3786"
             ],
             [
              0.5555555555555556,
              "#d8576b"
             ],
             [
              0.6666666666666666,
              "#ed7953"
             ],
             [
              0.7777777777777778,
              "#fb9f3a"
             ],
             [
              0.8888888888888888,
              "#fdca26"
             ],
             [
              1,
              "#f0f921"
             ]
            ],
            "type": "histogram2d"
           }
          ],
          "histogram2dcontour": [
           {
            "colorbar": {
             "outlinewidth": 0,
             "ticks": ""
            },
            "colorscale": [
             [
              0,
              "#0d0887"
             ],
             [
              0.1111111111111111,
              "#46039f"
             ],
             [
              0.2222222222222222,
              "#7201a8"
             ],
             [
              0.3333333333333333,
              "#9c179e"
             ],
             [
              0.4444444444444444,
              "#bd3786"
             ],
             [
              0.5555555555555556,
              "#d8576b"
             ],
             [
              0.6666666666666666,
              "#ed7953"
             ],
             [
              0.7777777777777778,
              "#fb9f3a"
             ],
             [
              0.8888888888888888,
              "#fdca26"
             ],
             [
              1,
              "#f0f921"
             ]
            ],
            "type": "histogram2dcontour"
           }
          ],
          "mesh3d": [
           {
            "colorbar": {
             "outlinewidth": 0,
             "ticks": ""
            },
            "type": "mesh3d"
           }
          ],
          "parcoords": [
           {
            "line": {
             "colorbar": {
              "outlinewidth": 0,
              "ticks": ""
             }
            },
            "type": "parcoords"
           }
          ],
          "pie": [
           {
            "automargin": true,
            "type": "pie"
           }
          ],
          "scatter": [
           {
            "fillpattern": {
             "fillmode": "overlay",
             "size": 10,
             "solidity": 0.2
            },
            "type": "scatter"
           }
          ],
          "scatter3d": [
           {
            "line": {
             "colorbar": {
              "outlinewidth": 0,
              "ticks": ""
             }
            },
            "marker": {
             "colorbar": {
              "outlinewidth": 0,
              "ticks": ""
             }
            },
            "type": "scatter3d"
           }
          ],
          "scattercarpet": [
           {
            "marker": {
             "colorbar": {
              "outlinewidth": 0,
              "ticks": ""
             }
            },
            "type": "scattercarpet"
           }
          ],
          "scattergeo": [
           {
            "marker": {
             "colorbar": {
              "outlinewidth": 0,
              "ticks": ""
             }
            },
            "type": "scattergeo"
           }
          ],
          "scattergl": [
           {
            "marker": {
             "colorbar": {
              "outlinewidth": 0,
              "ticks": ""
             }
            },
            "type": "scattergl"
           }
          ],
          "scattermap": [
           {
            "marker": {
             "colorbar": {
              "outlinewidth": 0,
              "ticks": ""
             }
            },
            "type": "scattermap"
           }
          ],
          "scattermapbox": [
           {
            "marker": {
             "colorbar": {
              "outlinewidth": 0,
              "ticks": ""
             }
            },
            "type": "scattermapbox"
           }
          ],
          "scatterpolar": [
           {
            "marker": {
             "colorbar": {
              "outlinewidth": 0,
              "ticks": ""
             }
            },
            "type": "scatterpolar"
           }
          ],
          "scatterpolargl": [
           {
            "marker": {
             "colorbar": {
              "outlinewidth": 0,
              "ticks": ""
             }
            },
            "type": "scatterpolargl"
           }
          ],
          "scatterternary": [
           {
            "marker": {
             "colorbar": {
              "outlinewidth": 0,
              "ticks": ""
             }
            },
            "type": "scatterternary"
           }
          ],
          "surface": [
           {
            "colorbar": {
             "outlinewidth": 0,
             "ticks": ""
            },
            "colorscale": [
             [
              0,
              "#0d0887"
             ],
             [
              0.1111111111111111,
              "#46039f"
             ],
             [
              0.2222222222222222,
              "#7201a8"
             ],
             [
              0.3333333333333333,
              "#9c179e"
             ],
             [
              0.4444444444444444,
              "#bd3786"
             ],
             [
              0.5555555555555556,
              "#d8576b"
             ],
             [
              0.6666666666666666,
              "#ed7953"
             ],
             [
              0.7777777777777778,
              "#fb9f3a"
             ],
             [
              0.8888888888888888,
              "#fdca26"
             ],
             [
              1,
              "#f0f921"
             ]
            ],
            "type": "surface"
           }
          ],
          "table": [
           {
            "cells": {
             "fill": {
              "color": "#EBF0F8"
             },
             "line": {
              "color": "white"
             }
            },
            "header": {
             "fill": {
              "color": "#C8D4E3"
             },
             "line": {
              "color": "white"
             }
            },
            "type": "table"
           }
          ]
         },
         "layout": {
          "annotationdefaults": {
           "arrowcolor": "#2a3f5f",
           "arrowhead": 0,
           "arrowwidth": 1
          },
          "autotypenumbers": "strict",
          "coloraxis": {
           "colorbar": {
            "outlinewidth": 0,
            "ticks": ""
           }
          },
          "colorscale": {
           "diverging": [
            [
             0,
             "#8e0152"
            ],
            [
             0.1,
             "#c51b7d"
            ],
            [
             0.2,
             "#de77ae"
            ],
            [
             0.3,
             "#f1b6da"
            ],
            [
             0.4,
             "#fde0ef"
            ],
            [
             0.5,
             "#f7f7f7"
            ],
            [
             0.6,
             "#e6f5d0"
            ],
            [
             0.7,
             "#b8e186"
            ],
            [
             0.8,
             "#7fbc41"
            ],
            [
             0.9,
             "#4d9221"
            ],
            [
             1,
             "#276419"
            ]
           ],
           "sequential": [
            [
             0,
             "#0d0887"
            ],
            [
             0.1111111111111111,
             "#46039f"
            ],
            [
             0.2222222222222222,
             "#7201a8"
            ],
            [
             0.3333333333333333,
             "#9c179e"
            ],
            [
             0.4444444444444444,
             "#bd3786"
            ],
            [
             0.5555555555555556,
             "#d8576b"
            ],
            [
             0.6666666666666666,
             "#ed7953"
            ],
            [
             0.7777777777777778,
             "#fb9f3a"
            ],
            [
             0.8888888888888888,
             "#fdca26"
            ],
            [
             1,
             "#f0f921"
            ]
           ],
           "sequentialminus": [
            [
             0,
             "#0d0887"
            ],
            [
             0.1111111111111111,
             "#46039f"
            ],
            [
             0.2222222222222222,
             "#7201a8"
            ],
            [
             0.3333333333333333,
             "#9c179e"
            ],
            [
             0.4444444444444444,
             "#bd3786"
            ],
            [
             0.5555555555555556,
             "#d8576b"
            ],
            [
             0.6666666666666666,
             "#ed7953"
            ],
            [
             0.7777777777777778,
             "#fb9f3a"
            ],
            [
             0.8888888888888888,
             "#fdca26"
            ],
            [
             1,
             "#f0f921"
            ]
           ]
          },
          "colorway": [
           "#636efa",
           "#EF553B",
           "#00cc96",
           "#ab63fa",
           "#FFA15A",
           "#19d3f3",
           "#FF6692",
           "#B6E880",
           "#FF97FF",
           "#FECB52"
          ],
          "font": {
           "color": "#2a3f5f"
          },
          "geo": {
           "bgcolor": "white",
           "lakecolor": "white",
           "landcolor": "#E5ECF6",
           "showlakes": true,
           "showland": true,
           "subunitcolor": "white"
          },
          "hoverlabel": {
           "align": "left"
          },
          "hovermode": "closest",
          "mapbox": {
           "style": "light"
          },
          "paper_bgcolor": "white",
          "plot_bgcolor": "#E5ECF6",
          "polar": {
           "angularaxis": {
            "gridcolor": "white",
            "linecolor": "white",
            "ticks": ""
           },
           "bgcolor": "#E5ECF6",
           "radialaxis": {
            "gridcolor": "white",
            "linecolor": "white",
            "ticks": ""
           }
          },
          "scene": {
           "xaxis": {
            "backgroundcolor": "#E5ECF6",
            "gridcolor": "white",
            "gridwidth": 2,
            "linecolor": "white",
            "showbackground": true,
            "ticks": "",
            "zerolinecolor": "white"
           },
           "yaxis": {
            "backgroundcolor": "#E5ECF6",
            "gridcolor": "white",
            "gridwidth": 2,
            "linecolor": "white",
            "showbackground": true,
            "ticks": "",
            "zerolinecolor": "white"
           },
           "zaxis": {
            "backgroundcolor": "#E5ECF6",
            "gridcolor": "white",
            "gridwidth": 2,
            "linecolor": "white",
            "showbackground": true,
            "ticks": "",
            "zerolinecolor": "white"
           }
          },
          "shapedefaults": {
           "line": {
            "color": "#2a3f5f"
           }
          },
          "ternary": {
           "aaxis": {
            "gridcolor": "white",
            "linecolor": "white",
            "ticks": ""
           },
           "baxis": {
            "gridcolor": "white",
            "linecolor": "white",
            "ticks": ""
           },
           "bgcolor": "#E5ECF6",
           "caxis": {
            "gridcolor": "white",
            "linecolor": "white",
            "ticks": ""
           }
          },
          "title": {
           "x": 0.05
          },
          "xaxis": {
           "automargin": true,
           "gridcolor": "white",
           "linecolor": "white",
           "ticks": "",
           "title": {
            "standoff": 15
           },
           "zerolinecolor": "white",
           "zerolinewidth": 2
          },
          "yaxis": {
           "automargin": true,
           "gridcolor": "white",
           "linecolor": "white",
           "ticks": "",
           "title": {
            "standoff": 15
           },
           "zerolinecolor": "white",
           "zerolinewidth": 2
          }
         }
        },
        "xaxis": {
         "anchor": "y",
         "domain": [
          0,
          1
         ],
         "title": {}
        },
        "yaxis": {
         "anchor": "x",
         "domain": [
          0,
          1
         ],
         "range": [
          0,
          4200
         ],
         "title": {
          "text": "Anzahl der Weine"
         }
        }
       }
      }
     },
     "metadata": {},
     "output_type": "display_data"
    }
   ],
   "source": [
    "country_statistiken = df.groupby(\"Country\").agg(Count=(\"Country\", \"size\"), Avg_Rating=(\"Rating\", \"mean\")).reset_index()\n",
    "\n",
    "top10_countries = country_statistiken.sort_values(by=\"Count\", ascending=False).head(10).round(2)\n",
    "\n",
    "fig = px.bar(top10_countries, \n",
    "             x=\"Country\", \n",
    "             y=\"Count\", \n",
    "             labels={\"Count\": \"Anzahl der Weine\",  \"Avg_Rating\": \"Avg Rating\"}, \n",
    "\n",
    "             color_discrete_sequence=[\"#146c91\"])\n",
    "fig.update_yaxes(range=[0,4200])\n",
    "fig.update_xaxes(title=None)\n",
    "fig.update_traces(textposition=\"outside\",)\n",
    "\n",
    "fig.show()"
   ]
  },
  {
   "cell_type": "code",
   "execution_count": 16,
   "metadata": {},
   "outputs": [
    {
     "data": {
      "application/vnd.plotly.v1+json": {
       "config": {
        "plotlyServerURL": "https://plot.ly"
       },
       "data": [
        {
         "hovertemplate": "Country=%{x}<br>Anzahl der Weine=%{y}<br>Avg_Rating=%{marker.color}<extra></extra>",
         "legendgroup": "",
         "marker": {
          "color": {
           "bdata": "CtejcD0KD0BxPQrXo3APQHsUrkfheg5A9ihcj8L1DkBmZmZmZmYOQB+F61G4Hg9Aj8L1KFyPDkDD9Shcj8INQOF6FK5H4Q5AUrgehetRDkA=",
           "dtype": "f8"
          },
          "coloraxis": "coloraxis",
          "pattern": {
           "shape": ""
          }
         },
         "name": "",
         "orientation": "v",
         "showlegend": false,
         "text": {
          "bdata": "CtejcD0KD0BxPQrXo3APQHsUrkfheg5A9ihcj8L1DkBmZmZmZmYOQB+F61G4Hg9Aj8L1KFyPDkDD9Shcj8INQOF6FK5H4Q5AUrgehetRDkA=",
          "dtype": "f8"
         },
         "textposition": "outside",
         "type": "bar",
         "x": [
          "Italy",
          "France",
          "Spain",
          "Germany",
          "South Africa",
          "United States",
          "Austria",
          "Chile",
          "Portugal",
          "Australia"
         ],
         "xaxis": "x",
         "y": {
          "bdata": "Tw9sDf0FzQROAxIC7AGvAVABPgE=",
          "dtype": "i2"
         },
         "yaxis": "y"
        }
       ],
       "layout": {
        "barmode": "relative",
        "coloraxis": {
         "colorbar": {
          "title": {
           "text": "Avg_Rating"
          }
         },
         "colorscale": [
          [
           0,
           "rgb(255,255,217)"
          ],
          [
           0.125,
           "rgb(237,248,177)"
          ],
          [
           0.25,
           "rgb(199,233,180)"
          ],
          [
           0.375,
           "rgb(127,205,187)"
          ],
          [
           0.5,
           "rgb(65,182,196)"
          ],
          [
           0.625,
           "rgb(29,145,192)"
          ],
          [
           0.75,
           "rgb(34,94,168)"
          ],
          [
           0.875,
           "rgb(37,52,148)"
          ],
          [
           1,
           "rgb(8,29,88)"
          ]
         ]
        },
        "legend": {
         "tracegroupgap": 0
        },
        "margin": {
         "t": 60
        },
        "template": {
         "data": {
          "bar": [
           {
            "error_x": {
             "color": "#2a3f5f"
            },
            "error_y": {
             "color": "#2a3f5f"
            },
            "marker": {
             "line": {
              "color": "#E5ECF6",
              "width": 0.5
             },
             "pattern": {
              "fillmode": "overlay",
              "size": 10,
              "solidity": 0.2
             }
            },
            "type": "bar"
           }
          ],
          "barpolar": [
           {
            "marker": {
             "line": {
              "color": "#E5ECF6",
              "width": 0.5
             },
             "pattern": {
              "fillmode": "overlay",
              "size": 10,
              "solidity": 0.2
             }
            },
            "type": "barpolar"
           }
          ],
          "carpet": [
           {
            "aaxis": {
             "endlinecolor": "#2a3f5f",
             "gridcolor": "white",
             "linecolor": "white",
             "minorgridcolor": "white",
             "startlinecolor": "#2a3f5f"
            },
            "baxis": {
             "endlinecolor": "#2a3f5f",
             "gridcolor": "white",
             "linecolor": "white",
             "minorgridcolor": "white",
             "startlinecolor": "#2a3f5f"
            },
            "type": "carpet"
           }
          ],
          "choropleth": [
           {
            "colorbar": {
             "outlinewidth": 0,
             "ticks": ""
            },
            "type": "choropleth"
           }
          ],
          "contour": [
           {
            "colorbar": {
             "outlinewidth": 0,
             "ticks": ""
            },
            "colorscale": [
             [
              0,
              "#0d0887"
             ],
             [
              0.1111111111111111,
              "#46039f"
             ],
             [
              0.2222222222222222,
              "#7201a8"
             ],
             [
              0.3333333333333333,
              "#9c179e"
             ],
             [
              0.4444444444444444,
              "#bd3786"
             ],
             [
              0.5555555555555556,
              "#d8576b"
             ],
             [
              0.6666666666666666,
              "#ed7953"
             ],
             [
              0.7777777777777778,
              "#fb9f3a"
             ],
             [
              0.8888888888888888,
              "#fdca26"
             ],
             [
              1,
              "#f0f921"
             ]
            ],
            "type": "contour"
           }
          ],
          "contourcarpet": [
           {
            "colorbar": {
             "outlinewidth": 0,
             "ticks": ""
            },
            "type": "contourcarpet"
           }
          ],
          "heatmap": [
           {
            "colorbar": {
             "outlinewidth": 0,
             "ticks": ""
            },
            "colorscale": [
             [
              0,
              "#0d0887"
             ],
             [
              0.1111111111111111,
              "#46039f"
             ],
             [
              0.2222222222222222,
              "#7201a8"
             ],
             [
              0.3333333333333333,
              "#9c179e"
             ],
             [
              0.4444444444444444,
              "#bd3786"
             ],
             [
              0.5555555555555556,
              "#d8576b"
             ],
             [
              0.6666666666666666,
              "#ed7953"
             ],
             [
              0.7777777777777778,
              "#fb9f3a"
             ],
             [
              0.8888888888888888,
              "#fdca26"
             ],
             [
              1,
              "#f0f921"
             ]
            ],
            "type": "heatmap"
           }
          ],
          "histogram": [
           {
            "marker": {
             "pattern": {
              "fillmode": "overlay",
              "size": 10,
              "solidity": 0.2
             }
            },
            "type": "histogram"
           }
          ],
          "histogram2d": [
           {
            "colorbar": {
             "outlinewidth": 0,
             "ticks": ""
            },
            "colorscale": [
             [
              0,
              "#0d0887"
             ],
             [
              0.1111111111111111,
              "#46039f"
             ],
             [
              0.2222222222222222,
              "#7201a8"
             ],
             [
              0.3333333333333333,
              "#9c179e"
             ],
             [
              0.4444444444444444,
              "#bd3786"
             ],
             [
              0.5555555555555556,
              "#d8576b"
             ],
             [
              0.6666666666666666,
              "#ed7953"
             ],
             [
              0.7777777777777778,
              "#fb9f3a"
             ],
             [
              0.8888888888888888,
              "#fdca26"
             ],
             [
              1,
              "#f0f921"
             ]
            ],
            "type": "histogram2d"
           }
          ],
          "histogram2dcontour": [
           {
            "colorbar": {
             "outlinewidth": 0,
             "ticks": ""
            },
            "colorscale": [
             [
              0,
              "#0d0887"
             ],
             [
              0.1111111111111111,
              "#46039f"
             ],
             [
              0.2222222222222222,
              "#7201a8"
             ],
             [
              0.3333333333333333,
              "#9c179e"
             ],
             [
              0.4444444444444444,
              "#bd3786"
             ],
             [
              0.5555555555555556,
              "#d8576b"
             ],
             [
              0.6666666666666666,
              "#ed7953"
             ],
             [
              0.7777777777777778,
              "#fb9f3a"
             ],
             [
              0.8888888888888888,
              "#fdca26"
             ],
             [
              1,
              "#f0f921"
             ]
            ],
            "type": "histogram2dcontour"
           }
          ],
          "mesh3d": [
           {
            "colorbar": {
             "outlinewidth": 0,
             "ticks": ""
            },
            "type": "mesh3d"
           }
          ],
          "parcoords": [
           {
            "line": {
             "colorbar": {
              "outlinewidth": 0,
              "ticks": ""
             }
            },
            "type": "parcoords"
           }
          ],
          "pie": [
           {
            "automargin": true,
            "type": "pie"
           }
          ],
          "scatter": [
           {
            "fillpattern": {
             "fillmode": "overlay",
             "size": 10,
             "solidity": 0.2
            },
            "type": "scatter"
           }
          ],
          "scatter3d": [
           {
            "line": {
             "colorbar": {
              "outlinewidth": 0,
              "ticks": ""
             }
            },
            "marker": {
             "colorbar": {
              "outlinewidth": 0,
              "ticks": ""
             }
            },
            "type": "scatter3d"
           }
          ],
          "scattercarpet": [
           {
            "marker": {
             "colorbar": {
              "outlinewidth": 0,
              "ticks": ""
             }
            },
            "type": "scattercarpet"
           }
          ],
          "scattergeo": [
           {
            "marker": {
             "colorbar": {
              "outlinewidth": 0,
              "ticks": ""
             }
            },
            "type": "scattergeo"
           }
          ],
          "scattergl": [
           {
            "marker": {
             "colorbar": {
              "outlinewidth": 0,
              "ticks": ""
             }
            },
            "type": "scattergl"
           }
          ],
          "scattermap": [
           {
            "marker": {
             "colorbar": {
              "outlinewidth": 0,
              "ticks": ""
             }
            },
            "type": "scattermap"
           }
          ],
          "scattermapbox": [
           {
            "marker": {
             "colorbar": {
              "outlinewidth": 0,
              "ticks": ""
             }
            },
            "type": "scattermapbox"
           }
          ],
          "scatterpolar": [
           {
            "marker": {
             "colorbar": {
              "outlinewidth": 0,
              "ticks": ""
             }
            },
            "type": "scatterpolar"
           }
          ],
          "scatterpolargl": [
           {
            "marker": {
             "colorbar": {
              "outlinewidth": 0,
              "ticks": ""
             }
            },
            "type": "scatterpolargl"
           }
          ],
          "scatterternary": [
           {
            "marker": {
             "colorbar": {
              "outlinewidth": 0,
              "ticks": ""
             }
            },
            "type": "scatterternary"
           }
          ],
          "surface": [
           {
            "colorbar": {
             "outlinewidth": 0,
             "ticks": ""
            },
            "colorscale": [
             [
              0,
              "#0d0887"
             ],
             [
              0.1111111111111111,
              "#46039f"
             ],
             [
              0.2222222222222222,
              "#7201a8"
             ],
             [
              0.3333333333333333,
              "#9c179e"
             ],
             [
              0.4444444444444444,
              "#bd3786"
             ],
             [
              0.5555555555555556,
              "#d8576b"
             ],
             [
              0.6666666666666666,
              "#ed7953"
             ],
             [
              0.7777777777777778,
              "#fb9f3a"
             ],
             [
              0.8888888888888888,
              "#fdca26"
             ],
             [
              1,
              "#f0f921"
             ]
            ],
            "type": "surface"
           }
          ],
          "table": [
           {
            "cells": {
             "fill": {
              "color": "#EBF0F8"
             },
             "line": {
              "color": "white"
             }
            },
            "header": {
             "fill": {
              "color": "#C8D4E3"
             },
             "line": {
              "color": "white"
             }
            },
            "type": "table"
           }
          ]
         },
         "layout": {
          "annotationdefaults": {
           "arrowcolor": "#2a3f5f",
           "arrowhead": 0,
           "arrowwidth": 1
          },
          "autotypenumbers": "strict",
          "coloraxis": {
           "colorbar": {
            "outlinewidth": 0,
            "ticks": ""
           }
          },
          "colorscale": {
           "diverging": [
            [
             0,
             "#8e0152"
            ],
            [
             0.1,
             "#c51b7d"
            ],
            [
             0.2,
             "#de77ae"
            ],
            [
             0.3,
             "#f1b6da"
            ],
            [
             0.4,
             "#fde0ef"
            ],
            [
             0.5,
             "#f7f7f7"
            ],
            [
             0.6,
             "#e6f5d0"
            ],
            [
             0.7,
             "#b8e186"
            ],
            [
             0.8,
             "#7fbc41"
            ],
            [
             0.9,
             "#4d9221"
            ],
            [
             1,
             "#276419"
            ]
           ],
           "sequential": [
            [
             0,
             "#0d0887"
            ],
            [
             0.1111111111111111,
             "#46039f"
            ],
            [
             0.2222222222222222,
             "#7201a8"
            ],
            [
             0.3333333333333333,
             "#9c179e"
            ],
            [
             0.4444444444444444,
             "#bd3786"
            ],
            [
             0.5555555555555556,
             "#d8576b"
            ],
            [
             0.6666666666666666,
             "#ed7953"
            ],
            [
             0.7777777777777778,
             "#fb9f3a"
            ],
            [
             0.8888888888888888,
             "#fdca26"
            ],
            [
             1,
             "#f0f921"
            ]
           ],
           "sequentialminus": [
            [
             0,
             "#0d0887"
            ],
            [
             0.1111111111111111,
             "#46039f"
            ],
            [
             0.2222222222222222,
             "#7201a8"
            ],
            [
             0.3333333333333333,
             "#9c179e"
            ],
            [
             0.4444444444444444,
             "#bd3786"
            ],
            [
             0.5555555555555556,
             "#d8576b"
            ],
            [
             0.6666666666666666,
             "#ed7953"
            ],
            [
             0.7777777777777778,
             "#fb9f3a"
            ],
            [
             0.8888888888888888,
             "#fdca26"
            ],
            [
             1,
             "#f0f921"
            ]
           ]
          },
          "colorway": [
           "#636efa",
           "#EF553B",
           "#00cc96",
           "#ab63fa",
           "#FFA15A",
           "#19d3f3",
           "#FF6692",
           "#B6E880",
           "#FF97FF",
           "#FECB52"
          ],
          "font": {
           "color": "#2a3f5f"
          },
          "geo": {
           "bgcolor": "white",
           "lakecolor": "white",
           "landcolor": "#E5ECF6",
           "showlakes": true,
           "showland": true,
           "subunitcolor": "white"
          },
          "hoverlabel": {
           "align": "left"
          },
          "hovermode": "closest",
          "mapbox": {
           "style": "light"
          },
          "paper_bgcolor": "white",
          "plot_bgcolor": "#E5ECF6",
          "polar": {
           "angularaxis": {
            "gridcolor": "white",
            "linecolor": "white",
            "ticks": ""
           },
           "bgcolor": "#E5ECF6",
           "radialaxis": {
            "gridcolor": "white",
            "linecolor": "white",
            "ticks": ""
           }
          },
          "scene": {
           "xaxis": {
            "backgroundcolor": "#E5ECF6",
            "gridcolor": "white",
            "gridwidth": 2,
            "linecolor": "white",
            "showbackground": true,
            "ticks": "",
            "zerolinecolor": "white"
           },
           "yaxis": {
            "backgroundcolor": "#E5ECF6",
            "gridcolor": "white",
            "gridwidth": 2,
            "linecolor": "white",
            "showbackground": true,
            "ticks": "",
            "zerolinecolor": "white"
           },
           "zaxis": {
            "backgroundcolor": "#E5ECF6",
            "gridcolor": "white",
            "gridwidth": 2,
            "linecolor": "white",
            "showbackground": true,
            "ticks": "",
            "zerolinecolor": "white"
           }
          },
          "shapedefaults": {
           "line": {
            "color": "#2a3f5f"
           }
          },
          "ternary": {
           "aaxis": {
            "gridcolor": "white",
            "linecolor": "white",
            "ticks": ""
           },
           "baxis": {
            "gridcolor": "white",
            "linecolor": "white",
            "ticks": ""
           },
           "bgcolor": "#E5ECF6",
           "caxis": {
            "gridcolor": "white",
            "linecolor": "white",
            "ticks": ""
           }
          },
          "title": {
           "x": 0.05
          },
          "xaxis": {
           "automargin": true,
           "gridcolor": "white",
           "linecolor": "white",
           "ticks": "",
           "title": {
            "standoff": 15
           },
           "zerolinecolor": "white",
           "zerolinewidth": 2
          },
          "yaxis": {
           "automargin": true,
           "gridcolor": "white",
           "linecolor": "white",
           "ticks": "",
           "title": {
            "standoff": 15
           },
           "zerolinecolor": "white",
           "zerolinewidth": 2
          }
         }
        },
        "xaxis": {
         "anchor": "y",
         "domain": [
          0,
          1
         ],
         "title": {}
        },
        "yaxis": {
         "anchor": "x",
         "domain": [
          0,
          1
         ],
         "range": [
          0,
          4200
         ],
         "title": {
          "text": "Anzahl der Weine"
         }
        }
       }
      }
     },
     "metadata": {},
     "output_type": "display_data"
    }
   ],
   "source": [
    "# Barplot: Top 10 Länder nach Anzahl der Weine: Höhe des Balken nach Summe, Farbe nach Rating\n",
    "\n",
    "fig = px.bar(top10_countries, \n",
    "             x=\"Country\", \n",
    "             y=\"Count\", \n",
    "             labels={\"Count\": \"Anzahl der Weine\"}, \n",
    "             text=top10_countries[\"Avg_Rating\"],\n",
    "             color=\"Avg_Rating\",\n",
    "             color_continuous_scale=\"YlGnBu\")\n",
    "\n",
    "fig.update_yaxes(range=[0,4200])\n",
    "fig.update_xaxes(title=None)\n",
    "fig.update_traces(textposition=\"outside\")\n",
    "\n",
    "fig.show()"
   ]
  },
  {
   "cell_type": "code",
   "execution_count": 17,
   "metadata": {},
   "outputs": [
    {
     "data": {
      "application/vnd.plotly.v1+json": {
       "config": {
        "plotlyServerURL": "https://plot.ly"
       },
       "data": [
        {
         "alignmentgroup": "True",
         "hovertemplate": "Price=%{x}<extra></extra>",
         "legendgroup": "",
         "marker": {
          "color": "#146c91"
         },
         "name": "",
         "notched": false,
         "offsetgroup": "",
         "orientation": "h",
         "showlegend": false,
         "type": "box",
         "x": {
          "bdata": "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",
          "dtype": "f8"
         },
         "x0": " ",
         "xaxis": "x",
         "y0": " ",
         "yaxis": "y"
        }
       ],
       "layout": {
        "boxmode": "group",
        "legend": {
         "tracegroupgap": 0
        },
        "margin": {
         "t": 60
        },
        "template": {
         "data": {
          "bar": [
           {
            "error_x": {
             "color": "#2a3f5f"
            },
            "error_y": {
             "color": "#2a3f5f"
            },
            "marker": {
             "line": {
              "color": "#E5ECF6",
              "width": 0.5
             },
             "pattern": {
              "fillmode": "overlay",
              "size": 10,
              "solidity": 0.2
             }
            },
            "type": "bar"
           }
          ],
          "barpolar": [
           {
            "marker": {
             "line": {
              "color": "#E5ECF6",
              "width": 0.5
             },
             "pattern": {
              "fillmode": "overlay",
              "size": 10,
              "solidity": 0.2
             }
            },
            "type": "barpolar"
           }
          ],
          "carpet": [
           {
            "aaxis": {
             "endlinecolor": "#2a3f5f",
             "gridcolor": "white",
             "linecolor": "white",
             "minorgridcolor": "white",
             "startlinecolor": "#2a3f5f"
            },
            "baxis": {
             "endlinecolor": "#2a3f5f",
             "gridcolor": "white",
             "linecolor": "white",
             "minorgridcolor": "white",
             "startlinecolor": "#2a3f5f"
            },
            "type": "carpet"
           }
          ],
          "choropleth": [
           {
            "colorbar": {
             "outlinewidth": 0,
             "ticks": ""
            },
            "type": "choropleth"
           }
          ],
          "contour": [
           {
            "colorbar": {
             "outlinewidth": 0,
             "ticks": ""
            },
            "colorscale": [
             [
              0,
              "#0d0887"
             ],
             [
              0.1111111111111111,
              "#46039f"
             ],
             [
              0.2222222222222222,
              "#7201a8"
             ],
             [
              0.3333333333333333,
              "#9c179e"
             ],
             [
              0.4444444444444444,
              "#bd3786"
             ],
             [
              0.5555555555555556,
              "#d8576b"
             ],
             [
              0.6666666666666666,
              "#ed7953"
             ],
             [
              0.7777777777777778,
              "#fb9f3a"
             ],
             [
              0.8888888888888888,
              "#fdca26"
             ],
             [
              1,
              "#f0f921"
             ]
            ],
            "type": "contour"
           }
          ],
          "contourcarpet": [
           {
            "colorbar": {
             "outlinewidth": 0,
             "ticks": ""
            },
            "type": "contourcarpet"
           }
          ],
          "heatmap": [
           {
            "colorbar": {
             "outlinewidth": 0,
             "ticks": ""
            },
            "colorscale": [
             [
              0,
              "#0d0887"
             ],
             [
              0.1111111111111111,
              "#46039f"
             ],
             [
              0.2222222222222222,
              "#7201a8"
             ],
             [
              0.3333333333333333,
              "#9c179e"
             ],
             [
              0.4444444444444444,
              "#bd3786"
             ],
             [
              0.5555555555555556,
              "#d8576b"
             ],
             [
              0.6666666666666666,
              "#ed7953"
             ],
             [
              0.7777777777777778,
              "#fb9f3a"
             ],
             [
              0.8888888888888888,
              "#fdca26"
             ],
             [
              1,
              "#f0f921"
             ]
            ],
            "type": "heatmap"
           }
          ],
          "histogram": [
           {
            "marker": {
             "pattern": {
              "fillmode": "overlay",
              "size": 10,
              "solidity": 0.2
             }
            },
            "type": "histogram"
           }
          ],
          "histogram2d": [
           {
            "colorbar": {
             "outlinewidth": 0,
             "ticks": ""
            },
            "colorscale": [
             [
              0,
              "#0d0887"
             ],
             [
              0.1111111111111111,
              "#46039f"
             ],
             [
              0.2222222222222222,
              "#7201a8"
             ],
             [
              0.3333333333333333,
              "#9c179e"
             ],
             [
              0.4444444444444444,
              "#bd3786"
             ],
             [
              0.5555555555555556,
              "#d8576b"
             ],
             [
              0.6666666666666666,
              "#ed7953"
             ],
             [
              0.7777777777777778,
              "#fb9f3a"
             ],
             [
              0.8888888888888888,
              "#fdca26"
             ],
             [
              1,
              "#f0f921"
             ]
            ],
            "type": "histogram2d"
           }
          ],
          "histogram2dcontour": [
           {
            "colorbar": {
             "outlinewidth": 0,
             "ticks": ""
            },
            "colorscale": [
             [
              0,
              "#0d0887"
             ],
             [
              0.1111111111111111,
              "#46039f"
             ],
             [
              0.2222222222222222,
              "#7201a8"
             ],
             [
              0.3333333333333333,
              "#9c179e"
             ],
             [
              0.4444444444444444,
              "#bd3786"
             ],
             [
              0.5555555555555556,
              "#d8576b"
             ],
             [
              0.6666666666666666,
              "#ed7953"
             ],
             [
              0.7777777777777778,
              "#fb9f3a"
             ],
             [
              0.8888888888888888,
              "#fdca26"
             ],
             [
              1,
              "#f0f921"
             ]
            ],
            "type": "histogram2dcontour"
           }
          ],
          "mesh3d": [
           {
            "colorbar": {
             "outlinewidth": 0,
             "ticks": ""
            },
            "type": "mesh3d"
           }
          ],
          "parcoords": [
           {
            "line": {
             "colorbar": {
              "outlinewidth": 0,
              "ticks": ""
             }
            },
            "type": "parcoords"
           }
          ],
          "pie": [
           {
            "automargin": true,
            "type": "pie"
           }
          ],
          "scatter": [
           {
            "fillpattern": {
             "fillmode": "overlay",
             "size": 10,
             "solidity": 0.2
            },
            "type": "scatter"
           }
          ],
          "scatter3d": [
           {
            "line": {
             "colorbar": {
              "outlinewidth": 0,
              "ticks": ""
             }
            },
            "marker": {
             "colorbar": {
              "outlinewidth": 0,
              "ticks": ""
             }
            },
            "type": "scatter3d"
           }
          ],
          "scattercarpet": [
           {
            "marker": {
             "colorbar": {
              "outlinewidth": 0,
              "ticks": ""
             }
            },
            "type": "scattercarpet"
           }
          ],
          "scattergeo": [
           {
            "marker": {
             "colorbar": {
              "outlinewidth": 0,
              "ticks": ""
             }
            },
            "type": "scattergeo"
           }
          ],
          "scattergl": [
           {
            "marker": {
             "colorbar": {
              "outlinewidth": 0,
              "ticks": ""
             }
            },
            "type": "scattergl"
           }
          ],
          "scattermap": [
           {
            "marker": {
             "colorbar": {
              "outlinewidth": 0,
              "ticks": ""
             }
            },
            "type": "scattermap"
           }
          ],
          "scattermapbox": [
           {
            "marker": {
             "colorbar": {
              "outlinewidth": 0,
              "ticks": ""
             }
            },
            "type": "scattermapbox"
           }
          ],
          "scatterpolar": [
           {
            "marker": {
             "colorbar": {
              "outlinewidth": 0,
              "ticks": ""
             }
            },
            "type": "scatterpolar"
           }
          ],
          "scatterpolargl": [
           {
            "marker": {
             "colorbar": {
              "outlinewidth": 0,
              "ticks": ""
             }
            },
            "type": "scatterpolargl"
           }
          ],
          "scatterternary": [
           {
            "marker": {
             "colorbar": {
              "outlinewidth": 0,
              "ticks": ""
             }
            },
            "type": "scatterternary"
           }
          ],
          "surface": [
           {
            "colorbar": {
             "outlinewidth": 0,
             "ticks": ""
            },
            "colorscale": [
             [
              0,
              "#0d0887"
             ],
             [
              0.1111111111111111,
              "#46039f"
             ],
             [
              0.2222222222222222,
              "#7201a8"
             ],
             [
              0.3333333333333333,
              "#9c179e"
             ],
             [
              0.4444444444444444,
              "#bd3786"
             ],
             [
              0.5555555555555556,
              "#d8576b"
             ],
             [
              0.6666666666666666,
              "#ed7953"
             ],
             [
              0.7777777777777778,
              "#fb9f3a"
             ],
             [
              0.8888888888888888,
              "#fdca26"
             ],
             [
              1,
              "#f0f921"
             ]
            ],
            "type": "surface"
           }
          ],
          "table": [
           {
            "cells": {
             "fill": {
              "color": "#EBF0F8"
             },
             "line": {
              "color": "white"
             }
            },
            "header": {
             "fill": {
              "color": "#C8D4E3"
             },
             "line": {
              "color": "white"
             }
            },
            "type": "table"
           }
          ]
         },
         "layout": {
          "annotationdefaults": {
           "arrowcolor": "#2a3f5f",
           "arrowhead": 0,
           "arrowwidth": 1
          },
          "autotypenumbers": "strict",
          "coloraxis": {
           "colorbar": {
            "outlinewidth": 0,
            "ticks": ""
           }
          },
          "colorscale": {
           "diverging": [
            [
             0,
             "#8e0152"
            ],
            [
             0.1,
             "#c51b7d"
            ],
            [
             0.2,
             "#de77ae"
            ],
            [
             0.3,
             "#f1b6da"
            ],
            [
             0.4,
             "#fde0ef"
            ],
            [
             0.5,
             "#f7f7f7"
            ],
            [
             0.6,
             "#e6f5d0"
            ],
            [
             0.7,
             "#b8e186"
            ],
            [
             0.8,
             "#7fbc41"
            ],
            [
             0.9,
             "#4d9221"
            ],
            [
             1,
             "#276419"
            ]
           ],
           "sequential": [
            [
             0,
             "#0d0887"
            ],
            [
             0.1111111111111111,
             "#46039f"
            ],
            [
             0.2222222222222222,
             "#7201a8"
            ],
            [
             0.3333333333333333,
             "#9c179e"
            ],
            [
             0.4444444444444444,
             "#bd3786"
            ],
            [
             0.5555555555555556,
             "#d8576b"
            ],
            [
             0.6666666666666666,
             "#ed7953"
            ],
            [
             0.7777777777777778,
             "#fb9f3a"
            ],
            [
             0.8888888888888888,
             "#fdca26"
            ],
            [
             1,
             "#f0f921"
            ]
           ],
           "sequentialminus": [
            [
             0,
             "#0d0887"
            ],
            [
             0.1111111111111111,
             "#46039f"
            ],
            [
             0.2222222222222222,
             "#7201a8"
            ],
            [
             0.3333333333333333,
             "#9c179e"
            ],
            [
             0.4444444444444444,
             "#bd3786"
            ],
            [
             0.5555555555555556,
             "#d8576b"
            ],
            [
             0.6666666666666666,
             "#ed7953"
            ],
            [
             0.7777777777777778,
             "#fb9f3a"
            ],
            [
             0.8888888888888888,
             "#fdca26"
            ],
            [
             1,
             "#f0f921"
            ]
           ]
          },
          "colorway": [
           "#636efa",
           "#EF553B",
           "#00cc96",
           "#ab63fa",
           "#FFA15A",
           "#19d3f3",
           "#FF6692",
           "#B6E880",
           "#FF97FF",
           "#FECB52"
          ],
          "font": {
           "color": "#2a3f5f"
          },
          "geo": {
           "bgcolor": "white",
           "lakecolor": "white",
           "landcolor": "#E5ECF6",
           "showlakes": true,
           "showland": true,
           "subunitcolor": "white"
          },
          "hoverlabel": {
           "align": "left"
          },
          "hovermode": "closest",
          "mapbox": {
           "style": "light"
          },
          "paper_bgcolor": "white",
          "plot_bgcolor": "#E5ECF6",
          "polar": {
           "angularaxis": {
            "gridcolor": "white",
            "linecolor": "white",
            "ticks": ""
           },
           "bgcolor": "#E5ECF6",
           "radialaxis": {
            "gridcolor": "white",
            "linecolor": "white",
            "ticks": ""
           }
          },
          "scene": {
           "xaxis": {
            "backgroundcolor": "#E5ECF6",
            "gridcolor": "white",
            "gridwidth": 2,
            "linecolor": "white",
            "showbackground": true,
            "ticks": "",
            "zerolinecolor": "white"
           },
           "yaxis": {
            "backgroundcolor": "#E5ECF6",
            "gridcolor": "white",
            "gridwidth": 2,
            "linecolor": "white",
            "showbackground": true,
            "ticks": "",
            "zerolinecolor": "white"
           },
           "zaxis": {
            "backgroundcolor": "#E5ECF6",
            "gridcolor": "white",
            "gridwidth": 2,
            "linecolor": "white",
            "showbackground": true,
            "ticks": "",
            "zerolinecolor": "white"
           }
          },
          "shapedefaults": {
           "line": {
            "color": "#2a3f5f"
           }
          },
          "ternary": {
           "aaxis": {
            "gridcolor": "white",
            "linecolor": "white",
            "ticks": ""
           },
           "baxis": {
            "gridcolor": "white",
            "linecolor": "white",
            "ticks": ""
           },
           "bgcolor": "#E5ECF6",
           "caxis": {
            "gridcolor": "white",
            "linecolor": "white",
            "ticks": ""
           }
          },
          "title": {
           "x": 0.05
          },
          "xaxis": {
           "automargin": true,
           "gridcolor": "white",
           "linecolor": "white",
           "ticks": "",
           "title": {
            "standoff": 15
           },
           "zerolinecolor": "white",
           "zerolinewidth": 2
          },
          "yaxis": {
           "automargin": true,
           "gridcolor": "white",
           "linecolor": "white",
           "ticks": "",
           "title": {
            "standoff": 15
           },
           "zerolinecolor": "white",
           "zerolinewidth": 2
          }
         }
        },
        "xaxis": {
         "anchor": "y",
         "domain": [
          0,
          1
         ],
         "title": {
          "text": "Preis (logarithmiert)"
         },
         "type": "log"
        },
        "yaxis": {
         "anchor": "x",
         "domain": [
          0,
          1
         ]
        }
       }
      }
     },
     "metadata": {},
     "output_type": "display_data"
    }
   ],
   "source": [
    "# Boxplot: Preis\n",
    "fig = px.box(df, x=\"Price\", log_x=True, color_discrete_sequence=[\"#146c91\"])\n",
    "\n",
    "fig.update_xaxes(title=\"Preis (logarithmiert)\")\n",
    "\n",
    "fig.show()"
   ]
  },
  {
   "cell_type": "code",
   "execution_count": 18,
   "metadata": {},
   "outputs": [
    {
     "data": {
      "text/html": [
       "<div>\n",
       "<style scoped>\n",
       "    .dataframe tbody tr th:only-of-type {\n",
       "        vertical-align: middle;\n",
       "    }\n",
       "\n",
       "    .dataframe tbody tr th {\n",
       "        vertical-align: top;\n",
       "    }\n",
       "\n",
       "    .dataframe thead th {\n",
       "        text-align: right;\n",
       "    }\n",
       "</style>\n",
       "<table border=\"1\" class=\"dataframe\">\n",
       "  <thead>\n",
       "    <tr style=\"text-align: right;\">\n",
       "      <th></th>\n",
       "      <th>WineType</th>\n",
       "      <th>Rating</th>\n",
       "    </tr>\n",
       "  </thead>\n",
       "  <tbody>\n",
       "    <tr>\n",
       "      <th>0</th>\n",
       "      <td>Red</td>\n",
       "      <td>3.890342</td>\n",
       "    </tr>\n",
       "    <tr>\n",
       "      <th>1</th>\n",
       "      <td>Rose</td>\n",
       "      <td>3.741310</td>\n",
       "    </tr>\n",
       "    <tr>\n",
       "      <th>2</th>\n",
       "      <td>Sparkling</td>\n",
       "      <td>3.880834</td>\n",
       "    </tr>\n",
       "    <tr>\n",
       "      <th>3</th>\n",
       "      <td>White</td>\n",
       "      <td>3.817906</td>\n",
       "    </tr>\n",
       "  </tbody>\n",
       "</table>\n",
       "</div>"
      ],
      "text/plain": [
       "    WineType    Rating\n",
       "0        Red  3.890342\n",
       "1       Rose  3.741310\n",
       "2  Sparkling  3.880834\n",
       "3      White  3.817906"
      ]
     },
     "execution_count": 18,
     "metadata": {},
     "output_type": "execute_result"
    }
   ],
   "source": [
    "# Average Rating per Wine Type\n",
    "df_avg_winetypes = df.groupby(\"WineType\")[\"Rating\"].mean().reset_index()\n",
    "df_avg_winetypes"
   ]
  },
  {
   "cell_type": "markdown",
   "metadata": {},
   "source": [
    "## DATA PREPARATION"
   ]
  },
  {
   "cell_type": "markdown",
   "metadata": {},
   "source": [
    "### Cleaning, Feature Engineering, Split"
   ]
  },
  {
   "cell_type": "code",
   "execution_count": 19,
   "metadata": {},
   "outputs": [
    {
     "name": "stdout",
     "output_type": "stream",
     "text": [
      "Duplikate: 0\n",
      "Duplikate untereinander: 0\n"
     ]
    }
   ],
   "source": [
    "# Duplikate ermitteln\n",
    "print(\"Duplikate:\", df.duplicated().sum()) # -> keine zu entfernenden Duplikate \n",
    "# Sicherstellen, dass die Datensätze (Red, Wine, Rose, Sparkling) untereinander keine Duplikate aufweisen, die aufgrund der differenzierenden \n",
    "# Spalte \"WineType\" nicht erkannt werden\n",
    "df_without_type = df.drop(\"WineType\", axis=\"columns\")\n",
    "print(\"Duplikate untereinander:\", df_without_type.duplicated().sum())"
   ]
  },
  {
   "cell_type": "code",
   "execution_count": 20,
   "metadata": {},
   "outputs": [
    {
     "name": "stdout",
     "output_type": "stream",
     "text": [
      "Nullen im Datensatz? False\n"
     ]
    }
   ],
   "source": [
    "# NaN Values handlen\n",
    "# N.V. bereits mit median ersetzt\n",
    "# Ausreißer lasse ich explizit drin (sehr teure weine, sehr gut/schlecht geratete weine, weine mit sehr vielen ratings, sehr alte weine), um herauszufinden ob modell auch sehr gut/schlecht geratete weine erkennt\n",
    "print(\"Nullen im Datensatz?\",0 in df.values) # -> keine 0er im Datensatz"
   ]
  },
  {
   "cell_type": "code",
   "execution_count": 21,
   "metadata": {},
   "outputs": [],
   "source": [
    "# Entferne Jahr aus Name \n",
    "df[\"Name\"] = df[\"Name\"].str.rstrip(string.digits)\n",
    "df[\"Name\"] = df[\"Name\"].str.replace(\"N.V.\", \"\")"
   ]
  },
  {
   "cell_type": "code",
   "execution_count": 22,
   "metadata": {},
   "outputs": [
    {
     "name": "stdout",
     "output_type": "stream",
     "text": [
      "Unique Values in Spalte Name 7915\n",
      "        Variety\n",
      "0      Abouriou\n",
      "1     Abrustine\n",
      "2      Absinthe\n",
      "3  Acadie Blanc\n",
      "4        Acolon\n",
      "<class 'pandas.core.frame.DataFrame'>\n",
      "RangeIndex: 1512 entries, 0 to 1511\n",
      "Data columns (total 1 columns):\n",
      " #   Column   Non-Null Count  Dtype \n",
      "---  ------   --------------  ----- \n",
      " 0   Variety  1512 non-null   object\n",
      "dtypes: object(1)\n",
      "memory usage: 11.9+ KB\n",
      "None\n",
      "Unique Werte in Varieties: 1493\n"
     ]
    }
   ],
   "source": [
    "print(\"Unique Values in Spalte Name\",len(df[\"Name\"].unique()))\n",
    "\n",
    "# Die Spalte \"Name\" ist nur schwierig verwendbar, da es sich um 7915 unique values handelt, also schwer Muster erkennbar sind & sie auch sehr Inkonsistent ist (Pinot noir vs Pinot-Noir) etc\n",
    "varieties = pd.read_csv(\"data/varieties.csv\")\n",
    "print(varieties.head())\n",
    "print(varieties.info())\n",
    "print(\"Unique Werte in Varieties:\", len(varieties[\"Variety\"].unique()))\n",
    "varieties[\"Variety\"] = varieties[\"Variety\"].drop_duplicates()"
   ]
  },
  {
   "cell_type": "code",
   "execution_count": 23,
   "metadata": {},
   "outputs": [],
   "source": [
    "df[\"Name\"] = df[\"Name\"].astype(str)\n",
    "varieties[\"Variety\"] = varieties[\"Variety\"].astype(str)"
   ]
  },
  {
   "cell_type": "code",
   "execution_count": 24,
   "metadata": {},
   "outputs": [],
   "source": [
    "#Fuzzy Matching von Variety & Name\n",
    "variety_list = varieties[\"Variety\"].tolist()\n",
    "\n",
    "def fuzzy_match(name, matches, threshold=82):\n",
    "    if isinstance(name, str): \n",
    "        result = process.extractOne(name, matches, scorer=fuzz.partial_ratio) # fuzz.partial_ratio ist besser geeignet um matchende substrings zu finden als z. B. fuzz.ratio\n",
    "        if result: \n",
    "            matched_variety = result[0]\n",
    "            matching_score = result[1]\n",
    "            if matching_score > threshold:\n",
    "                return  matched_variety\n",
    "    return np.nan  \n",
    "\n",
    "# Hinzufügend der Variety-Spalte mit den gematchten Werten\n",
    "df[\"Variety\"] = df[\"Name\"].apply(lambda x: fuzzy_match(x, variety_list))"
   ]
  },
  {
   "cell_type": "code",
   "execution_count": 25,
   "metadata": {},
   "outputs": [
    {
     "data": {
      "text/html": [
       "<div>\n",
       "<style scoped>\n",
       "    .dataframe tbody tr th:only-of-type {\n",
       "        vertical-align: middle;\n",
       "    }\n",
       "\n",
       "    .dataframe tbody tr th {\n",
       "        vertical-align: top;\n",
       "    }\n",
       "\n",
       "    .dataframe thead th {\n",
       "        text-align: right;\n",
       "    }\n",
       "</style>\n",
       "<table border=\"1\" class=\"dataframe\">\n",
       "  <thead>\n",
       "    <tr style=\"text-align: right;\">\n",
       "      <th></th>\n",
       "      <th>Name</th>\n",
       "      <th>Country</th>\n",
       "      <th>Region</th>\n",
       "      <th>Winery</th>\n",
       "      <th>Rating</th>\n",
       "      <th>NumberOfRatings</th>\n",
       "      <th>Price</th>\n",
       "      <th>Year</th>\n",
       "      <th>WineType</th>\n",
       "      <th>Variety</th>\n",
       "    </tr>\n",
       "  </thead>\n",
       "  <tbody>\n",
       "    <tr>\n",
       "      <th>0</th>\n",
       "      <td>Pomerol</td>\n",
       "      <td>France</td>\n",
       "      <td>Pomerol</td>\n",
       "      <td>Château La Providence</td>\n",
       "      <td>4.2</td>\n",
       "      <td>100</td>\n",
       "      <td>95.00</td>\n",
       "      <td>2011.0</td>\n",
       "      <td>Red</td>\n",
       "      <td>NaN</td>\n",
       "    </tr>\n",
       "    <tr>\n",
       "      <th>1</th>\n",
       "      <td>Lirac</td>\n",
       "      <td>France</td>\n",
       "      <td>Lirac</td>\n",
       "      <td>Château Mont-Redon</td>\n",
       "      <td>4.3</td>\n",
       "      <td>100</td>\n",
       "      <td>15.50</td>\n",
       "      <td>2017.0</td>\n",
       "      <td>Red</td>\n",
       "      <td>NaN</td>\n",
       "    </tr>\n",
       "    <tr>\n",
       "      <th>2</th>\n",
       "      <td>Erta e China Rosso di Toscana</td>\n",
       "      <td>Italy</td>\n",
       "      <td>Toscana</td>\n",
       "      <td>Renzo Masi</td>\n",
       "      <td>3.9</td>\n",
       "      <td>100</td>\n",
       "      <td>7.45</td>\n",
       "      <td>2015.0</td>\n",
       "      <td>Red</td>\n",
       "      <td>NaN</td>\n",
       "    </tr>\n",
       "    <tr>\n",
       "      <th>3</th>\n",
       "      <td>Bardolino</td>\n",
       "      <td>Italy</td>\n",
       "      <td>Bardolino</td>\n",
       "      <td>Cavalchina</td>\n",
       "      <td>3.5</td>\n",
       "      <td>100</td>\n",
       "      <td>8.72</td>\n",
       "      <td>2019.0</td>\n",
       "      <td>Red</td>\n",
       "      <td>NaN</td>\n",
       "    </tr>\n",
       "    <tr>\n",
       "      <th>4</th>\n",
       "      <td>Ried Scheibner Pinot Noir</td>\n",
       "      <td>Austria</td>\n",
       "      <td>Carnuntum</td>\n",
       "      <td>Markowitsch</td>\n",
       "      <td>3.9</td>\n",
       "      <td>100</td>\n",
       "      <td>29.15</td>\n",
       "      <td>2016.0</td>\n",
       "      <td>Red</td>\n",
       "      <td>Pinot Noir</td>\n",
       "    </tr>\n",
       "    <tr>\n",
       "      <th>5</th>\n",
       "      <td>Gigondas (Nobles Terrasses)</td>\n",
       "      <td>France</td>\n",
       "      <td>Gigondas</td>\n",
       "      <td>Vieux Clocher</td>\n",
       "      <td>3.7</td>\n",
       "      <td>100</td>\n",
       "      <td>19.90</td>\n",
       "      <td>2017.0</td>\n",
       "      <td>Red</td>\n",
       "      <td>NaN</td>\n",
       "    </tr>\n",
       "    <tr>\n",
       "      <th>6</th>\n",
       "      <td>Marion's Vineyard Pinot Noir</td>\n",
       "      <td>New Zealand</td>\n",
       "      <td>Wairarapa</td>\n",
       "      <td>Schubert</td>\n",
       "      <td>4.0</td>\n",
       "      <td>100</td>\n",
       "      <td>43.87</td>\n",
       "      <td>2016.0</td>\n",
       "      <td>Red</td>\n",
       "      <td>Pinot Noir</td>\n",
       "    </tr>\n",
       "    <tr>\n",
       "      <th>7</th>\n",
       "      <td>Red Blend</td>\n",
       "      <td>Chile</td>\n",
       "      <td>Itata Valley</td>\n",
       "      <td>Viña La Causa</td>\n",
       "      <td>3.9</td>\n",
       "      <td>100</td>\n",
       "      <td>17.52</td>\n",
       "      <td>2014.0</td>\n",
       "      <td>Red</td>\n",
       "      <td>Rare Red Blend</td>\n",
       "    </tr>\n",
       "    <tr>\n",
       "      <th>8</th>\n",
       "      <td>Chianti</td>\n",
       "      <td>Italy</td>\n",
       "      <td>Chianti</td>\n",
       "      <td>Castello Montaùto</td>\n",
       "      <td>3.6</td>\n",
       "      <td>100</td>\n",
       "      <td>10.75</td>\n",
       "      <td>2015.0</td>\n",
       "      <td>Red</td>\n",
       "      <td>Chianti Blend</td>\n",
       "    </tr>\n",
       "    <tr>\n",
       "      <th>9</th>\n",
       "      <td>Tradition</td>\n",
       "      <td>France</td>\n",
       "      <td>Minervois</td>\n",
       "      <td>Domaine des Aires Hautes</td>\n",
       "      <td>3.5</td>\n",
       "      <td>100</td>\n",
       "      <td>6.90</td>\n",
       "      <td>2014.0</td>\n",
       "      <td>Red</td>\n",
       "      <td>NaN</td>\n",
       "    </tr>\n",
       "    <tr>\n",
       "      <th>10</th>\n",
       "      <td>Chianti Riserva</td>\n",
       "      <td>Italy</td>\n",
       "      <td>Chianti</td>\n",
       "      <td>Poggiotondo</td>\n",
       "      <td>3.9</td>\n",
       "      <td>100</td>\n",
       "      <td>20.95</td>\n",
       "      <td>2013.0</td>\n",
       "      <td>Red</td>\n",
       "      <td>NaN</td>\n",
       "    </tr>\n",
       "    <tr>\n",
       "      <th>11</th>\n",
       "      <td>Descendant</td>\n",
       "      <td>Australia</td>\n",
       "      <td>Barossa</td>\n",
       "      <td>Torbreck</td>\n",
       "      <td>4.3</td>\n",
       "      <td>100</td>\n",
       "      <td>140.64</td>\n",
       "      <td>2016.0</td>\n",
       "      <td>Red</td>\n",
       "      <td>NaN</td>\n",
       "    </tr>\n",
       "    <tr>\n",
       "      <th>12</th>\n",
       "      <td>Les Obriers de la Peira Terrasses du Larzac</td>\n",
       "      <td>France</td>\n",
       "      <td>Terrasses du Larzac</td>\n",
       "      <td>La Pèira en Damaisèla</td>\n",
       "      <td>4.1</td>\n",
       "      <td>100</td>\n",
       "      <td>14.52</td>\n",
       "      <td>2017.0</td>\n",
       "      <td>Red</td>\n",
       "      <td>NaN</td>\n",
       "    </tr>\n",
       "    <tr>\n",
       "      <th>13</th>\n",
       "      <td>Zenas Primitivo</td>\n",
       "      <td>Italy</td>\n",
       "      <td>Puglia</td>\n",
       "      <td>La Bollina</td>\n",
       "      <td>3.6</td>\n",
       "      <td>100</td>\n",
       "      <td>9.26</td>\n",
       "      <td>2018.0</td>\n",
       "      <td>Red</td>\n",
       "      <td>Primitivo</td>\n",
       "    </tr>\n",
       "    <tr>\n",
       "      <th>14</th>\n",
       "      <td>Cuvée Confidence Côtes du Rhône Rouge</td>\n",
       "      <td>France</td>\n",
       "      <td>Côtes-du-Rhône</td>\n",
       "      <td>Domaine Fond Croze</td>\n",
       "      <td>3.7</td>\n",
       "      <td>100</td>\n",
       "      <td>8.49</td>\n",
       "      <td>2017.0</td>\n",
       "      <td>Red</td>\n",
       "      <td>NaN</td>\n",
       "    </tr>\n",
       "    <tr>\n",
       "      <th>15</th>\n",
       "      <td>Shiraz</td>\n",
       "      <td>Australia</td>\n",
       "      <td>South Eastern Australia</td>\n",
       "      <td>Barramundi</td>\n",
       "      <td>3.2</td>\n",
       "      <td>100</td>\n",
       "      <td>6.50</td>\n",
       "      <td>2018.0</td>\n",
       "      <td>Red</td>\n",
       "      <td>Shiraz</td>\n",
       "    </tr>\n",
       "    <tr>\n",
       "      <th>16</th>\n",
       "      <td>Proprietor's Blend</td>\n",
       "      <td>South Africa</td>\n",
       "      <td>Stellenbosch</td>\n",
       "      <td>Ernie Els</td>\n",
       "      <td>4.2</td>\n",
       "      <td>100</td>\n",
       "      <td>29.09</td>\n",
       "      <td>2016.0</td>\n",
       "      <td>Red</td>\n",
       "      <td>NaN</td>\n",
       "    </tr>\n",
       "    <tr>\n",
       "      <th>17</th>\n",
       "      <td>La Bienquerida</td>\n",
       "      <td>Spain</td>\n",
       "      <td>Bierzo</td>\n",
       "      <td>Losada</td>\n",
       "      <td>4.3</td>\n",
       "      <td>100</td>\n",
       "      <td>41.58</td>\n",
       "      <td>2016.0</td>\n",
       "      <td>Red</td>\n",
       "      <td>NaN</td>\n",
       "    </tr>\n",
       "    <tr>\n",
       "      <th>18</th>\n",
       "      <td>Cabernet Sauvignon</td>\n",
       "      <td>United States</td>\n",
       "      <td>California</td>\n",
       "      <td>Hacienda</td>\n",
       "      <td>3.8</td>\n",
       "      <td>100</td>\n",
       "      <td>7.95</td>\n",
       "      <td>2015.0</td>\n",
       "      <td>Red</td>\n",
       "      <td>Cabernet Sauvignon</td>\n",
       "    </tr>\n",
       "    <tr>\n",
       "      <th>19</th>\n",
       "      <td>Fulgeo Negroamaro Salento</td>\n",
       "      <td>Italy</td>\n",
       "      <td>Salento</td>\n",
       "      <td>San Donaci</td>\n",
       "      <td>4.0</td>\n",
       "      <td>100</td>\n",
       "      <td>12.90</td>\n",
       "      <td>2016.0</td>\n",
       "      <td>Red</td>\n",
       "      <td>Negroamaro</td>\n",
       "    </tr>\n",
       "  </tbody>\n",
       "</table>\n",
       "</div>"
      ],
      "text/plain": [
       "                                            Name        Country  \\\n",
       "0                                       Pomerol          France   \n",
       "1                                         Lirac          France   \n",
       "2                 Erta e China Rosso di Toscana           Italy   \n",
       "3                                     Bardolino           Italy   \n",
       "4                     Ried Scheibner Pinot Noir         Austria   \n",
       "5                   Gigondas (Nobles Terrasses)          France   \n",
       "6                  Marion's Vineyard Pinot Noir     New Zealand   \n",
       "7                                     Red Blend           Chile   \n",
       "8                                       Chianti           Italy   \n",
       "9                                     Tradition          France   \n",
       "10                              Chianti Riserva           Italy   \n",
       "11                                   Descendant       Australia   \n",
       "12  Les Obriers de la Peira Terrasses du Larzac          France   \n",
       "13                              Zenas Primitivo           Italy   \n",
       "14        Cuvée Confidence Côtes du Rhône Rouge          France   \n",
       "15                                       Shiraz       Australia   \n",
       "16                           Proprietor's Blend    South Africa   \n",
       "17                               La Bienquerida           Spain   \n",
       "18                           Cabernet Sauvignon   United States   \n",
       "19                    Fulgeo Negroamaro Salento           Italy   \n",
       "\n",
       "                     Region                    Winery  Rating  \\\n",
       "0                   Pomerol     Château La Providence     4.2   \n",
       "1                     Lirac        Château Mont-Redon     4.3   \n",
       "2                   Toscana                Renzo Masi     3.9   \n",
       "3                 Bardolino                Cavalchina     3.5   \n",
       "4                 Carnuntum               Markowitsch     3.9   \n",
       "5                  Gigondas             Vieux Clocher     3.7   \n",
       "6                 Wairarapa                  Schubert     4.0   \n",
       "7              Itata Valley             Viña La Causa     3.9   \n",
       "8                   Chianti         Castello Montaùto     3.6   \n",
       "9                 Minervois  Domaine des Aires Hautes     3.5   \n",
       "10                  Chianti               Poggiotondo     3.9   \n",
       "11                  Barossa                  Torbreck     4.3   \n",
       "12      Terrasses du Larzac     La Pèira en Damaisèla     4.1   \n",
       "13                   Puglia                La Bollina     3.6   \n",
       "14           Côtes-du-Rhône        Domaine Fond Croze     3.7   \n",
       "15  South Eastern Australia                Barramundi     3.2   \n",
       "16             Stellenbosch                 Ernie Els     4.2   \n",
       "17                   Bierzo                    Losada     4.3   \n",
       "18               California                  Hacienda     3.8   \n",
       "19                  Salento                San Donaci     4.0   \n",
       "\n",
       "    NumberOfRatings   Price    Year WineType             Variety  \n",
       "0               100   95.00  2011.0      Red                 NaN  \n",
       "1               100   15.50  2017.0      Red                 NaN  \n",
       "2               100    7.45  2015.0      Red                 NaN  \n",
       "3               100    8.72  2019.0      Red                 NaN  \n",
       "4               100   29.15  2016.0      Red          Pinot Noir  \n",
       "5               100   19.90  2017.0      Red                 NaN  \n",
       "6               100   43.87  2016.0      Red          Pinot Noir  \n",
       "7               100   17.52  2014.0      Red      Rare Red Blend  \n",
       "8               100   10.75  2015.0      Red       Chianti Blend  \n",
       "9               100    6.90  2014.0      Red                 NaN  \n",
       "10              100   20.95  2013.0      Red                 NaN  \n",
       "11              100  140.64  2016.0      Red                 NaN  \n",
       "12              100   14.52  2017.0      Red                 NaN  \n",
       "13              100    9.26  2018.0      Red           Primitivo  \n",
       "14              100    8.49  2017.0      Red                 NaN  \n",
       "15              100    6.50  2018.0      Red              Shiraz  \n",
       "16              100   29.09  2016.0      Red                 NaN  \n",
       "17              100   41.58  2016.0      Red                 NaN  \n",
       "18              100    7.95  2015.0      Red  Cabernet Sauvignon  \n",
       "19              100   12.90  2016.0      Red          Negroamaro  "
      ]
     },
     "execution_count": 25,
     "metadata": {},
     "output_type": "execute_result"
    }
   ],
   "source": [
    "df.head(20)"
   ]
  },
  {
   "cell_type": "code",
   "execution_count": 26,
   "metadata": {},
   "outputs": [
    {
     "name": "stdout",
     "output_type": "stream",
     "text": [
      "Match gefunden für  7648 Weine\n",
      "Unique Varieties: 422\n",
      "<class 'pandas.core.frame.DataFrame'>\n",
      "RangeIndex: 13834 entries, 0 to 13833\n",
      "Data columns (total 10 columns):\n",
      " #   Column           Non-Null Count  Dtype  \n",
      "---  ------           --------------  -----  \n",
      " 0   Name             13834 non-null  object \n",
      " 1   Country          13834 non-null  object \n",
      " 2   Region           13834 non-null  object \n",
      " 3   Winery           13834 non-null  object \n",
      " 4   Rating           13834 non-null  float64\n",
      " 5   NumberOfRatings  13834 non-null  int64  \n",
      " 6   Price            13834 non-null  float64\n",
      " 7   Year             13834 non-null  float64\n",
      " 8   WineType         13834 non-null  object \n",
      " 9   Variety          13834 non-null  object \n",
      "dtypes: float64(3), int64(1), object(6)\n",
      "memory usage: 1.1+ MB\n"
     ]
    }
   ],
   "source": [
    "print(\"Match gefunden für \", df.Variety.notna().sum(),\"Weine\")\n",
    "df.Variety = df.Variety.replace(np.nan, \"Unknown\")\n",
    "df.Variety = df.Variety.replace(\"nan\", \"Unknown\")\n",
    "print(\"Unique Varieties:\", df.Variety.nunique())\n",
    "df.info()"
   ]
  },
  {
   "cell_type": "code",
   "execution_count": 27,
   "metadata": {},
   "outputs": [],
   "source": [
    "# Entferne \"NumberOfRatings\"-Spalte weil nachgelagertes Feature\n",
    "df = df.drop([\"NumberOfRatings\"], axis=1)"
   ]
  },
  {
   "cell_type": "code",
   "execution_count": 28,
   "metadata": {},
   "outputs": [],
   "source": [
    "# Encoding der kategorischen Spalten \n",
    "# WineType/Country -> One Hot Encoding\n",
    "df = pd.get_dummies(df, columns=[\"Country\", \"WineType\"])"
   ]
  },
  {
   "cell_type": "code",
   "execution_count": 29,
   "metadata": {},
   "outputs": [
    {
     "name": "stdout",
     "output_type": "stream",
     "text": [
      "Rating\n",
      "3.8    2065\n",
      "3.9    1792\n",
      "3.7    1663\n",
      "4.0    1418\n",
      "3.6    1347\n",
      "4.1    1339\n",
      "4.2    1034\n",
      "3.5     824\n",
      "4.3     620\n",
      "3.4     469\n",
      "4.4     364\n",
      "3.3     281\n",
      "4.5     202\n",
      "3.2     142\n",
      "4.6     130\n",
      "3.1      48\n",
      "3.0      32\n",
      "4.7      31\n",
      "2.9       8\n",
      "4.8       8\n",
      "2.8       8\n",
      "2.7       3\n",
      "2.6       2\n",
      "2.5       2\n",
      "4.9       1\n",
      "2.2       1\n",
      "Name: count, dtype: int64\n",
      "Index(['Name', 'Region', 'Winery', 'Price', 'Year', 'Variety',\n",
      "       'Country_Argentina', 'Country_Australia', 'Country_Austria',\n",
      "       'Country_Brazil', 'Country_Bulgaria', 'Country_Canada', 'Country_Chile',\n",
      "       'Country_China', 'Country_Croatia', 'Country_Czech Republic',\n",
      "       'Country_France', 'Country_Georgia', 'Country_Germany',\n",
      "       'Country_Greece', 'Country_Hungary', 'Country_Israel', 'Country_Italy',\n",
      "       'Country_Lebanon', 'Country_Luxembourg', 'Country_Mexico',\n",
      "       'Country_Moldova', 'Country_New Zealand', 'Country_Portugal',\n",
      "       'Country_Romania', 'Country_Slovakia', 'Country_Slovenia',\n",
      "       'Country_South Africa', 'Country_Spain', 'Country_Switzerland',\n",
      "       'Country_Turkey', 'Country_United Kingdom', 'Country_United States',\n",
      "       'Country_Uruguay', 'WineType_Red', 'WineType_Rose',\n",
      "       'WineType_Sparkling', 'WineType_White'],\n",
      "      dtype='object')\n",
      "<class 'pandas.core.frame.DataFrame'>\n",
      "Index: 13832 entries, 0 to 13833\n",
      "Data columns (total 44 columns):\n",
      " #   Column                  Non-Null Count  Dtype  \n",
      "---  ------                  --------------  -----  \n",
      " 0   Name                    13832 non-null  object \n",
      " 1   Region                  13832 non-null  object \n",
      " 2   Winery                  13832 non-null  object \n",
      " 3   Rating                  13832 non-null  float64\n",
      " 4   Price                   13832 non-null  float64\n",
      " 5   Year                    13832 non-null  float64\n",
      " 6   Variety                 13832 non-null  object \n",
      " 7   Country_Argentina       13832 non-null  bool   \n",
      " 8   Country_Australia       13832 non-null  bool   \n",
      " 9   Country_Austria         13832 non-null  bool   \n",
      " 10  Country_Brazil          13832 non-null  bool   \n",
      " 11  Country_Bulgaria        13832 non-null  bool   \n",
      " 12  Country_Canada          13832 non-null  bool   \n",
      " 13  Country_Chile           13832 non-null  bool   \n",
      " 14  Country_China           13832 non-null  bool   \n",
      " 15  Country_Croatia         13832 non-null  bool   \n",
      " 16  Country_Czech Republic  13832 non-null  bool   \n",
      " 17  Country_France          13832 non-null  bool   \n",
      " 18  Country_Georgia         13832 non-null  bool   \n",
      " 19  Country_Germany         13832 non-null  bool   \n",
      " 20  Country_Greece          13832 non-null  bool   \n",
      " 21  Country_Hungary         13832 non-null  bool   \n",
      " 22  Country_Israel          13832 non-null  bool   \n",
      " 23  Country_Italy           13832 non-null  bool   \n",
      " 24  Country_Lebanon         13832 non-null  bool   \n",
      " 25  Country_Luxembourg      13832 non-null  bool   \n",
      " 26  Country_Mexico          13832 non-null  bool   \n",
      " 27  Country_Moldova         13832 non-null  bool   \n",
      " 28  Country_New Zealand     13832 non-null  bool   \n",
      " 29  Country_Portugal        13832 non-null  bool   \n",
      " 30  Country_Romania         13832 non-null  bool   \n",
      " 31  Country_Slovakia        13832 non-null  bool   \n",
      " 32  Country_Slovenia        13832 non-null  bool   \n",
      " 33  Country_South Africa    13832 non-null  bool   \n",
      " 34  Country_Spain           13832 non-null  bool   \n",
      " 35  Country_Switzerland     13832 non-null  bool   \n",
      " 36  Country_Turkey          13832 non-null  bool   \n",
      " 37  Country_United Kingdom  13832 non-null  bool   \n",
      " 38  Country_United States   13832 non-null  bool   \n",
      " 39  Country_Uruguay         13832 non-null  bool   \n",
      " 40  WineType_Red            13832 non-null  bool   \n",
      " 41  WineType_Rose           13832 non-null  bool   \n",
      " 42  WineType_Sparkling      13832 non-null  bool   \n",
      " 43  WineType_White          13832 non-null  bool   \n",
      "dtypes: bool(37), float64(3), object(4)\n",
      "memory usage: 1.3+ MB\n",
      "None\n"
     ]
    }
   ],
   "source": [
    "# Train/Test Split\n",
    "# kein validation split weil cross validation\n",
    "# Entferne Einträge mit Ratingwerten die nur 1 mal vorkommen, da sonst startify=y nicht möglich\n",
    "rating_counts = df[\"Rating\"].value_counts()\n",
    "print(rating_counts)\n",
    "df = df[df[\"Rating\"].isin(rating_counts[rating_counts > 1].index)]\n",
    "X = df.drop(\"Rating\", axis=\"columns\")\n",
    "y = df[\"Rating\"]\n",
    "\n",
    "# random_state=1 setzt fest, dass die Daten vor dem Splitten geshuffled werden, aber dadurch dass immer dieselbe zahl für random_state genutzt wird werden die Daten immer gleich geshuffled, man erhält also immer densleben Trainings- & Test-Datensatz\n",
    "X_train, X_test, y_train, y_test = train_test_split(X, y, stratify=y, test_size=0.2, random_state=1)\n",
    "print(X_test.columns)\n",
    "print(df.info())"
   ]
  },
  {
   "cell_type": "code",
   "execution_count": 30,
   "metadata": {},
   "outputs": [],
   "source": [
    "# Winery/Region/Variety -> Target Encoding\n",
    "winery_encoder = TargetEncoder()\n",
    "region_encoder = TargetEncoder()\n",
    "variety_encoder = TargetEncoder()\n",
    "\n",
    "X_train[\"Winery_encoded\"] = winery_encoder.fit_transform(X_train[\"Winery\"], y_train)\n",
    "X_train[\"Region_encoded\"] = region_encoder.fit_transform(X_train[\"Region\"], y_train)\n",
    "X_train[\"Variety_encoded\"] = variety_encoder.fit_transform(X_train[\"Variety\"], y_train)\n",
    "\n",
    "X_test[\"Winery_encoded\"] = winery_encoder.transform(X_test[\"Winery\"])\n",
    "X_test[\"Region_encoded\"] = region_encoder.transform(X_test[\"Region\"])\n",
    "X_test[\"Variety_encoded\"] = variety_encoder.transform(X_test[\"Variety\"])\n",
    "\n",
    "X_train = X_train.drop([\"Region\", \"Winery\", \"Name\", \"Variety\"], axis=1)\n",
    "X_test = X_test.drop([\"Region\", \"Winery\", \"Name\", \"Variety\"], axis=1)"
   ]
  },
  {
   "cell_type": "code",
   "execution_count": 31,
   "metadata": {},
   "outputs": [
    {
     "name": "stdout",
     "output_type": "stream",
     "text": [
      "31 Features mit Varianz > 0.001:\n",
      "Index(['Price', 'Year', 'Country_Argentina', 'Country_Australia',\n",
      "       'Country_Austria', 'Country_Brazil', 'Country_Chile', 'Country_France',\n",
      "       'Country_Germany', 'Country_Greece', 'Country_Hungary',\n",
      "       'Country_Israel', 'Country_Italy', 'Country_Lebanon',\n",
      "       'Country_Luxembourg', 'Country_Moldova', 'Country_New Zealand',\n",
      "       'Country_Portugal', 'Country_Romania', 'Country_Slovenia',\n",
      "       'Country_South Africa', 'Country_Spain', 'Country_Switzerland',\n",
      "       'Country_United States', 'WineType_Red', 'WineType_Rose',\n",
      "       'WineType_Sparkling', 'WineType_White', 'Winery_encoded',\n",
      "       'Region_encoded', 'Variety_encoded'],\n",
      "      dtype='object')\n"
     ]
    }
   ],
   "source": [
    "# Feature Selection\n",
    "\n",
    "var_selector = VarianceThreshold(threshold=0.001)\n",
    "X_train_reduced= var_selector.fit_transform(X_train)\n",
    "X_test_reduced = var_selector.transform(X_test)\n",
    "\n",
    "selected_features = X_train.columns[var_selector.get_support()]\n",
    "print(len(selected_features), \"Features mit Varianz > 0.001:\")\n",
    "print(selected_features)"
   ]
  },
  {
   "cell_type": "code",
   "execution_count": 32,
   "metadata": {},
   "outputs": [],
   "source": [
    "# Scaling \n",
    "robust_scaler = RobustScaler()\n",
    "X_train_reduced = robust_scaler.fit_transform(X_train_reduced)\n",
    "X_test_reduced = robust_scaler.transform(X_test_reduced)"
   ]
  },
  {
   "cell_type": "markdown",
   "metadata": {},
   "source": [
    "## MODEL"
   ]
  },
  {
   "cell_type": "markdown",
   "metadata": {},
   "source": [
    "### Dummy Regressor"
   ]
  },
  {
   "cell_type": "code",
   "execution_count": 33,
   "metadata": {},
   "outputs": [
    {
     "name": "stdout",
     "output_type": "stream",
     "text": [
      "MAPE:  0.0616601945334654\n",
      "MAE: 0.23596271726798845\n"
     ]
    }
   ],
   "source": [
    "# Durchschnitt\n",
    "dummy = DummyRegressor(strategy=\"mean\")\n",
    "\n",
    "dummy.fit(X_train_reduced, y_train)\n",
    "\n",
    "y_pred_test_dummy = dummy.predict(X_test_reduced)\n",
    "\n",
    "mape_dummy_test = mean_absolute_percentage_error(y_test, y_pred_test_dummy)\n",
    "mae_dummy_test = mean_absolute_error(y_test, y_pred_test_dummy)\n",
    "\n",
    "print(\"MAPE: \", mape_dummy_test)\n",
    "print(\"MAE:\", mae_dummy_test)"
   ]
  },
  {
   "cell_type": "markdown",
   "metadata": {},
   "source": [
    "### KNN Regression"
   ]
  },
  {
   "cell_type": "markdown",
   "metadata": {},
   "source": [
    "#### Base Model Test"
   ]
  },
  {
   "cell_type": "code",
   "execution_count": 34,
   "metadata": {},
   "outputs": [
    {
     "data": {
      "text/html": [
       "<style>#sk-container-id-1 {\n",
       "  /* Definition of color scheme common for light and dark mode */\n",
       "  --sklearn-color-text: #000;\n",
       "  --sklearn-color-text-muted: #666;\n",
       "  --sklearn-color-line: gray;\n",
       "  /* Definition of color scheme for unfitted estimators */\n",
       "  --sklearn-color-unfitted-level-0: #fff5e6;\n",
       "  --sklearn-color-unfitted-level-1: #f6e4d2;\n",
       "  --sklearn-color-unfitted-level-2: #ffe0b3;\n",
       "  --sklearn-color-unfitted-level-3: chocolate;\n",
       "  /* Definition of color scheme for fitted estimators */\n",
       "  --sklearn-color-fitted-level-0: #f0f8ff;\n",
       "  --sklearn-color-fitted-level-1: #d4ebff;\n",
       "  --sklearn-color-fitted-level-2: #b3dbfd;\n",
       "  --sklearn-color-fitted-level-3: cornflowerblue;\n",
       "\n",
       "  /* Specific color for light theme */\n",
       "  --sklearn-color-text-on-default-background: var(--sg-text-color, var(--theme-code-foreground, var(--jp-content-font-color1, black)));\n",
       "  --sklearn-color-background: var(--sg-background-color, var(--theme-background, var(--jp-layout-color0, white)));\n",
       "  --sklearn-color-border-box: var(--sg-text-color, var(--theme-code-foreground, var(--jp-content-font-color1, black)));\n",
       "  --sklearn-color-icon: #696969;\n",
       "\n",
       "  @media (prefers-color-scheme: dark) {\n",
       "    /* Redefinition of color scheme for dark theme */\n",
       "    --sklearn-color-text-on-default-background: var(--sg-text-color, var(--theme-code-foreground, var(--jp-content-font-color1, white)));\n",
       "    --sklearn-color-background: var(--sg-background-color, var(--theme-background, var(--jp-layout-color0, #111)));\n",
       "    --sklearn-color-border-box: var(--sg-text-color, var(--theme-code-foreground, var(--jp-content-font-color1, white)));\n",
       "    --sklearn-color-icon: #878787;\n",
       "  }\n",
       "}\n",
       "\n",
       "#sk-container-id-1 {\n",
       "  color: var(--sklearn-color-text);\n",
       "}\n",
       "\n",
       "#sk-container-id-1 pre {\n",
       "  padding: 0;\n",
       "}\n",
       "\n",
       "#sk-container-id-1 input.sk-hidden--visually {\n",
       "  border: 0;\n",
       "  clip: rect(1px 1px 1px 1px);\n",
       "  clip: rect(1px, 1px, 1px, 1px);\n",
       "  height: 1px;\n",
       "  margin: -1px;\n",
       "  overflow: hidden;\n",
       "  padding: 0;\n",
       "  position: absolute;\n",
       "  width: 1px;\n",
       "}\n",
       "\n",
       "#sk-container-id-1 div.sk-dashed-wrapped {\n",
       "  border: 1px dashed var(--sklearn-color-line);\n",
       "  margin: 0 0.4em 0.5em 0.4em;\n",
       "  box-sizing: border-box;\n",
       "  padding-bottom: 0.4em;\n",
       "  background-color: var(--sklearn-color-background);\n",
       "}\n",
       "\n",
       "#sk-container-id-1 div.sk-container {\n",
       "  /* jupyter's `normalize.less` sets `[hidden] { display: none; }`\n",
       "     but bootstrap.min.css set `[hidden] { display: none !important; }`\n",
       "     so we also need the `!important` here to be able to override the\n",
       "     default hidden behavior on the sphinx rendered scikit-learn.org.\n",
       "     See: https://github.com/scikit-learn/scikit-learn/issues/21755 */\n",
       "  display: inline-block !important;\n",
       "  position: relative;\n",
       "}\n",
       "\n",
       "#sk-container-id-1 div.sk-text-repr-fallback {\n",
       "  display: none;\n",
       "}\n",
       "\n",
       "div.sk-parallel-item,\n",
       "div.sk-serial,\n",
       "div.sk-item {\n",
       "  /* draw centered vertical line to link estimators */\n",
       "  background-image: linear-gradient(var(--sklearn-color-text-on-default-background), var(--sklearn-color-text-on-default-background));\n",
       "  background-size: 2px 100%;\n",
       "  background-repeat: no-repeat;\n",
       "  background-position: center center;\n",
       "}\n",
       "\n",
       "/* Parallel-specific style estimator block */\n",
       "\n",
       "#sk-container-id-1 div.sk-parallel-item::after {\n",
       "  content: \"\";\n",
       "  width: 100%;\n",
       "  border-bottom: 2px solid var(--sklearn-color-text-on-default-background);\n",
       "  flex-grow: 1;\n",
       "}\n",
       "\n",
       "#sk-container-id-1 div.sk-parallel {\n",
       "  display: flex;\n",
       "  align-items: stretch;\n",
       "  justify-content: center;\n",
       "  background-color: var(--sklearn-color-background);\n",
       "  position: relative;\n",
       "}\n",
       "\n",
       "#sk-container-id-1 div.sk-parallel-item {\n",
       "  display: flex;\n",
       "  flex-direction: column;\n",
       "}\n",
       "\n",
       "#sk-container-id-1 div.sk-parallel-item:first-child::after {\n",
       "  align-self: flex-end;\n",
       "  width: 50%;\n",
       "}\n",
       "\n",
       "#sk-container-id-1 div.sk-parallel-item:last-child::after {\n",
       "  align-self: flex-start;\n",
       "  width: 50%;\n",
       "}\n",
       "\n",
       "#sk-container-id-1 div.sk-parallel-item:only-child::after {\n",
       "  width: 0;\n",
       "}\n",
       "\n",
       "/* Serial-specific style estimator block */\n",
       "\n",
       "#sk-container-id-1 div.sk-serial {\n",
       "  display: flex;\n",
       "  flex-direction: column;\n",
       "  align-items: center;\n",
       "  background-color: var(--sklearn-color-background);\n",
       "  padding-right: 1em;\n",
       "  padding-left: 1em;\n",
       "}\n",
       "\n",
       "\n",
       "/* Toggleable style: style used for estimator/Pipeline/ColumnTransformer box that is\n",
       "clickable and can be expanded/collapsed.\n",
       "- Pipeline and ColumnTransformer use this feature and define the default style\n",
       "- Estimators will overwrite some part of the style using the `sk-estimator` class\n",
       "*/\n",
       "\n",
       "/* Pipeline and ColumnTransformer style (default) */\n",
       "\n",
       "#sk-container-id-1 div.sk-toggleable {\n",
       "  /* Default theme specific background. It is overwritten whether we have a\n",
       "  specific estimator or a Pipeline/ColumnTransformer */\n",
       "  background-color: var(--sklearn-color-background);\n",
       "}\n",
       "\n",
       "/* Toggleable label */\n",
       "#sk-container-id-1 label.sk-toggleable__label {\n",
       "  cursor: pointer;\n",
       "  display: flex;\n",
       "  width: 100%;\n",
       "  margin-bottom: 0;\n",
       "  padding: 0.5em;\n",
       "  box-sizing: border-box;\n",
       "  text-align: center;\n",
       "  align-items: start;\n",
       "  justify-content: space-between;\n",
       "  gap: 0.5em;\n",
       "}\n",
       "\n",
       "#sk-container-id-1 label.sk-toggleable__label .caption {\n",
       "  font-size: 0.6rem;\n",
       "  font-weight: lighter;\n",
       "  color: var(--sklearn-color-text-muted);\n",
       "}\n",
       "\n",
       "#sk-container-id-1 label.sk-toggleable__label-arrow:before {\n",
       "  /* Arrow on the left of the label */\n",
       "  content: \"▸\";\n",
       "  float: left;\n",
       "  margin-right: 0.25em;\n",
       "  color: var(--sklearn-color-icon);\n",
       "}\n",
       "\n",
       "#sk-container-id-1 label.sk-toggleable__label-arrow:hover:before {\n",
       "  color: var(--sklearn-color-text);\n",
       "}\n",
       "\n",
       "/* Toggleable content - dropdown */\n",
       "\n",
       "#sk-container-id-1 div.sk-toggleable__content {\n",
       "  max-height: 0;\n",
       "  max-width: 0;\n",
       "  overflow: hidden;\n",
       "  text-align: left;\n",
       "  /* unfitted */\n",
       "  background-color: var(--sklearn-color-unfitted-level-0);\n",
       "}\n",
       "\n",
       "#sk-container-id-1 div.sk-toggleable__content.fitted {\n",
       "  /* fitted */\n",
       "  background-color: var(--sklearn-color-fitted-level-0);\n",
       "}\n",
       "\n",
       "#sk-container-id-1 div.sk-toggleable__content pre {\n",
       "  margin: 0.2em;\n",
       "  border-radius: 0.25em;\n",
       "  color: var(--sklearn-color-text);\n",
       "  /* unfitted */\n",
       "  background-color: var(--sklearn-color-unfitted-level-0);\n",
       "}\n",
       "\n",
       "#sk-container-id-1 div.sk-toggleable__content.fitted pre {\n",
       "  /* unfitted */\n",
       "  background-color: var(--sklearn-color-fitted-level-0);\n",
       "}\n",
       "\n",
       "#sk-container-id-1 input.sk-toggleable__control:checked~div.sk-toggleable__content {\n",
       "  /* Expand drop-down */\n",
       "  max-height: 200px;\n",
       "  max-width: 100%;\n",
       "  overflow: auto;\n",
       "}\n",
       "\n",
       "#sk-container-id-1 input.sk-toggleable__control:checked~label.sk-toggleable__label-arrow:before {\n",
       "  content: \"▾\";\n",
       "}\n",
       "\n",
       "/* Pipeline/ColumnTransformer-specific style */\n",
       "\n",
       "#sk-container-id-1 div.sk-label input.sk-toggleable__control:checked~label.sk-toggleable__label {\n",
       "  color: var(--sklearn-color-text);\n",
       "  background-color: var(--sklearn-color-unfitted-level-2);\n",
       "}\n",
       "\n",
       "#sk-container-id-1 div.sk-label.fitted input.sk-toggleable__control:checked~label.sk-toggleable__label {\n",
       "  background-color: var(--sklearn-color-fitted-level-2);\n",
       "}\n",
       "\n",
       "/* Estimator-specific style */\n",
       "\n",
       "/* Colorize estimator box */\n",
       "#sk-container-id-1 div.sk-estimator input.sk-toggleable__control:checked~label.sk-toggleable__label {\n",
       "  /* unfitted */\n",
       "  background-color: var(--sklearn-color-unfitted-level-2);\n",
       "}\n",
       "\n",
       "#sk-container-id-1 div.sk-estimator.fitted input.sk-toggleable__control:checked~label.sk-toggleable__label {\n",
       "  /* fitted */\n",
       "  background-color: var(--sklearn-color-fitted-level-2);\n",
       "}\n",
       "\n",
       "#sk-container-id-1 div.sk-label label.sk-toggleable__label,\n",
       "#sk-container-id-1 div.sk-label label {\n",
       "  /* The background is the default theme color */\n",
       "  color: var(--sklearn-color-text-on-default-background);\n",
       "}\n",
       "\n",
       "/* On hover, darken the color of the background */\n",
       "#sk-container-id-1 div.sk-label:hover label.sk-toggleable__label {\n",
       "  color: var(--sklearn-color-text);\n",
       "  background-color: var(--sklearn-color-unfitted-level-2);\n",
       "}\n",
       "\n",
       "/* Label box, darken color on hover, fitted */\n",
       "#sk-container-id-1 div.sk-label.fitted:hover label.sk-toggleable__label.fitted {\n",
       "  color: var(--sklearn-color-text);\n",
       "  background-color: var(--sklearn-color-fitted-level-2);\n",
       "}\n",
       "\n",
       "/* Estimator label */\n",
       "\n",
       "#sk-container-id-1 div.sk-label label {\n",
       "  font-family: monospace;\n",
       "  font-weight: bold;\n",
       "  display: inline-block;\n",
       "  line-height: 1.2em;\n",
       "}\n",
       "\n",
       "#sk-container-id-1 div.sk-label-container {\n",
       "  text-align: center;\n",
       "}\n",
       "\n",
       "/* Estimator-specific */\n",
       "#sk-container-id-1 div.sk-estimator {\n",
       "  font-family: monospace;\n",
       "  border: 1px dotted var(--sklearn-color-border-box);\n",
       "  border-radius: 0.25em;\n",
       "  box-sizing: border-box;\n",
       "  margin-bottom: 0.5em;\n",
       "  /* unfitted */\n",
       "  background-color: var(--sklearn-color-unfitted-level-0);\n",
       "}\n",
       "\n",
       "#sk-container-id-1 div.sk-estimator.fitted {\n",
       "  /* fitted */\n",
       "  background-color: var(--sklearn-color-fitted-level-0);\n",
       "}\n",
       "\n",
       "/* on hover */\n",
       "#sk-container-id-1 div.sk-estimator:hover {\n",
       "  /* unfitted */\n",
       "  background-color: var(--sklearn-color-unfitted-level-2);\n",
       "}\n",
       "\n",
       "#sk-container-id-1 div.sk-estimator.fitted:hover {\n",
       "  /* fitted */\n",
       "  background-color: var(--sklearn-color-fitted-level-2);\n",
       "}\n",
       "\n",
       "/* Specification for estimator info (e.g. \"i\" and \"?\") */\n",
       "\n",
       "/* Common style for \"i\" and \"?\" */\n",
       "\n",
       ".sk-estimator-doc-link,\n",
       "a:link.sk-estimator-doc-link,\n",
       "a:visited.sk-estimator-doc-link {\n",
       "  float: right;\n",
       "  font-size: smaller;\n",
       "  line-height: 1em;\n",
       "  font-family: monospace;\n",
       "  background-color: var(--sklearn-color-background);\n",
       "  border-radius: 1em;\n",
       "  height: 1em;\n",
       "  width: 1em;\n",
       "  text-decoration: none !important;\n",
       "  margin-left: 0.5em;\n",
       "  text-align: center;\n",
       "  /* unfitted */\n",
       "  border: var(--sklearn-color-unfitted-level-1) 1pt solid;\n",
       "  color: var(--sklearn-color-unfitted-level-1);\n",
       "}\n",
       "\n",
       ".sk-estimator-doc-link.fitted,\n",
       "a:link.sk-estimator-doc-link.fitted,\n",
       "a:visited.sk-estimator-doc-link.fitted {\n",
       "  /* fitted */\n",
       "  border: var(--sklearn-color-fitted-level-1) 1pt solid;\n",
       "  color: var(--sklearn-color-fitted-level-1);\n",
       "}\n",
       "\n",
       "/* On hover */\n",
       "div.sk-estimator:hover .sk-estimator-doc-link:hover,\n",
       ".sk-estimator-doc-link:hover,\n",
       "div.sk-label-container:hover .sk-estimator-doc-link:hover,\n",
       ".sk-estimator-doc-link:hover {\n",
       "  /* unfitted */\n",
       "  background-color: var(--sklearn-color-unfitted-level-3);\n",
       "  color: var(--sklearn-color-background);\n",
       "  text-decoration: none;\n",
       "}\n",
       "\n",
       "div.sk-estimator.fitted:hover .sk-estimator-doc-link.fitted:hover,\n",
       ".sk-estimator-doc-link.fitted:hover,\n",
       "div.sk-label-container:hover .sk-estimator-doc-link.fitted:hover,\n",
       ".sk-estimator-doc-link.fitted:hover {\n",
       "  /* fitted */\n",
       "  background-color: var(--sklearn-color-fitted-level-3);\n",
       "  color: var(--sklearn-color-background);\n",
       "  text-decoration: none;\n",
       "}\n",
       "\n",
       "/* Span, style for the box shown on hovering the info icon */\n",
       ".sk-estimator-doc-link span {\n",
       "  display: none;\n",
       "  z-index: 9999;\n",
       "  position: relative;\n",
       "  font-weight: normal;\n",
       "  right: .2ex;\n",
       "  padding: .5ex;\n",
       "  margin: .5ex;\n",
       "  width: min-content;\n",
       "  min-width: 20ex;\n",
       "  max-width: 50ex;\n",
       "  color: var(--sklearn-color-text);\n",
       "  box-shadow: 2pt 2pt 4pt #999;\n",
       "  /* unfitted */\n",
       "  background: var(--sklearn-color-unfitted-level-0);\n",
       "  border: .5pt solid var(--sklearn-color-unfitted-level-3);\n",
       "}\n",
       "\n",
       ".sk-estimator-doc-link.fitted span {\n",
       "  /* fitted */\n",
       "  background: var(--sklearn-color-fitted-level-0);\n",
       "  border: var(--sklearn-color-fitted-level-3);\n",
       "}\n",
       "\n",
       ".sk-estimator-doc-link:hover span {\n",
       "  display: block;\n",
       "}\n",
       "\n",
       "/* \"?\"-specific style due to the `<a>` HTML tag */\n",
       "\n",
       "#sk-container-id-1 a.estimator_doc_link {\n",
       "  float: right;\n",
       "  font-size: 1rem;\n",
       "  line-height: 1em;\n",
       "  font-family: monospace;\n",
       "  background-color: var(--sklearn-color-background);\n",
       "  border-radius: 1rem;\n",
       "  height: 1rem;\n",
       "  width: 1rem;\n",
       "  text-decoration: none;\n",
       "  /* unfitted */\n",
       "  color: var(--sklearn-color-unfitted-level-1);\n",
       "  border: var(--sklearn-color-unfitted-level-1) 1pt solid;\n",
       "}\n",
       "\n",
       "#sk-container-id-1 a.estimator_doc_link.fitted {\n",
       "  /* fitted */\n",
       "  border: var(--sklearn-color-fitted-level-1) 1pt solid;\n",
       "  color: var(--sklearn-color-fitted-level-1);\n",
       "}\n",
       "\n",
       "/* On hover */\n",
       "#sk-container-id-1 a.estimator_doc_link:hover {\n",
       "  /* unfitted */\n",
       "  background-color: var(--sklearn-color-unfitted-level-3);\n",
       "  color: var(--sklearn-color-background);\n",
       "  text-decoration: none;\n",
       "}\n",
       "\n",
       "#sk-container-id-1 a.estimator_doc_link.fitted:hover {\n",
       "  /* fitted */\n",
       "  background-color: var(--sklearn-color-fitted-level-3);\n",
       "}\n",
       "</style><div id=\"sk-container-id-1\" class=\"sk-top-container\"><div class=\"sk-text-repr-fallback\"><pre>KNeighborsRegressor()</pre><b>In a Jupyter environment, please rerun this cell to show the HTML representation or trust the notebook. <br />On GitHub, the HTML representation is unable to render, please try loading this page with nbviewer.org.</b></div><div class=\"sk-container\" hidden><div class=\"sk-item\"><div class=\"sk-estimator fitted sk-toggleable\"><input class=\"sk-toggleable__control sk-hidden--visually\" id=\"sk-estimator-id-1\" type=\"checkbox\" checked><label for=\"sk-estimator-id-1\" class=\"sk-toggleable__label fitted sk-toggleable__label-arrow\"><div><div>KNeighborsRegressor</div></div><div><a class=\"sk-estimator-doc-link fitted\" rel=\"noreferrer\" target=\"_blank\" href=\"https://scikit-learn.org/1.6/modules/generated/sklearn.neighbors.KNeighborsRegressor.html\">?<span>Documentation for KNeighborsRegressor</span></a><span class=\"sk-estimator-doc-link fitted\">i<span>Fitted</span></span></div></label><div class=\"sk-toggleable__content fitted\"><pre>KNeighborsRegressor()</pre></div> </div></div></div></div>"
      ],
      "text/plain": [
       "KNeighborsRegressor()"
      ]
     },
     "execution_count": 34,
     "metadata": {},
     "output_type": "execute_result"
    }
   ],
   "source": [
    "knn_regressor = KNeighborsRegressor()\n",
    "knn_regressor.fit(X_train_reduced, y_train)"
   ]
  },
  {
   "cell_type": "code",
   "execution_count": 35,
   "metadata": {},
   "outputs": [
    {
     "name": "stdout",
     "output_type": "stream",
     "text": [
      "0.15235272858691723\n",
      "0.04027580486857026\n"
     ]
    }
   ],
   "source": [
    "y_pred = knn_regressor.predict(X_test_reduced)\n",
    "print(mean_absolute_error(y_pred, y_test))\n",
    "print(mean_absolute_percentage_error(y_test, y_pred))"
   ]
  },
  {
   "cell_type": "markdown",
   "metadata": {},
   "source": [
    "### Gradient Boosting Regression"
   ]
  },
  {
   "cell_type": "markdown",
   "metadata": {},
   "source": [
    "#### Base Model Test"
   ]
  },
  {
   "cell_type": "code",
   "execution_count": 36,
   "metadata": {},
   "outputs": [
    {
     "name": "stdout",
     "output_type": "stream",
     "text": [
      "0.14595006101459923\n",
      "0.03852468896373109\n"
     ]
    }
   ],
   "source": [
    "reg = GradientBoostingRegressor()\n",
    "reg.fit(X_train_reduced, y_train)\n",
    "y_pred = reg.predict(X_test_reduced)\n",
    "print(mean_absolute_error(y_test, y_pred))\n",
    "print(mean_absolute_percentage_error(y_test, y_pred))"
   ]
  },
  {
   "cell_type": "markdown",
   "metadata": {},
   "source": [
    "### Random Forest Regressor"
   ]
  },
  {
   "cell_type": "markdown",
   "metadata": {},
   "source": [
    "#### Base Model Test"
   ]
  },
  {
   "cell_type": "code",
   "execution_count": 37,
   "metadata": {},
   "outputs": [
    {
     "name": "stdout",
     "output_type": "stream",
     "text": [
      "0.14260836875648947\n",
      "0.0376324160795318\n"
     ]
    }
   ],
   "source": [
    "rfr = RandomForestRegressor(random_state=13)\n",
    "rfr.fit(X_train_reduced, y_train)\n",
    "y_pred = rfr.predict(X_test_reduced)\n",
    "print(mean_absolute_error(y_pred, y_test))\n",
    "print(mean_absolute_percentage_error(y_test, y_pred))"
   ]
  },
  {
   "cell_type": "markdown",
   "metadata": {},
   "source": [
    "#### Tuning"
   ]
  },
  {
   "cell_type": "code",
   "execution_count": 38,
   "metadata": {},
   "outputs": [
    {
     "name": "stdout",
     "output_type": "stream",
     "text": [
      "{'bootstrap': True, 'ccp_alpha': 0.0, 'criterion': 'squared_error', 'max_depth': None, 'max_features': 1.0, 'max_leaf_nodes': None, 'max_samples': None, 'min_impurity_decrease': 0.0, 'min_samples_leaf': 1, 'min_samples_split': 2, 'min_weight_fraction_leaf': 0.0, 'monotonic_cst': None, 'n_estimators': 100, 'n_jobs': None, 'oob_score': False, 'random_state': 13, 'verbose': 0, 'warm_start': False}\n"
     ]
    }
   ],
   "source": [
    "print(rfr.get_params())"
   ]
  },
  {
   "cell_type": "code",
   "execution_count": 39,
   "metadata": {},
   "outputs": [
    {
     "name": "stdout",
     "output_type": "stream",
     "text": [
      "Fitting 3 folds for each of 108 candidates, totalling 324 fits\n",
      "[CV] END max_depth=20, max_features=0.5, min_samples_leaf=1, min_samples_split=2, n_estimators=500; total time=   7.7s\n",
      "[CV] END max_depth=20, max_features=0.5, min_samples_leaf=1, min_samples_split=2, n_estimators=500; total time=   7.9s\n",
      "[CV] END max_depth=20, max_features=0.5, min_samples_leaf=1, min_samples_split=2, n_estimators=500; total time=   8.0s\n",
      "[CV] END max_depth=20, max_features=0.5, min_samples_leaf=1, min_samples_split=5, n_estimators=500; total time=   7.3s\n",
      "[CV] END max_depth=20, max_features=0.5, min_samples_leaf=1, min_samples_split=5, n_estimators=500; total time=   7.3s\n",
      "[CV] END max_depth=20, max_features=0.5, min_samples_leaf=1, min_samples_split=2, n_estimators=1000; total time=  15.8s\n",
      "[CV] END max_depth=20, max_features=0.5, min_samples_leaf=1, min_samples_split=2, n_estimators=1000; total time=  16.1s\n",
      "[CV] END max_depth=20, max_features=0.5, min_samples_leaf=1, min_samples_split=2, n_estimators=1000; total time=  16.1s\n",
      "[CV] END max_depth=20, max_features=0.5, min_samples_leaf=1, min_samples_split=5, n_estimators=500; total time=   7.5s\n",
      "[CV] END max_depth=20, max_features=0.5, min_samples_leaf=1, min_samples_split=2, n_estimators=1500; total time=  24.1s\n",
      "[CV] END max_depth=20, max_features=0.5, min_samples_leaf=1, min_samples_split=2, n_estimators=1500; total time=  24.2s\n",
      "[CV] END max_depth=20, max_features=0.5, min_samples_leaf=1, min_samples_split=5, n_estimators=1000; total time=  14.7s\n",
      "[CV] END max_depth=20, max_features=0.5, min_samples_leaf=1, min_samples_split=5, n_estimators=1000; total time=  14.8s\n",
      "[CV] END max_depth=20, max_features=0.5, min_samples_leaf=1, min_samples_split=10, n_estimators=500; total time=   6.5s\n",
      "[CV] END max_depth=20, max_features=0.5, min_samples_leaf=1, min_samples_split=5, n_estimators=1000; total time=  14.7s\n",
      "[CV] END max_depth=20, max_features=0.5, min_samples_leaf=1, min_samples_split=2, n_estimators=1500; total time=  24.7s\n"
     ]
    },
    {
     "name": "stderr",
     "output_type": "stream",
     "text": [
      "/Users/lisameuser/Library/Mobile Documents/com~apple~CloudDocs/Semester 4/Data Exploration Project/eda_ml_wine_quality/.venv/lib/python3.11/site-packages/joblib/externals/loky/process_executor.py:752: UserWarning:\n",
      "\n",
      "A worker stopped while some jobs were given to the executor. This can be caused by a too short worker timeout or by a memory leak.\n",
      "\n"
     ]
    },
    {
     "name": "stdout",
     "output_type": "stream",
     "text": [
      "[CV] END max_depth=20, max_features=0.5, min_samples_leaf=1, min_samples_split=10, n_estimators=500; total time=   6.8s\n",
      "[CV] END max_depth=20, max_features=0.5, min_samples_leaf=1, min_samples_split=10, n_estimators=500; total time=   6.6s\n",
      "[CV] END max_depth=20, max_features=0.5, min_samples_leaf=1, min_samples_split=5, n_estimators=1500; total time=  21.9s\n",
      "[CV] END max_depth=20, max_features=0.5, min_samples_leaf=1, min_samples_split=10, n_estimators=1000; total time=  13.0s\n",
      "[CV] END max_depth=20, max_features=0.5, min_samples_leaf=1, min_samples_split=10, n_estimators=1000; total time=  13.0s\n",
      "[CV] END max_depth=20, max_features=0.5, min_samples_leaf=1, min_samples_split=5, n_estimators=1500; total time=  21.9s\n",
      "[CV] END max_depth=20, max_features=0.5, min_samples_leaf=1, min_samples_split=5, n_estimators=1500; total time=  22.4s\n",
      "[CV] END max_depth=20, max_features=0.5, min_samples_leaf=1, min_samples_split=10, n_estimators=1000; total time=  13.2s\n",
      "[CV] END max_depth=20, max_features=0.5, min_samples_leaf=2, min_samples_split=2, n_estimators=500; total time=   7.2s\n",
      "[CV] END max_depth=20, max_features=0.5, min_samples_leaf=2, min_samples_split=2, n_estimators=500; total time=   7.3s\n",
      "[CV] END max_depth=20, max_features=0.5, min_samples_leaf=2, min_samples_split=2, n_estimators=500; total time=   7.3s\n",
      "[CV] END max_depth=20, max_features=0.5, min_samples_leaf=1, min_samples_split=10, n_estimators=1500; total time=  19.9s\n",
      "[CV] END max_depth=20, max_features=0.5, min_samples_leaf=1, min_samples_split=10, n_estimators=1500; total time=  19.8s\n",
      "[CV] END max_depth=20, max_features=0.5, min_samples_leaf=1, min_samples_split=10, n_estimators=1500; total time=  19.8s\n",
      "[CV] END max_depth=20, max_features=0.5, min_samples_leaf=2, min_samples_split=2, n_estimators=1000; total time=  14.5s\n",
      "[CV] END max_depth=20, max_features=0.5, min_samples_leaf=2, min_samples_split=2, n_estimators=1000; total time=  14.2s\n",
      "[CV] END max_depth=20, max_features=0.5, min_samples_leaf=2, min_samples_split=5, n_estimators=500; total time=   7.0s\n",
      "[CV] END max_depth=20, max_features=0.5, min_samples_leaf=2, min_samples_split=5, n_estimators=500; total time=   7.0s\n",
      "[CV] END max_depth=20, max_features=0.5, min_samples_leaf=2, min_samples_split=2, n_estimators=1000; total time=  14.6s\n",
      "[CV] END max_depth=20, max_features=0.5, min_samples_leaf=2, min_samples_split=5, n_estimators=500; total time=   7.2s\n",
      "[CV] END max_depth=20, max_features=0.5, min_samples_leaf=2, min_samples_split=2, n_estimators=1500; total time=  21.8s\n",
      "[CV] END max_depth=20, max_features=0.5, min_samples_leaf=2, min_samples_split=2, n_estimators=1500; total time=  21.4s\n",
      "[CV] END max_depth=20, max_features=0.5, min_samples_leaf=2, min_samples_split=5, n_estimators=1000; total time=  14.3s\n",
      "[CV] END max_depth=20, max_features=0.5, min_samples_leaf=2, min_samples_split=5, n_estimators=1000; total time=  14.2s\n",
      "[CV] END max_depth=20, max_features=0.5, min_samples_leaf=2, min_samples_split=2, n_estimators=1500; total time=  22.4s\n",
      "[CV] END max_depth=20, max_features=0.5, min_samples_leaf=2, min_samples_split=5, n_estimators=1000; total time=  14.3s\n",
      "[CV] END max_depth=20, max_features=0.5, min_samples_leaf=2, min_samples_split=10, n_estimators=500; total time=   6.7s\n",
      "[CV] END max_depth=20, max_features=0.5, min_samples_leaf=2, min_samples_split=10, n_estimators=500; total time=   6.8s\n",
      "[CV] END max_depth=20, max_features=0.5, min_samples_leaf=2, min_samples_split=10, n_estimators=500; total time=   7.0s\n",
      "[CV] END max_depth=20, max_features=0.5, min_samples_leaf=2, min_samples_split=5, n_estimators=1500; total time=  22.5s\n",
      "[CV] END max_depth=20, max_features=0.5, min_samples_leaf=2, min_samples_split=5, n_estimators=1500; total time=  22.7s\n",
      "[CV] END max_depth=20, max_features=0.5, min_samples_leaf=2, min_samples_split=10, n_estimators=1000; total time=  14.1s\n",
      "[CV] END max_depth=20, max_features=0.5, min_samples_leaf=2, min_samples_split=10, n_estimators=1000; total time=  14.1s\n",
      "[CV] END max_depth=20, max_features=0.5, min_samples_leaf=2, min_samples_split=10, n_estimators=1000; total time=  14.0s\n",
      "[CV] END max_depth=20, max_features=0.5, min_samples_leaf=2, min_samples_split=5, n_estimators=1500; total time=  22.8s\n",
      "[CV] END max_depth=20, max_features=0.5, min_samples_leaf=4, min_samples_split=2, n_estimators=500; total time=   7.0s\n",
      "[CV] END max_depth=20, max_features=0.5, min_samples_leaf=4, min_samples_split=2, n_estimators=500; total time=   7.3s\n",
      "[CV] END max_depth=20, max_features=0.5, min_samples_leaf=4, min_samples_split=2, n_estimators=500; total time=   7.1s\n",
      "[CV] END max_depth=20, max_features=0.5, min_samples_leaf=2, min_samples_split=10, n_estimators=1500; total time=  22.0s\n",
      "[CV] END max_depth=20, max_features=0.5, min_samples_leaf=2, min_samples_split=10, n_estimators=1500; total time=  22.4s\n",
      "[CV] END max_depth=20, max_features=0.5, min_samples_leaf=4, min_samples_split=2, n_estimators=1000; total time=  14.5s\n",
      "[CV] END max_depth=20, max_features=0.5, min_samples_leaf=4, min_samples_split=2, n_estimators=1000; total time=  14.2s\n",
      "[CV] END max_depth=20, max_features=0.5, min_samples_leaf=2, min_samples_split=10, n_estimators=1500; total time=  22.1s\n",
      "[CV] END max_depth=20, max_features=0.5, min_samples_leaf=4, min_samples_split=2, n_estimators=1000; total time=  14.3s\n",
      "[CV] END max_depth=20, max_features=0.5, min_samples_leaf=4, min_samples_split=5, n_estimators=500; total time=   6.7s\n",
      "[CV] END max_depth=20, max_features=0.5, min_samples_leaf=4, min_samples_split=5, n_estimators=500; total time=   6.8s\n",
      "[CV] END max_depth=20, max_features=0.5, min_samples_leaf=4, min_samples_split=5, n_estimators=500; total time=   7.3s\n",
      "[CV] END max_depth=20, max_features=0.5, min_samples_leaf=4, min_samples_split=2, n_estimators=1500; total time=  20.8s\n",
      "[CV] END max_depth=20, max_features=0.5, min_samples_leaf=4, min_samples_split=2, n_estimators=1500; total time=  21.3s\n",
      "[CV] END max_depth=20, max_features=0.5, min_samples_leaf=4, min_samples_split=5, n_estimators=1000; total time=  14.5s\n",
      "[CV] END max_depth=20, max_features=0.5, min_samples_leaf=4, min_samples_split=2, n_estimators=1500; total time=  21.4s\n",
      "[CV] END max_depth=20, max_features=0.5, min_samples_leaf=4, min_samples_split=5, n_estimators=1000; total time=  14.0s\n",
      "[CV] END max_depth=20, max_features=0.5, min_samples_leaf=4, min_samples_split=5, n_estimators=1000; total time=  13.5s\n",
      "[CV] END max_depth=20, max_features=0.5, min_samples_leaf=4, min_samples_split=10, n_estimators=500; total time=   6.4s\n",
      "[CV] END max_depth=20, max_features=0.5, min_samples_leaf=4, min_samples_split=10, n_estimators=500; total time=   6.0s\n",
      "[CV] END max_depth=20, max_features=0.5, min_samples_leaf=4, min_samples_split=10, n_estimators=500; total time=   6.2s\n",
      "[CV] END max_depth=20, max_features=0.5, min_samples_leaf=4, min_samples_split=5, n_estimators=1500; total time=  19.6s\n",
      "[CV] END max_depth=20, max_features=0.5, min_samples_leaf=4, min_samples_split=5, n_estimators=1500; total time=  19.9s\n",
      "[CV] END max_depth=20, max_features=0.5, min_samples_leaf=4, min_samples_split=10, n_estimators=1000; total time=  12.3s\n",
      "[CV] END max_depth=20, max_features=0.5, min_samples_leaf=4, min_samples_split=10, n_estimators=1000; total time=  12.4s\n",
      "[CV] END max_depth=20, max_features=1, min_samples_leaf=1, min_samples_split=2, n_estimators=500; total time=   3.0s\n",
      "[CV] END max_depth=20, max_features=0.5, min_samples_leaf=4, min_samples_split=10, n_estimators=1000; total time=  12.5s\n",
      "[CV] END max_depth=20, max_features=0.5, min_samples_leaf=4, min_samples_split=5, n_estimators=1500; total time=  19.5s\n",
      "[CV] END max_depth=20, max_features=1, min_samples_leaf=1, min_samples_split=2, n_estimators=500; total time=   2.9s\n",
      "[CV] END max_depth=20, max_features=1, min_samples_leaf=1, min_samples_split=2, n_estimators=500; total time=   2.8s\n",
      "[CV] END max_depth=20, max_features=1, min_samples_leaf=1, min_samples_split=2, n_estimators=1000; total time=   5.7s\n",
      "[CV] END max_depth=20, max_features=1, min_samples_leaf=1, min_samples_split=2, n_estimators=1000; total time=   5.8s\n",
      "[CV] END max_depth=20, max_features=1, min_samples_leaf=1, min_samples_split=2, n_estimators=1000; total time=   5.6s\n",
      "[CV] END max_depth=20, max_features=1, min_samples_leaf=1, min_samples_split=5, n_estimators=500; total time=   2.5s\n",
      "[CV] END max_depth=20, max_features=1, min_samples_leaf=1, min_samples_split=5, n_estimators=500; total time=   2.4s\n",
      "[CV] END max_depth=20, max_features=0.5, min_samples_leaf=4, min_samples_split=10, n_estimators=1500; total time=  18.6s\n",
      "[CV] END max_depth=20, max_features=1, min_samples_leaf=1, min_samples_split=2, n_estimators=1500; total time=   8.7s\n",
      "[CV] END max_depth=20, max_features=0.5, min_samples_leaf=4, min_samples_split=10, n_estimators=1500; total time=  18.9s\n",
      "[CV] END max_depth=20, max_features=1, min_samples_leaf=1, min_samples_split=5, n_estimators=500; total time=   2.4s\n",
      "[CV] END max_depth=20, max_features=1, min_samples_leaf=1, min_samples_split=2, n_estimators=1500; total time=   9.1s\n",
      "[CV] END max_depth=20, max_features=0.5, min_samples_leaf=4, min_samples_split=10, n_estimators=1500; total time=  19.2s\n",
      "[CV] END max_depth=20, max_features=1, min_samples_leaf=1, min_samples_split=5, n_estimators=1000; total time=   5.1s\n",
      "[CV] END max_depth=20, max_features=1, min_samples_leaf=1, min_samples_split=5, n_estimators=1000; total time=   5.2s\n",
      "[CV] END max_depth=20, max_features=1, min_samples_leaf=1, min_samples_split=2, n_estimators=1500; total time=   8.7s\n",
      "[CV] END max_depth=20, max_features=1, min_samples_leaf=1, min_samples_split=5, n_estimators=1000; total time=   5.0s\n",
      "[CV] END max_depth=20, max_features=1, min_samples_leaf=1, min_samples_split=10, n_estimators=500; total time=   2.2s\n",
      "[CV] END max_depth=20, max_features=1, min_samples_leaf=1, min_samples_split=10, n_estimators=500; total time=   2.3s\n",
      "[CV] END max_depth=20, max_features=1, min_samples_leaf=1, min_samples_split=10, n_estimators=500; total time=   2.2s\n",
      "[CV] END max_depth=20, max_features=1, min_samples_leaf=1, min_samples_split=5, n_estimators=1500; total time=   7.7s\n",
      "[CV] END max_depth=20, max_features=1, min_samples_leaf=1, min_samples_split=5, n_estimators=1500; total time=   7.8s\n",
      "[CV] END max_depth=20, max_features=1, min_samples_leaf=1, min_samples_split=10, n_estimators=1000; total time=   4.4s\n",
      "[CV] END max_depth=20, max_features=1, min_samples_leaf=1, min_samples_split=5, n_estimators=1500; total time=   7.5s\n",
      "[CV] END max_depth=20, max_features=1, min_samples_leaf=1, min_samples_split=10, n_estimators=1000; total time=   4.5s\n",
      "[CV] END max_depth=20, max_features=1, min_samples_leaf=1, min_samples_split=10, n_estimators=1000; total time=   4.7s\n",
      "[CV] END max_depth=20, max_features=1, min_samples_leaf=2, min_samples_split=2, n_estimators=500; total time=   1.8s\n",
      "[CV] END max_depth=20, max_features=1, min_samples_leaf=2, min_samples_split=2, n_estimators=500; total time=   2.0s\n",
      "[CV] END max_depth=20, max_features=1, min_samples_leaf=2, min_samples_split=2, n_estimators=500; total time=   1.8s\n",
      "[CV] END max_depth=20, max_features=1, min_samples_leaf=1, min_samples_split=10, n_estimators=1500; total time=   6.9s\n",
      "[CV] END max_depth=20, max_features=1, min_samples_leaf=1, min_samples_split=10, n_estimators=1500; total time=   7.0s\n",
      "[CV] END max_depth=20, max_features=1, min_samples_leaf=2, min_samples_split=2, n_estimators=1000; total time=   4.0s\n",
      "[CV] END max_depth=20, max_features=1, min_samples_leaf=2, min_samples_split=2, n_estimators=1000; total time=   3.8s\n",
      "[CV] END max_depth=20, max_features=1, min_samples_leaf=2, min_samples_split=2, n_estimators=1000; total time=   3.9s\n",
      "[CV] END max_depth=20, max_features=1, min_samples_leaf=2, min_samples_split=5, n_estimators=500; total time=   1.8s\n",
      "[CV] END max_depth=20, max_features=1, min_samples_leaf=1, min_samples_split=10, n_estimators=1500; total time=   6.8s\n",
      "[CV] END max_depth=20, max_features=1, min_samples_leaf=2, min_samples_split=5, n_estimators=500; total time=   1.9s\n",
      "[CV] END max_depth=20, max_features=1, min_samples_leaf=2, min_samples_split=5, n_estimators=500; total time=   1.7s\n",
      "[CV] END max_depth=20, max_features=1, min_samples_leaf=2, min_samples_split=2, n_estimators=1500; total time=   5.7s\n",
      "[CV] END max_depth=20, max_features=1, min_samples_leaf=2, min_samples_split=2, n_estimators=1500; total time=   5.6s\n",
      "[CV] END max_depth=20, max_features=1, min_samples_leaf=2, min_samples_split=5, n_estimators=1000; total time=   3.8s\n",
      "[CV] END max_depth=20, max_features=1, min_samples_leaf=2, min_samples_split=2, n_estimators=1500; total time=   5.6s\n",
      "[CV] END max_depth=20, max_features=1, min_samples_leaf=2, min_samples_split=5, n_estimators=1000; total time=   3.6s\n",
      "[CV] END max_depth=20, max_features=1, min_samples_leaf=2, min_samples_split=10, n_estimators=500; total time=   1.9s\n",
      "[CV] END max_depth=20, max_features=1, min_samples_leaf=2, min_samples_split=5, n_estimators=1000; total time=   3.5s\n",
      "[CV] END max_depth=20, max_features=1, min_samples_leaf=2, min_samples_split=10, n_estimators=500; total time=   1.8s\n",
      "[CV] END max_depth=20, max_features=1, min_samples_leaf=2, min_samples_split=10, n_estimators=500; total time=   1.7s\n",
      "[CV] END max_depth=20, max_features=1, min_samples_leaf=2, min_samples_split=5, n_estimators=1500; total time=   5.7s\n",
      "[CV] END max_depth=20, max_features=1, min_samples_leaf=2, min_samples_split=5, n_estimators=1500; total time=   5.8s\n",
      "[CV] END max_depth=20, max_features=1, min_samples_leaf=2, min_samples_split=5, n_estimators=1500; total time=   5.6s\n",
      "[CV] END max_depth=20, max_features=1, min_samples_leaf=2, min_samples_split=10, n_estimators=1000; total time=   3.6s\n",
      "[CV] END max_depth=20, max_features=1, min_samples_leaf=2, min_samples_split=10, n_estimators=1000; total time=   3.5s\n",
      "[CV] END max_depth=20, max_features=1, min_samples_leaf=2, min_samples_split=10, n_estimators=1000; total time=   3.5s\n",
      "[CV] END max_depth=20, max_features=1, min_samples_leaf=4, min_samples_split=2, n_estimators=500; total time=   1.4s\n",
      "[CV] END max_depth=20, max_features=1, min_samples_leaf=4, min_samples_split=2, n_estimators=500; total time=   1.3s\n",
      "[CV] END max_depth=20, max_features=1, min_samples_leaf=4, min_samples_split=2, n_estimators=500; total time=   1.4s\n",
      "[CV] END max_depth=20, max_features=1, min_samples_leaf=4, min_samples_split=2, n_estimators=1000; total time=   2.8s\n",
      "[CV] END max_depth=20, max_features=1, min_samples_leaf=4, min_samples_split=2, n_estimators=1000; total time=   2.7s\n",
      "[CV] END max_depth=20, max_features=1, min_samples_leaf=4, min_samples_split=2, n_estimators=1000; total time=   2.5s\n",
      "[CV] END max_depth=20, max_features=1, min_samples_leaf=2, min_samples_split=10, n_estimators=1500; total time=   5.5s\n",
      "[CV] END max_depth=20, max_features=1, min_samples_leaf=2, min_samples_split=10, n_estimators=1500; total time=   5.6s\n",
      "[CV] END max_depth=20, max_features=1, min_samples_leaf=2, min_samples_split=10, n_estimators=1500; total time=   5.2s\n",
      "[CV] END max_depth=20, max_features=1, min_samples_leaf=4, min_samples_split=5, n_estimators=500; total time=   1.4s\n",
      "[CV] END max_depth=20, max_features=1, min_samples_leaf=4, min_samples_split=5, n_estimators=500; total time=   1.4s\n",
      "[CV] END max_depth=20, max_features=1, min_samples_leaf=4, min_samples_split=5, n_estimators=500; total time=   1.3s\n",
      "[CV] END max_depth=20, max_features=1, min_samples_leaf=4, min_samples_split=2, n_estimators=1500; total time=   4.0s\n",
      "[CV] END max_depth=20, max_features=1, min_samples_leaf=4, min_samples_split=2, n_estimators=1500; total time=   4.2s\n",
      "[CV] END max_depth=20, max_features=1, min_samples_leaf=4, min_samples_split=5, n_estimators=1000; total time=   2.7s\n",
      "[CV] END max_depth=20, max_features=1, min_samples_leaf=4, min_samples_split=2, n_estimators=1500; total time=   3.8s\n",
      "[CV] END max_depth=20, max_features=1, min_samples_leaf=4, min_samples_split=10, n_estimators=500; total time=   1.3s\n",
      "[CV] END max_depth=20, max_features=1, min_samples_leaf=4, min_samples_split=5, n_estimators=1000; total time=   2.8s\n",
      "[CV] END max_depth=20, max_features=1, min_samples_leaf=4, min_samples_split=5, n_estimators=1000; total time=   2.6s\n",
      "[CV] END max_depth=20, max_features=1, min_samples_leaf=4, min_samples_split=10, n_estimators=500; total time=   1.4s\n",
      "[CV] END max_depth=20, max_features=1, min_samples_leaf=4, min_samples_split=10, n_estimators=500; total time=   1.4s\n",
      "[CV] END max_depth=20, max_features=1, min_samples_leaf=4, min_samples_split=5, n_estimators=1500; total time=   3.7s\n",
      "[CV] END max_depth=20, max_features=1, min_samples_leaf=4, min_samples_split=5, n_estimators=1500; total time=   4.1s\n",
      "[CV] END max_depth=20, max_features=1, min_samples_leaf=4, min_samples_split=5, n_estimators=1500; total time=   4.2s\n",
      "[CV] END max_depth=20, max_features=1, min_samples_leaf=4, min_samples_split=10, n_estimators=1000; total time=   2.7s\n",
      "[CV] END max_depth=20, max_features=1, min_samples_leaf=4, min_samples_split=10, n_estimators=1000; total time=   2.5s\n",
      "[CV] END max_depth=20, max_features=1, min_samples_leaf=4, min_samples_split=10, n_estimators=1000; total time=   2.7s\n",
      "[CV] END max_depth=20, max_features=1, min_samples_leaf=4, min_samples_split=10, n_estimators=1500; total time=   4.2s\n",
      "[CV] END max_depth=20, max_features=1, min_samples_leaf=4, min_samples_split=10, n_estimators=1500; total time=   4.1s\n",
      "[CV] END max_depth=20, max_features=1, min_samples_leaf=4, min_samples_split=10, n_estimators=1500; total time=   3.7s\n",
      "[CV] END max_depth=30, max_features=0.5, min_samples_leaf=1, min_samples_split=2, n_estimators=500; total time=   9.4s\n",
      "[CV] END max_depth=30, max_features=0.5, min_samples_leaf=1, min_samples_split=2, n_estimators=500; total time=   9.3s\n",
      "[CV] END max_depth=30, max_features=0.5, min_samples_leaf=1, min_samples_split=2, n_estimators=500; total time=   9.2s\n",
      "[CV] END max_depth=30, max_features=0.5, min_samples_leaf=1, min_samples_split=5, n_estimators=500; total time=   8.1s\n",
      "[CV] END max_depth=30, max_features=0.5, min_samples_leaf=1, min_samples_split=5, n_estimators=500; total time=   8.1s\n",
      "[CV] END max_depth=30, max_features=0.5, min_samples_leaf=1, min_samples_split=2, n_estimators=1000; total time=  19.0s\n",
      "[CV] END max_depth=30, max_features=0.5, min_samples_leaf=1, min_samples_split=2, n_estimators=1000; total time=  18.8s\n",
      "[CV] END max_depth=30, max_features=0.5, min_samples_leaf=1, min_samples_split=2, n_estimators=1000; total time=  18.6s\n",
      "[CV] END max_depth=30, max_features=0.5, min_samples_leaf=1, min_samples_split=5, n_estimators=500; total time=   8.3s\n",
      "[CV] END max_depth=30, max_features=0.5, min_samples_leaf=1, min_samples_split=2, n_estimators=1500; total time=  29.1s\n",
      "[CV] END max_depth=30, max_features=0.5, min_samples_leaf=1, min_samples_split=2, n_estimators=1500; total time=  29.0s\n",
      "[CV] END max_depth=30, max_features=0.5, min_samples_leaf=1, min_samples_split=5, n_estimators=1000; total time=  17.5s\n",
      "[CV] END max_depth=30, max_features=0.5, min_samples_leaf=1, min_samples_split=5, n_estimators=1000; total time=  17.7s\n",
      "[CV] END max_depth=30, max_features=0.5, min_samples_leaf=1, min_samples_split=5, n_estimators=1000; total time=  17.9s\n",
      "[CV] END max_depth=30, max_features=0.5, min_samples_leaf=1, min_samples_split=2, n_estimators=1500; total time=  29.2s\n",
      "[CV] END max_depth=30, max_features=0.5, min_samples_leaf=1, min_samples_split=10, n_estimators=500; total time=   7.8s\n",
      "[CV] END max_depth=30, max_features=0.5, min_samples_leaf=1, min_samples_split=10, n_estimators=500; total time=   8.0s\n",
      "[CV] END max_depth=30, max_features=0.5, min_samples_leaf=1, min_samples_split=10, n_estimators=500; total time=   8.1s\n",
      "[CV] END max_depth=30, max_features=0.5, min_samples_leaf=1, min_samples_split=5, n_estimators=1500; total time=  26.0s\n",
      "[CV] END max_depth=30, max_features=0.5, min_samples_leaf=1, min_samples_split=5, n_estimators=1500; total time=  26.5s\n",
      "[CV] END max_depth=30, max_features=0.5, min_samples_leaf=1, min_samples_split=10, n_estimators=1000; total time=  15.3s\n",
      "[CV] END max_depth=30, max_features=0.5, min_samples_leaf=1, min_samples_split=10, n_estimators=1000; total time=  15.6s\n",
      "[CV] END max_depth=30, max_features=0.5, min_samples_leaf=1, min_samples_split=10, n_estimators=1000; total time=  15.2s\n",
      "[CV] END max_depth=30, max_features=0.5, min_samples_leaf=1, min_samples_split=5, n_estimators=1500; total time=  25.6s\n",
      "[CV] END max_depth=30, max_features=0.5, min_samples_leaf=2, min_samples_split=2, n_estimators=500; total time=   7.8s\n",
      "[CV] END max_depth=30, max_features=0.5, min_samples_leaf=2, min_samples_split=2, n_estimators=500; total time=   7.9s\n",
      "[CV] END max_depth=30, max_features=0.5, min_samples_leaf=2, min_samples_split=2, n_estimators=500; total time=   7.9s\n",
      "[CV] END max_depth=30, max_features=0.5, min_samples_leaf=1, min_samples_split=10, n_estimators=1500; total time=  22.0s\n",
      "[CV] END max_depth=30, max_features=0.5, min_samples_leaf=1, min_samples_split=10, n_estimators=1500; total time=  22.3s\n",
      "[CV] END max_depth=30, max_features=0.5, min_samples_leaf=1, min_samples_split=10, n_estimators=1500; total time=  21.9s\n",
      "[CV] END max_depth=30, max_features=0.5, min_samples_leaf=2, min_samples_split=2, n_estimators=1000; total time=  15.7s\n",
      "[CV] END max_depth=30, max_features=0.5, min_samples_leaf=2, min_samples_split=2, n_estimators=1000; total time=  15.7s\n",
      "[CV] END max_depth=30, max_features=0.5, min_samples_leaf=2, min_samples_split=5, n_estimators=500; total time=   7.4s\n",
      "[CV] END max_depth=30, max_features=0.5, min_samples_leaf=2, min_samples_split=2, n_estimators=1000; total time=  15.2s\n",
      "[CV] END max_depth=30, max_features=0.5, min_samples_leaf=2, min_samples_split=5, n_estimators=500; total time=   7.9s\n",
      "[CV] END max_depth=30, max_features=0.5, min_samples_leaf=2, min_samples_split=5, n_estimators=500; total time=   7.5s\n",
      "[CV] END max_depth=30, max_features=0.5, min_samples_leaf=2, min_samples_split=2, n_estimators=1500; total time=  23.6s\n",
      "[CV] END max_depth=30, max_features=0.5, min_samples_leaf=2, min_samples_split=2, n_estimators=1500; total time=  23.3s\n",
      "[CV] END max_depth=30, max_features=0.5, min_samples_leaf=2, min_samples_split=5, n_estimators=1000; total time=  15.3s\n",
      "[CV] END max_depth=30, max_features=0.5, min_samples_leaf=2, min_samples_split=2, n_estimators=1500; total time=  23.7s\n",
      "[CV] END max_depth=30, max_features=0.5, min_samples_leaf=2, min_samples_split=5, n_estimators=1000; total time=  15.1s\n",
      "[CV] END max_depth=30, max_features=0.5, min_samples_leaf=2, min_samples_split=5, n_estimators=1000; total time=  15.4s\n",
      "[CV] END max_depth=30, max_features=0.5, min_samples_leaf=2, min_samples_split=10, n_estimators=500; total time=   6.9s\n",
      "[CV] END max_depth=30, max_features=0.5, min_samples_leaf=2, min_samples_split=10, n_estimators=500; total time=   7.0s\n",
      "[CV] END max_depth=30, max_features=0.5, min_samples_leaf=2, min_samples_split=10, n_estimators=500; total time=   6.8s\n",
      "[CV] END max_depth=30, max_features=0.5, min_samples_leaf=2, min_samples_split=5, n_estimators=1500; total time=  22.8s\n",
      "[CV] END max_depth=30, max_features=0.5, min_samples_leaf=2, min_samples_split=5, n_estimators=1500; total time=  22.9s\n",
      "[CV] END max_depth=30, max_features=0.5, min_samples_leaf=2, min_samples_split=10, n_estimators=1000; total time=  13.7s\n",
      "[CV] END max_depth=30, max_features=0.5, min_samples_leaf=2, min_samples_split=10, n_estimators=1000; total time=  13.8s\n",
      "[CV] END max_depth=30, max_features=0.5, min_samples_leaf=2, min_samples_split=5, n_estimators=1500; total time=  23.2s\n",
      "[CV] END max_depth=30, max_features=0.5, min_samples_leaf=2, min_samples_split=10, n_estimators=1000; total time=  14.1s\n",
      "[CV] END max_depth=30, max_features=0.5, min_samples_leaf=4, min_samples_split=2, n_estimators=500; total time=   6.8s\n",
      "[CV] END max_depth=30, max_features=0.5, min_samples_leaf=4, min_samples_split=2, n_estimators=500; total time=   6.6s\n",
      "[CV] END max_depth=30, max_features=0.5, min_samples_leaf=4, min_samples_split=2, n_estimators=500; total time=   6.7s\n",
      "[CV] END max_depth=30, max_features=0.5, min_samples_leaf=2, min_samples_split=10, n_estimators=1500; total time=  21.2s\n",
      "[CV] END max_depth=30, max_features=0.5, min_samples_leaf=2, min_samples_split=10, n_estimators=1500; total time=  21.3s\n",
      "[CV] END max_depth=30, max_features=0.5, min_samples_leaf=4, min_samples_split=2, n_estimators=1000; total time=  13.7s\n",
      "[CV] END max_depth=30, max_features=0.5, min_samples_leaf=2, min_samples_split=10, n_estimators=1500; total time=  21.4s\n",
      "[CV] END max_depth=30, max_features=0.5, min_samples_leaf=4, min_samples_split=2, n_estimators=1000; total time=  13.9s\n",
      "[CV] END max_depth=30, max_features=0.5, min_samples_leaf=4, min_samples_split=2, n_estimators=1000; total time=  13.6s\n",
      "[CV] END max_depth=30, max_features=0.5, min_samples_leaf=4, min_samples_split=5, n_estimators=500; total time=   6.9s\n",
      "[CV] END max_depth=30, max_features=0.5, min_samples_leaf=4, min_samples_split=5, n_estimators=500; total time=   7.0s\n",
      "[CV] END max_depth=30, max_features=0.5, min_samples_leaf=4, min_samples_split=5, n_estimators=500; total time=   6.8s\n",
      "[CV] END max_depth=30, max_features=0.5, min_samples_leaf=4, min_samples_split=2, n_estimators=1500; total time=  20.7s\n",
      "[CV] END max_depth=30, max_features=0.5, min_samples_leaf=4, min_samples_split=2, n_estimators=1500; total time=  21.0s\n",
      "[CV] END max_depth=30, max_features=0.5, min_samples_leaf=4, min_samples_split=5, n_estimators=1000; total time=  14.1s\n",
      "[CV] END max_depth=30, max_features=0.5, min_samples_leaf=4, min_samples_split=5, n_estimators=1000; total time=  14.1s\n",
      "[CV] END max_depth=30, max_features=0.5, min_samples_leaf=4, min_samples_split=5, n_estimators=1000; total time=  14.2s\n",
      "[CV] END max_depth=30, max_features=0.5, min_samples_leaf=4, min_samples_split=2, n_estimators=1500; total time=  21.5s\n",
      "[CV] END max_depth=30, max_features=0.5, min_samples_leaf=4, min_samples_split=10, n_estimators=500; total time=   6.9s\n",
      "[CV] END max_depth=30, max_features=0.5, min_samples_leaf=4, min_samples_split=10, n_estimators=500; total time=   6.9s\n",
      "[CV] END max_depth=30, max_features=0.5, min_samples_leaf=4, min_samples_split=10, n_estimators=500; total time=   8.4s\n",
      "[CV] END max_depth=30, max_features=0.5, min_samples_leaf=4, min_samples_split=5, n_estimators=1500; total time=  23.4s\n",
      "[CV] END max_depth=30, max_features=0.5, min_samples_leaf=4, min_samples_split=5, n_estimators=1500; total time=  23.6s\n",
      "[CV] END max_depth=30, max_features=0.5, min_samples_leaf=4, min_samples_split=10, n_estimators=1000; total time=  15.9s\n",
      "[CV] END max_depth=30, max_features=0.5, min_samples_leaf=4, min_samples_split=10, n_estimators=1000; total time=  16.1s\n",
      "[CV] END max_depth=30, max_features=0.5, min_samples_leaf=4, min_samples_split=10, n_estimators=1000; total time=  16.4s\n",
      "[CV] END max_depth=30, max_features=0.5, min_samples_leaf=4, min_samples_split=5, n_estimators=1500; total time=  23.8s\n",
      "[CV] END max_depth=30, max_features=1, min_samples_leaf=1, min_samples_split=2, n_estimators=500; total time=   4.4s\n",
      "[CV] END max_depth=30, max_features=1, min_samples_leaf=1, min_samples_split=2, n_estimators=500; total time=   4.5s\n",
      "[CV] END max_depth=30, max_features=1, min_samples_leaf=1, min_samples_split=2, n_estimators=500; total time=   4.5s\n",
      "[CV] END max_depth=30, max_features=1, min_samples_leaf=1, min_samples_split=2, n_estimators=1000; total time=   9.5s\n",
      "[CV] END max_depth=30, max_features=1, min_samples_leaf=1, min_samples_split=2, n_estimators=1000; total time=   9.5s\n",
      "[CV] END max_depth=30, max_features=1, min_samples_leaf=1, min_samples_split=2, n_estimators=1000; total time=   9.6s\n",
      "[CV] END max_depth=30, max_features=0.5, min_samples_leaf=4, min_samples_split=10, n_estimators=1500; total time=  24.0s\n",
      "[CV] END max_depth=30, max_features=0.5, min_samples_leaf=4, min_samples_split=10, n_estimators=1500; total time=  23.4s\n",
      "[CV] END max_depth=30, max_features=1, min_samples_leaf=1, min_samples_split=5, n_estimators=500; total time=   3.8s\n",
      "[CV] END max_depth=30, max_features=1, min_samples_leaf=1, min_samples_split=5, n_estimators=500; total time=   3.8s\n",
      "[CV] END max_depth=30, max_features=1, min_samples_leaf=1, min_samples_split=5, n_estimators=500; total time=   4.0s\n",
      "[CV] END max_depth=30, max_features=1, min_samples_leaf=1, min_samples_split=2, n_estimators=1500; total time=  14.7s\n",
      "[CV] END max_depth=30, max_features=1, min_samples_leaf=1, min_samples_split=2, n_estimators=1500; total time=  14.5s\n",
      "[CV] END max_depth=30, max_features=0.5, min_samples_leaf=4, min_samples_split=10, n_estimators=1500; total time=  23.4s\n",
      "[CV] END max_depth=30, max_features=1, min_samples_leaf=1, min_samples_split=5, n_estimators=1000; total time=   7.7s\n",
      "[CV] END max_depth=30, max_features=1, min_samples_leaf=1, min_samples_split=5, n_estimators=1000; total time=   7.7s\n",
      "[CV] END max_depth=30, max_features=1, min_samples_leaf=1, min_samples_split=5, n_estimators=1000; total time=   7.3s\n",
      "[CV] END max_depth=30, max_features=1, min_samples_leaf=1, min_samples_split=2, n_estimators=1500; total time=  14.5s\n",
      "[CV] END max_depth=30, max_features=1, min_samples_leaf=1, min_samples_split=10, n_estimators=500; total time=   3.3s\n",
      "[CV] END max_depth=30, max_features=1, min_samples_leaf=1, min_samples_split=10, n_estimators=500; total time=   3.3s\n",
      "[CV] END max_depth=30, max_features=1, min_samples_leaf=1, min_samples_split=10, n_estimators=500; total time=   3.2s\n",
      "[CV] END max_depth=30, max_features=1, min_samples_leaf=1, min_samples_split=5, n_estimators=1500; total time=  11.4s\n",
      "[CV] END max_depth=30, max_features=1, min_samples_leaf=1, min_samples_split=10, n_estimators=1000; total time=   6.2s\n",
      "[CV] END max_depth=30, max_features=1, min_samples_leaf=1, min_samples_split=10, n_estimators=1000; total time=   6.2s\n",
      "[CV] END max_depth=30, max_features=1, min_samples_leaf=2, min_samples_split=2, n_estimators=500; total time=   2.6s\n",
      "[CV] END max_depth=30, max_features=1, min_samples_leaf=1, min_samples_split=5, n_estimators=1500; total time=  11.4s\n",
      "[CV] END max_depth=30, max_features=1, min_samples_leaf=1, min_samples_split=10, n_estimators=1000; total time=   6.4s\n",
      "[CV] END max_depth=30, max_features=1, min_samples_leaf=1, min_samples_split=5, n_estimators=1500; total time=  11.2s\n",
      "[CV] END max_depth=30, max_features=1, min_samples_leaf=2, min_samples_split=2, n_estimators=500; total time=   2.4s\n",
      "[CV] END max_depth=30, max_features=1, min_samples_leaf=2, min_samples_split=2, n_estimators=500; total time=   2.6s\n",
      "[CV] END max_depth=30, max_features=1, min_samples_leaf=1, min_samples_split=10, n_estimators=1500; total time=   9.8s\n",
      "[CV] END max_depth=30, max_features=1, min_samples_leaf=2, min_samples_split=2, n_estimators=1000; total time=   5.2s\n",
      "[CV] END max_depth=30, max_features=1, min_samples_leaf=1, min_samples_split=10, n_estimators=1500; total time=   9.8s\n",
      "[CV] END max_depth=30, max_features=1, min_samples_leaf=2, min_samples_split=2, n_estimators=1000; total time=   5.3s\n",
      "[CV] END max_depth=30, max_features=1, min_samples_leaf=1, min_samples_split=10, n_estimators=1500; total time=   9.5s\n",
      "[CV] END max_depth=30, max_features=1, min_samples_leaf=2, min_samples_split=2, n_estimators=1000; total time=   5.1s\n",
      "[CV] END max_depth=30, max_features=1, min_samples_leaf=2, min_samples_split=5, n_estimators=500; total time=   2.7s\n",
      "[CV] END max_depth=30, max_features=1, min_samples_leaf=2, min_samples_split=5, n_estimators=500; total time=   2.4s\n",
      "[CV] END max_depth=30, max_features=1, min_samples_leaf=2, min_samples_split=5, n_estimators=500; total time=   2.6s\n",
      "[CV] END max_depth=30, max_features=1, min_samples_leaf=2, min_samples_split=2, n_estimators=1500; total time=   7.7s\n",
      "[CV] END max_depth=30, max_features=1, min_samples_leaf=2, min_samples_split=2, n_estimators=1500; total time=   7.8s\n",
      "[CV] END max_depth=30, max_features=1, min_samples_leaf=2, min_samples_split=5, n_estimators=1000; total time=   5.3s\n",
      "[CV] END max_depth=30, max_features=1, min_samples_leaf=2, min_samples_split=2, n_estimators=1500; total time=   7.9s\n",
      "[CV] END max_depth=30, max_features=1, min_samples_leaf=2, min_samples_split=5, n_estimators=1000; total time=   5.1s\n",
      "[CV] END max_depth=30, max_features=1, min_samples_leaf=2, min_samples_split=10, n_estimators=500; total time=   2.4s\n",
      "[CV] END max_depth=30, max_features=1, min_samples_leaf=2, min_samples_split=5, n_estimators=1000; total time=   4.9s\n",
      "[CV] END max_depth=30, max_features=1, min_samples_leaf=2, min_samples_split=10, n_estimators=500; total time=   2.3s\n",
      "[CV] END max_depth=30, max_features=1, min_samples_leaf=2, min_samples_split=10, n_estimators=500; total time=   2.3s\n",
      "[CV] END max_depth=30, max_features=1, min_samples_leaf=2, min_samples_split=5, n_estimators=1500; total time=   7.5s\n",
      "[CV] END max_depth=30, max_features=1, min_samples_leaf=2, min_samples_split=5, n_estimators=1500; total time=   7.8s\n",
      "[CV] END max_depth=30, max_features=1, min_samples_leaf=2, min_samples_split=10, n_estimators=1000; total time=   4.6s\n",
      "[CV] END max_depth=30, max_features=1, min_samples_leaf=2, min_samples_split=10, n_estimators=1000; total time=   4.6s\n",
      "[CV] END max_depth=30, max_features=1, min_samples_leaf=2, min_samples_split=10, n_estimators=1000; total time=   4.3s\n",
      "[CV] END max_depth=30, max_features=1, min_samples_leaf=4, min_samples_split=2, n_estimators=500; total time=   1.7s\n",
      "[CV] END max_depth=30, max_features=1, min_samples_leaf=2, min_samples_split=5, n_estimators=1500; total time=   7.5s\n",
      "[CV] END max_depth=30, max_features=1, min_samples_leaf=4, min_samples_split=2, n_estimators=500; total time=   1.7s\n",
      "[CV] END max_depth=30, max_features=1, min_samples_leaf=4, min_samples_split=2, n_estimators=500; total time=   1.6s\n",
      "[CV] END max_depth=30, max_features=1, min_samples_leaf=2, min_samples_split=10, n_estimators=1500; total time=   7.0s\n",
      "[CV] END max_depth=30, max_features=1, min_samples_leaf=4, min_samples_split=2, n_estimators=1000; total time=   3.5s\n",
      "[CV] END max_depth=30, max_features=1, min_samples_leaf=4, min_samples_split=2, n_estimators=1000; total time=   3.3s\n",
      "[CV] END max_depth=30, max_features=1, min_samples_leaf=4, min_samples_split=2, n_estimators=1000; total time=   3.5s\n",
      "[CV] END max_depth=30, max_features=1, min_samples_leaf=2, min_samples_split=10, n_estimators=1500; total time=   7.2s\n",
      "[CV] END max_depth=30, max_features=1, min_samples_leaf=2, min_samples_split=10, n_estimators=1500; total time=   6.6s\n",
      "[CV] END max_depth=30, max_features=1, min_samples_leaf=4, min_samples_split=5, n_estimators=500; total time=   1.7s\n",
      "[CV] END max_depth=30, max_features=1, min_samples_leaf=4, min_samples_split=5, n_estimators=500; total time=   1.6s\n",
      "[CV] END max_depth=30, max_features=1, min_samples_leaf=4, min_samples_split=5, n_estimators=500; total time=   1.8s\n",
      "[CV] END max_depth=30, max_features=1, min_samples_leaf=4, min_samples_split=2, n_estimators=1500; total time=   5.5s\n",
      "[CV] END max_depth=30, max_features=1, min_samples_leaf=4, min_samples_split=2, n_estimators=1500; total time=   5.5s\n",
      "[CV] END max_depth=30, max_features=1, min_samples_leaf=4, min_samples_split=5, n_estimators=1000; total time=   3.6s\n",
      "[CV] END max_depth=30, max_features=1, min_samples_leaf=4, min_samples_split=2, n_estimators=1500; total time=   4.8s\n",
      "[CV] END max_depth=30, max_features=1, min_samples_leaf=4, min_samples_split=5, n_estimators=1000; total time=   3.7s\n",
      "[CV] END max_depth=30, max_features=1, min_samples_leaf=4, min_samples_split=5, n_estimators=1000; total time=   3.3s\n",
      "[CV] END max_depth=30, max_features=1, min_samples_leaf=4, min_samples_split=10, n_estimators=500; total time=   1.8s\n",
      "[CV] END max_depth=30, max_features=1, min_samples_leaf=4, min_samples_split=10, n_estimators=500; total time=   1.7s\n",
      "[CV] END max_depth=30, max_features=1, min_samples_leaf=4, min_samples_split=10, n_estimators=500; total time=   1.7s\n",
      "[CV] END max_depth=30, max_features=1, min_samples_leaf=4, min_samples_split=5, n_estimators=1500; total time=   5.2s\n",
      "[CV] END max_depth=30, max_features=1, min_samples_leaf=4, min_samples_split=5, n_estimators=1500; total time=   5.5s\n",
      "[CV] END max_depth=30, max_features=1, min_samples_leaf=4, min_samples_split=5, n_estimators=1500; total time=   4.8s\n",
      "[CV] END max_depth=30, max_features=1, min_samples_leaf=4, min_samples_split=10, n_estimators=1000; total time=   3.1s\n",
      "[CV] END max_depth=30, max_features=1, min_samples_leaf=4, min_samples_split=10, n_estimators=1000; total time=   3.4s\n",
      "[CV] END max_depth=30, max_features=1, min_samples_leaf=4, min_samples_split=10, n_estimators=1000; total time=   3.4s\n",
      "[CV] END max_depth=30, max_features=1, min_samples_leaf=4, min_samples_split=10, n_estimators=1500; total time=   4.5s\n",
      "[CV] END max_depth=30, max_features=1, min_samples_leaf=4, min_samples_split=10, n_estimators=1500; total time=   4.2s\n",
      "[CV] END max_depth=30, max_features=1, min_samples_leaf=4, min_samples_split=10, n_estimators=1500; total time=   3.6s\n"
     ]
    },
    {
     "data": {
      "text/html": [
       "<style>#sk-container-id-2 {\n",
       "  /* Definition of color scheme common for light and dark mode */\n",
       "  --sklearn-color-text: #000;\n",
       "  --sklearn-color-text-muted: #666;\n",
       "  --sklearn-color-line: gray;\n",
       "  /* Definition of color scheme for unfitted estimators */\n",
       "  --sklearn-color-unfitted-level-0: #fff5e6;\n",
       "  --sklearn-color-unfitted-level-1: #f6e4d2;\n",
       "  --sklearn-color-unfitted-level-2: #ffe0b3;\n",
       "  --sklearn-color-unfitted-level-3: chocolate;\n",
       "  /* Definition of color scheme for fitted estimators */\n",
       "  --sklearn-color-fitted-level-0: #f0f8ff;\n",
       "  --sklearn-color-fitted-level-1: #d4ebff;\n",
       "  --sklearn-color-fitted-level-2: #b3dbfd;\n",
       "  --sklearn-color-fitted-level-3: cornflowerblue;\n",
       "\n",
       "  /* Specific color for light theme */\n",
       "  --sklearn-color-text-on-default-background: var(--sg-text-color, var(--theme-code-foreground, var(--jp-content-font-color1, black)));\n",
       "  --sklearn-color-background: var(--sg-background-color, var(--theme-background, var(--jp-layout-color0, white)));\n",
       "  --sklearn-color-border-box: var(--sg-text-color, var(--theme-code-foreground, var(--jp-content-font-color1, black)));\n",
       "  --sklearn-color-icon: #696969;\n",
       "\n",
       "  @media (prefers-color-scheme: dark) {\n",
       "    /* Redefinition of color scheme for dark theme */\n",
       "    --sklearn-color-text-on-default-background: var(--sg-text-color, var(--theme-code-foreground, var(--jp-content-font-color1, white)));\n",
       "    --sklearn-color-background: var(--sg-background-color, var(--theme-background, var(--jp-layout-color0, #111)));\n",
       "    --sklearn-color-border-box: var(--sg-text-color, var(--theme-code-foreground, var(--jp-content-font-color1, white)));\n",
       "    --sklearn-color-icon: #878787;\n",
       "  }\n",
       "}\n",
       "\n",
       "#sk-container-id-2 {\n",
       "  color: var(--sklearn-color-text);\n",
       "}\n",
       "\n",
       "#sk-container-id-2 pre {\n",
       "  padding: 0;\n",
       "}\n",
       "\n",
       "#sk-container-id-2 input.sk-hidden--visually {\n",
       "  border: 0;\n",
       "  clip: rect(1px 1px 1px 1px);\n",
       "  clip: rect(1px, 1px, 1px, 1px);\n",
       "  height: 1px;\n",
       "  margin: -1px;\n",
       "  overflow: hidden;\n",
       "  padding: 0;\n",
       "  position: absolute;\n",
       "  width: 1px;\n",
       "}\n",
       "\n",
       "#sk-container-id-2 div.sk-dashed-wrapped {\n",
       "  border: 1px dashed var(--sklearn-color-line);\n",
       "  margin: 0 0.4em 0.5em 0.4em;\n",
       "  box-sizing: border-box;\n",
       "  padding-bottom: 0.4em;\n",
       "  background-color: var(--sklearn-color-background);\n",
       "}\n",
       "\n",
       "#sk-container-id-2 div.sk-container {\n",
       "  /* jupyter's `normalize.less` sets `[hidden] { display: none; }`\n",
       "     but bootstrap.min.css set `[hidden] { display: none !important; }`\n",
       "     so we also need the `!important` here to be able to override the\n",
       "     default hidden behavior on the sphinx rendered scikit-learn.org.\n",
       "     See: https://github.com/scikit-learn/scikit-learn/issues/21755 */\n",
       "  display: inline-block !important;\n",
       "  position: relative;\n",
       "}\n",
       "\n",
       "#sk-container-id-2 div.sk-text-repr-fallback {\n",
       "  display: none;\n",
       "}\n",
       "\n",
       "div.sk-parallel-item,\n",
       "div.sk-serial,\n",
       "div.sk-item {\n",
       "  /* draw centered vertical line to link estimators */\n",
       "  background-image: linear-gradient(var(--sklearn-color-text-on-default-background), var(--sklearn-color-text-on-default-background));\n",
       "  background-size: 2px 100%;\n",
       "  background-repeat: no-repeat;\n",
       "  background-position: center center;\n",
       "}\n",
       "\n",
       "/* Parallel-specific style estimator block */\n",
       "\n",
       "#sk-container-id-2 div.sk-parallel-item::after {\n",
       "  content: \"\";\n",
       "  width: 100%;\n",
       "  border-bottom: 2px solid var(--sklearn-color-text-on-default-background);\n",
       "  flex-grow: 1;\n",
       "}\n",
       "\n",
       "#sk-container-id-2 div.sk-parallel {\n",
       "  display: flex;\n",
       "  align-items: stretch;\n",
       "  justify-content: center;\n",
       "  background-color: var(--sklearn-color-background);\n",
       "  position: relative;\n",
       "}\n",
       "\n",
       "#sk-container-id-2 div.sk-parallel-item {\n",
       "  display: flex;\n",
       "  flex-direction: column;\n",
       "}\n",
       "\n",
       "#sk-container-id-2 div.sk-parallel-item:first-child::after {\n",
       "  align-self: flex-end;\n",
       "  width: 50%;\n",
       "}\n",
       "\n",
       "#sk-container-id-2 div.sk-parallel-item:last-child::after {\n",
       "  align-self: flex-start;\n",
       "  width: 50%;\n",
       "}\n",
       "\n",
       "#sk-container-id-2 div.sk-parallel-item:only-child::after {\n",
       "  width: 0;\n",
       "}\n",
       "\n",
       "/* Serial-specific style estimator block */\n",
       "\n",
       "#sk-container-id-2 div.sk-serial {\n",
       "  display: flex;\n",
       "  flex-direction: column;\n",
       "  align-items: center;\n",
       "  background-color: var(--sklearn-color-background);\n",
       "  padding-right: 1em;\n",
       "  padding-left: 1em;\n",
       "}\n",
       "\n",
       "\n",
       "/* Toggleable style: style used for estimator/Pipeline/ColumnTransformer box that is\n",
       "clickable and can be expanded/collapsed.\n",
       "- Pipeline and ColumnTransformer use this feature and define the default style\n",
       "- Estimators will overwrite some part of the style using the `sk-estimator` class\n",
       "*/\n",
       "\n",
       "/* Pipeline and ColumnTransformer style (default) */\n",
       "\n",
       "#sk-container-id-2 div.sk-toggleable {\n",
       "  /* Default theme specific background. It is overwritten whether we have a\n",
       "  specific estimator or a Pipeline/ColumnTransformer */\n",
       "  background-color: var(--sklearn-color-background);\n",
       "}\n",
       "\n",
       "/* Toggleable label */\n",
       "#sk-container-id-2 label.sk-toggleable__label {\n",
       "  cursor: pointer;\n",
       "  display: flex;\n",
       "  width: 100%;\n",
       "  margin-bottom: 0;\n",
       "  padding: 0.5em;\n",
       "  box-sizing: border-box;\n",
       "  text-align: center;\n",
       "  align-items: start;\n",
       "  justify-content: space-between;\n",
       "  gap: 0.5em;\n",
       "}\n",
       "\n",
       "#sk-container-id-2 label.sk-toggleable__label .caption {\n",
       "  font-size: 0.6rem;\n",
       "  font-weight: lighter;\n",
       "  color: var(--sklearn-color-text-muted);\n",
       "}\n",
       "\n",
       "#sk-container-id-2 label.sk-toggleable__label-arrow:before {\n",
       "  /* Arrow on the left of the label */\n",
       "  content: \"▸\";\n",
       "  float: left;\n",
       "  margin-right: 0.25em;\n",
       "  color: var(--sklearn-color-icon);\n",
       "}\n",
       "\n",
       "#sk-container-id-2 label.sk-toggleable__label-arrow:hover:before {\n",
       "  color: var(--sklearn-color-text);\n",
       "}\n",
       "\n",
       "/* Toggleable content - dropdown */\n",
       "\n",
       "#sk-container-id-2 div.sk-toggleable__content {\n",
       "  max-height: 0;\n",
       "  max-width: 0;\n",
       "  overflow: hidden;\n",
       "  text-align: left;\n",
       "  /* unfitted */\n",
       "  background-color: var(--sklearn-color-unfitted-level-0);\n",
       "}\n",
       "\n",
       "#sk-container-id-2 div.sk-toggleable__content.fitted {\n",
       "  /* fitted */\n",
       "  background-color: var(--sklearn-color-fitted-level-0);\n",
       "}\n",
       "\n",
       "#sk-container-id-2 div.sk-toggleable__content pre {\n",
       "  margin: 0.2em;\n",
       "  border-radius: 0.25em;\n",
       "  color: var(--sklearn-color-text);\n",
       "  /* unfitted */\n",
       "  background-color: var(--sklearn-color-unfitted-level-0);\n",
       "}\n",
       "\n",
       "#sk-container-id-2 div.sk-toggleable__content.fitted pre {\n",
       "  /* unfitted */\n",
       "  background-color: var(--sklearn-color-fitted-level-0);\n",
       "}\n",
       "\n",
       "#sk-container-id-2 input.sk-toggleable__control:checked~div.sk-toggleable__content {\n",
       "  /* Expand drop-down */\n",
       "  max-height: 200px;\n",
       "  max-width: 100%;\n",
       "  overflow: auto;\n",
       "}\n",
       "\n",
       "#sk-container-id-2 input.sk-toggleable__control:checked~label.sk-toggleable__label-arrow:before {\n",
       "  content: \"▾\";\n",
       "}\n",
       "\n",
       "/* Pipeline/ColumnTransformer-specific style */\n",
       "\n",
       "#sk-container-id-2 div.sk-label input.sk-toggleable__control:checked~label.sk-toggleable__label {\n",
       "  color: var(--sklearn-color-text);\n",
       "  background-color: var(--sklearn-color-unfitted-level-2);\n",
       "}\n",
       "\n",
       "#sk-container-id-2 div.sk-label.fitted input.sk-toggleable__control:checked~label.sk-toggleable__label {\n",
       "  background-color: var(--sklearn-color-fitted-level-2);\n",
       "}\n",
       "\n",
       "/* Estimator-specific style */\n",
       "\n",
       "/* Colorize estimator box */\n",
       "#sk-container-id-2 div.sk-estimator input.sk-toggleable__control:checked~label.sk-toggleable__label {\n",
       "  /* unfitted */\n",
       "  background-color: var(--sklearn-color-unfitted-level-2);\n",
       "}\n",
       "\n",
       "#sk-container-id-2 div.sk-estimator.fitted input.sk-toggleable__control:checked~label.sk-toggleable__label {\n",
       "  /* fitted */\n",
       "  background-color: var(--sklearn-color-fitted-level-2);\n",
       "}\n",
       "\n",
       "#sk-container-id-2 div.sk-label label.sk-toggleable__label,\n",
       "#sk-container-id-2 div.sk-label label {\n",
       "  /* The background is the default theme color */\n",
       "  color: var(--sklearn-color-text-on-default-background);\n",
       "}\n",
       "\n",
       "/* On hover, darken the color of the background */\n",
       "#sk-container-id-2 div.sk-label:hover label.sk-toggleable__label {\n",
       "  color: var(--sklearn-color-text);\n",
       "  background-color: var(--sklearn-color-unfitted-level-2);\n",
       "}\n",
       "\n",
       "/* Label box, darken color on hover, fitted */\n",
       "#sk-container-id-2 div.sk-label.fitted:hover label.sk-toggleable__label.fitted {\n",
       "  color: var(--sklearn-color-text);\n",
       "  background-color: var(--sklearn-color-fitted-level-2);\n",
       "}\n",
       "\n",
       "/* Estimator label */\n",
       "\n",
       "#sk-container-id-2 div.sk-label label {\n",
       "  font-family: monospace;\n",
       "  font-weight: bold;\n",
       "  display: inline-block;\n",
       "  line-height: 1.2em;\n",
       "}\n",
       "\n",
       "#sk-container-id-2 div.sk-label-container {\n",
       "  text-align: center;\n",
       "}\n",
       "\n",
       "/* Estimator-specific */\n",
       "#sk-container-id-2 div.sk-estimator {\n",
       "  font-family: monospace;\n",
       "  border: 1px dotted var(--sklearn-color-border-box);\n",
       "  border-radius: 0.25em;\n",
       "  box-sizing: border-box;\n",
       "  margin-bottom: 0.5em;\n",
       "  /* unfitted */\n",
       "  background-color: var(--sklearn-color-unfitted-level-0);\n",
       "}\n",
       "\n",
       "#sk-container-id-2 div.sk-estimator.fitted {\n",
       "  /* fitted */\n",
       "  background-color: var(--sklearn-color-fitted-level-0);\n",
       "}\n",
       "\n",
       "/* on hover */\n",
       "#sk-container-id-2 div.sk-estimator:hover {\n",
       "  /* unfitted */\n",
       "  background-color: var(--sklearn-color-unfitted-level-2);\n",
       "}\n",
       "\n",
       "#sk-container-id-2 div.sk-estimator.fitted:hover {\n",
       "  /* fitted */\n",
       "  background-color: var(--sklearn-color-fitted-level-2);\n",
       "}\n",
       "\n",
       "/* Specification for estimator info (e.g. \"i\" and \"?\") */\n",
       "\n",
       "/* Common style for \"i\" and \"?\" */\n",
       "\n",
       ".sk-estimator-doc-link,\n",
       "a:link.sk-estimator-doc-link,\n",
       "a:visited.sk-estimator-doc-link {\n",
       "  float: right;\n",
       "  font-size: smaller;\n",
       "  line-height: 1em;\n",
       "  font-family: monospace;\n",
       "  background-color: var(--sklearn-color-background);\n",
       "  border-radius: 1em;\n",
       "  height: 1em;\n",
       "  width: 1em;\n",
       "  text-decoration: none !important;\n",
       "  margin-left: 0.5em;\n",
       "  text-align: center;\n",
       "  /* unfitted */\n",
       "  border: var(--sklearn-color-unfitted-level-1) 1pt solid;\n",
       "  color: var(--sklearn-color-unfitted-level-1);\n",
       "}\n",
       "\n",
       ".sk-estimator-doc-link.fitted,\n",
       "a:link.sk-estimator-doc-link.fitted,\n",
       "a:visited.sk-estimator-doc-link.fitted {\n",
       "  /* fitted */\n",
       "  border: var(--sklearn-color-fitted-level-1) 1pt solid;\n",
       "  color: var(--sklearn-color-fitted-level-1);\n",
       "}\n",
       "\n",
       "/* On hover */\n",
       "div.sk-estimator:hover .sk-estimator-doc-link:hover,\n",
       ".sk-estimator-doc-link:hover,\n",
       "div.sk-label-container:hover .sk-estimator-doc-link:hover,\n",
       ".sk-estimator-doc-link:hover {\n",
       "  /* unfitted */\n",
       "  background-color: var(--sklearn-color-unfitted-level-3);\n",
       "  color: var(--sklearn-color-background);\n",
       "  text-decoration: none;\n",
       "}\n",
       "\n",
       "div.sk-estimator.fitted:hover .sk-estimator-doc-link.fitted:hover,\n",
       ".sk-estimator-doc-link.fitted:hover,\n",
       "div.sk-label-container:hover .sk-estimator-doc-link.fitted:hover,\n",
       ".sk-estimator-doc-link.fitted:hover {\n",
       "  /* fitted */\n",
       "  background-color: var(--sklearn-color-fitted-level-3);\n",
       "  color: var(--sklearn-color-background);\n",
       "  text-decoration: none;\n",
       "}\n",
       "\n",
       "/* Span, style for the box shown on hovering the info icon */\n",
       ".sk-estimator-doc-link span {\n",
       "  display: none;\n",
       "  z-index: 9999;\n",
       "  position: relative;\n",
       "  font-weight: normal;\n",
       "  right: .2ex;\n",
       "  padding: .5ex;\n",
       "  margin: .5ex;\n",
       "  width: min-content;\n",
       "  min-width: 20ex;\n",
       "  max-width: 50ex;\n",
       "  color: var(--sklearn-color-text);\n",
       "  box-shadow: 2pt 2pt 4pt #999;\n",
       "  /* unfitted */\n",
       "  background: var(--sklearn-color-unfitted-level-0);\n",
       "  border: .5pt solid var(--sklearn-color-unfitted-level-3);\n",
       "}\n",
       "\n",
       ".sk-estimator-doc-link.fitted span {\n",
       "  /* fitted */\n",
       "  background: var(--sklearn-color-fitted-level-0);\n",
       "  border: var(--sklearn-color-fitted-level-3);\n",
       "}\n",
       "\n",
       ".sk-estimator-doc-link:hover span {\n",
       "  display: block;\n",
       "}\n",
       "\n",
       "/* \"?\"-specific style due to the `<a>` HTML tag */\n",
       "\n",
       "#sk-container-id-2 a.estimator_doc_link {\n",
       "  float: right;\n",
       "  font-size: 1rem;\n",
       "  line-height: 1em;\n",
       "  font-family: monospace;\n",
       "  background-color: var(--sklearn-color-background);\n",
       "  border-radius: 1rem;\n",
       "  height: 1rem;\n",
       "  width: 1rem;\n",
       "  text-decoration: none;\n",
       "  /* unfitted */\n",
       "  color: var(--sklearn-color-unfitted-level-1);\n",
       "  border: var(--sklearn-color-unfitted-level-1) 1pt solid;\n",
       "}\n",
       "\n",
       "#sk-container-id-2 a.estimator_doc_link.fitted {\n",
       "  /* fitted */\n",
       "  border: var(--sklearn-color-fitted-level-1) 1pt solid;\n",
       "  color: var(--sklearn-color-fitted-level-1);\n",
       "}\n",
       "\n",
       "/* On hover */\n",
       "#sk-container-id-2 a.estimator_doc_link:hover {\n",
       "  /* unfitted */\n",
       "  background-color: var(--sklearn-color-unfitted-level-3);\n",
       "  color: var(--sklearn-color-background);\n",
       "  text-decoration: none;\n",
       "}\n",
       "\n",
       "#sk-container-id-2 a.estimator_doc_link.fitted:hover {\n",
       "  /* fitted */\n",
       "  background-color: var(--sklearn-color-fitted-level-3);\n",
       "}\n",
       "</style><div id=\"sk-container-id-2\" class=\"sk-top-container\"><div class=\"sk-text-repr-fallback\"><pre>GridSearchCV(cv=3, estimator=RandomForestRegressor(random_state=13), n_jobs=-1,\n",
       "             param_grid={&#x27;max_depth&#x27;: [20, 30], &#x27;max_features&#x27;: [0.5, 1],\n",
       "                         &#x27;min_samples_leaf&#x27;: [1, 2, 4],\n",
       "                         &#x27;min_samples_split&#x27;: [2, 5, 10],\n",
       "                         &#x27;n_estimators&#x27;: [500, 1000, 1500]},\n",
       "             scoring=&#x27;neg_mean_absolute_error&#x27;, verbose=2)</pre><b>In a Jupyter environment, please rerun this cell to show the HTML representation or trust the notebook. <br />On GitHub, the HTML representation is unable to render, please try loading this page with nbviewer.org.</b></div><div class=\"sk-container\" hidden><div class=\"sk-item sk-dashed-wrapped\"><div class=\"sk-label-container\"><div class=\"sk-label fitted sk-toggleable\"><input class=\"sk-toggleable__control sk-hidden--visually\" id=\"sk-estimator-id-2\" type=\"checkbox\" ><label for=\"sk-estimator-id-2\" class=\"sk-toggleable__label fitted sk-toggleable__label-arrow\"><div><div>GridSearchCV</div></div><div><a class=\"sk-estimator-doc-link fitted\" rel=\"noreferrer\" target=\"_blank\" href=\"https://scikit-learn.org/1.6/modules/generated/sklearn.model_selection.GridSearchCV.html\">?<span>Documentation for GridSearchCV</span></a><span class=\"sk-estimator-doc-link fitted\">i<span>Fitted</span></span></div></label><div class=\"sk-toggleable__content fitted\"><pre>GridSearchCV(cv=3, estimator=RandomForestRegressor(random_state=13), n_jobs=-1,\n",
       "             param_grid={&#x27;max_depth&#x27;: [20, 30], &#x27;max_features&#x27;: [0.5, 1],\n",
       "                         &#x27;min_samples_leaf&#x27;: [1, 2, 4],\n",
       "                         &#x27;min_samples_split&#x27;: [2, 5, 10],\n",
       "                         &#x27;n_estimators&#x27;: [500, 1000, 1500]},\n",
       "             scoring=&#x27;neg_mean_absolute_error&#x27;, verbose=2)</pre></div> </div></div><div class=\"sk-parallel\"><div class=\"sk-parallel-item\"><div class=\"sk-item\"><div class=\"sk-label-container\"><div class=\"sk-label fitted sk-toggleable\"><input class=\"sk-toggleable__control sk-hidden--visually\" id=\"sk-estimator-id-3\" type=\"checkbox\" ><label for=\"sk-estimator-id-3\" class=\"sk-toggleable__label fitted sk-toggleable__label-arrow\"><div><div>best_estimator_: RandomForestRegressor</div></div></label><div class=\"sk-toggleable__content fitted\"><pre>RandomForestRegressor(max_depth=20, max_features=0.5, min_samples_split=5,\n",
       "                      n_estimators=1000, random_state=13)</pre></div> </div></div><div class=\"sk-serial\"><div class=\"sk-item\"><div class=\"sk-estimator fitted sk-toggleable\"><input class=\"sk-toggleable__control sk-hidden--visually\" id=\"sk-estimator-id-4\" type=\"checkbox\" ><label for=\"sk-estimator-id-4\" class=\"sk-toggleable__label fitted sk-toggleable__label-arrow\"><div><div>RandomForestRegressor</div></div><div><a class=\"sk-estimator-doc-link fitted\" rel=\"noreferrer\" target=\"_blank\" href=\"https://scikit-learn.org/1.6/modules/generated/sklearn.ensemble.RandomForestRegressor.html\">?<span>Documentation for RandomForestRegressor</span></a></div></label><div class=\"sk-toggleable__content fitted\"><pre>RandomForestRegressor(max_depth=20, max_features=0.5, min_samples_split=5,\n",
       "                      n_estimators=1000, random_state=13)</pre></div> </div></div></div></div></div></div></div></div></div>"
      ],
      "text/plain": [
       "GridSearchCV(cv=3, estimator=RandomForestRegressor(random_state=13), n_jobs=-1,\n",
       "             param_grid={'max_depth': [20, 30], 'max_features': [0.5, 1],\n",
       "                         'min_samples_leaf': [1, 2, 4],\n",
       "                         'min_samples_split': [2, 5, 10],\n",
       "                         'n_estimators': [500, 1000, 1500]},\n",
       "             scoring='neg_mean_absolute_error', verbose=2)"
      ]
     },
     "execution_count": 39,
     "metadata": {},
     "output_type": "execute_result"
    }
   ],
   "source": [
    "# Hyperparamter-Suche\n",
    "param_grid = {\n",
    "    \"n_estimators\": [500, 1000, 1500],\n",
    "    \"max_features\": [0.5, 1],\n",
    "    \"max_depth\": [20, 30],\n",
    "    \"min_samples_split\": [2, 5, 10],\n",
    "    \"min_samples_leaf\": [1, 2 ,4],\n",
    "}\n",
    "\n",
    "search_cv = GridSearchCV(\n",
    "    estimator=rfr,\n",
    "    param_grid=param_grid,\n",
    "    cv=3, \n",
    "    scoring=\"neg_mean_absolute_error\", # neg weil gridSearchCV maximiert scoring parameter\n",
    "    n_jobs=-1,\n",
    "    verbose=2 # Überwachen\n",
    ")\n",
    "search_cv.fit(X_train_reduced, y_train)"
   ]
  },
  {
   "cell_type": "code",
   "execution_count": 40,
   "metadata": {},
   "outputs": [
    {
     "name": "stdout",
     "output_type": "stream",
     "text": [
      "Beste Hyperparameter: {'max_depth': 20, 'max_features': 0.5, 'min_samples_leaf': 1, 'min_samples_split': 5, 'n_estimators': 1000}\n"
     ]
    }
   ],
   "source": [
    "print(\"Beste Hyperparameter:\", search_cv.best_params_)"
   ]
  },
  {
   "cell_type": "code",
   "execution_count": 41,
   "metadata": {},
   "outputs": [
    {
     "data": {
      "text/plain": [
       "['best_model.pkl']"
      ]
     },
     "execution_count": 41,
     "metadata": {},
     "output_type": "execute_result"
    }
   ],
   "source": [
    "joblib.dump(search_cv.best_estimator_, \"best_model.pkl\")"
   ]
  },
  {
   "cell_type": "code",
   "execution_count": 42,
   "metadata": {},
   "outputs": [
    {
     "name": "stdout",
     "output_type": "stream",
     "text": [
      "MAE:  0.14119259804591439\n",
      "MAPE:  0.0367839960048242\n"
     ]
    }
   ],
   "source": [
    "# Testen des besten Modells auf den Test-Daten\n",
    "best_model = joblib.load(\"best_model.pkl\")\n",
    "y_pred = best_model.predict(X_test_reduced)\n",
    "print(\"MAE: \", mean_absolute_error(y_pred, y_test))\n",
    "print(\"MAPE: \",mean_absolute_percentage_error(y_pred, y_test))"
   ]
  },
  {
   "cell_type": "code",
   "execution_count": 43,
   "metadata": {},
   "outputs": [
    {
     "data": {
      "text/html": [
       "<style>#sk-container-id-3 {\n",
       "  /* Definition of color scheme common for light and dark mode */\n",
       "  --sklearn-color-text: #000;\n",
       "  --sklearn-color-text-muted: #666;\n",
       "  --sklearn-color-line: gray;\n",
       "  /* Definition of color scheme for unfitted estimators */\n",
       "  --sklearn-color-unfitted-level-0: #fff5e6;\n",
       "  --sklearn-color-unfitted-level-1: #f6e4d2;\n",
       "  --sklearn-color-unfitted-level-2: #ffe0b3;\n",
       "  --sklearn-color-unfitted-level-3: chocolate;\n",
       "  /* Definition of color scheme for fitted estimators */\n",
       "  --sklearn-color-fitted-level-0: #f0f8ff;\n",
       "  --sklearn-color-fitted-level-1: #d4ebff;\n",
       "  --sklearn-color-fitted-level-2: #b3dbfd;\n",
       "  --sklearn-color-fitted-level-3: cornflowerblue;\n",
       "\n",
       "  /* Specific color for light theme */\n",
       "  --sklearn-color-text-on-default-background: var(--sg-text-color, var(--theme-code-foreground, var(--jp-content-font-color1, black)));\n",
       "  --sklearn-color-background: var(--sg-background-color, var(--theme-background, var(--jp-layout-color0, white)));\n",
       "  --sklearn-color-border-box: var(--sg-text-color, var(--theme-code-foreground, var(--jp-content-font-color1, black)));\n",
       "  --sklearn-color-icon: #696969;\n",
       "\n",
       "  @media (prefers-color-scheme: dark) {\n",
       "    /* Redefinition of color scheme for dark theme */\n",
       "    --sklearn-color-text-on-default-background: var(--sg-text-color, var(--theme-code-foreground, var(--jp-content-font-color1, white)));\n",
       "    --sklearn-color-background: var(--sg-background-color, var(--theme-background, var(--jp-layout-color0, #111)));\n",
       "    --sklearn-color-border-box: var(--sg-text-color, var(--theme-code-foreground, var(--jp-content-font-color1, white)));\n",
       "    --sklearn-color-icon: #878787;\n",
       "  }\n",
       "}\n",
       "\n",
       "#sk-container-id-3 {\n",
       "  color: var(--sklearn-color-text);\n",
       "}\n",
       "\n",
       "#sk-container-id-3 pre {\n",
       "  padding: 0;\n",
       "}\n",
       "\n",
       "#sk-container-id-3 input.sk-hidden--visually {\n",
       "  border: 0;\n",
       "  clip: rect(1px 1px 1px 1px);\n",
       "  clip: rect(1px, 1px, 1px, 1px);\n",
       "  height: 1px;\n",
       "  margin: -1px;\n",
       "  overflow: hidden;\n",
       "  padding: 0;\n",
       "  position: absolute;\n",
       "  width: 1px;\n",
       "}\n",
       "\n",
       "#sk-container-id-3 div.sk-dashed-wrapped {\n",
       "  border: 1px dashed var(--sklearn-color-line);\n",
       "  margin: 0 0.4em 0.5em 0.4em;\n",
       "  box-sizing: border-box;\n",
       "  padding-bottom: 0.4em;\n",
       "  background-color: var(--sklearn-color-background);\n",
       "}\n",
       "\n",
       "#sk-container-id-3 div.sk-container {\n",
       "  /* jupyter's `normalize.less` sets `[hidden] { display: none; }`\n",
       "     but bootstrap.min.css set `[hidden] { display: none !important; }`\n",
       "     so we also need the `!important` here to be able to override the\n",
       "     default hidden behavior on the sphinx rendered scikit-learn.org.\n",
       "     See: https://github.com/scikit-learn/scikit-learn/issues/21755 */\n",
       "  display: inline-block !important;\n",
       "  position: relative;\n",
       "}\n",
       "\n",
       "#sk-container-id-3 div.sk-text-repr-fallback {\n",
       "  display: none;\n",
       "}\n",
       "\n",
       "div.sk-parallel-item,\n",
       "div.sk-serial,\n",
       "div.sk-item {\n",
       "  /* draw centered vertical line to link estimators */\n",
       "  background-image: linear-gradient(var(--sklearn-color-text-on-default-background), var(--sklearn-color-text-on-default-background));\n",
       "  background-size: 2px 100%;\n",
       "  background-repeat: no-repeat;\n",
       "  background-position: center center;\n",
       "}\n",
       "\n",
       "/* Parallel-specific style estimator block */\n",
       "\n",
       "#sk-container-id-3 div.sk-parallel-item::after {\n",
       "  content: \"\";\n",
       "  width: 100%;\n",
       "  border-bottom: 2px solid var(--sklearn-color-text-on-default-background);\n",
       "  flex-grow: 1;\n",
       "}\n",
       "\n",
       "#sk-container-id-3 div.sk-parallel {\n",
       "  display: flex;\n",
       "  align-items: stretch;\n",
       "  justify-content: center;\n",
       "  background-color: var(--sklearn-color-background);\n",
       "  position: relative;\n",
       "}\n",
       "\n",
       "#sk-container-id-3 div.sk-parallel-item {\n",
       "  display: flex;\n",
       "  flex-direction: column;\n",
       "}\n",
       "\n",
       "#sk-container-id-3 div.sk-parallel-item:first-child::after {\n",
       "  align-self: flex-end;\n",
       "  width: 50%;\n",
       "}\n",
       "\n",
       "#sk-container-id-3 div.sk-parallel-item:last-child::after {\n",
       "  align-self: flex-start;\n",
       "  width: 50%;\n",
       "}\n",
       "\n",
       "#sk-container-id-3 div.sk-parallel-item:only-child::after {\n",
       "  width: 0;\n",
       "}\n",
       "\n",
       "/* Serial-specific style estimator block */\n",
       "\n",
       "#sk-container-id-3 div.sk-serial {\n",
       "  display: flex;\n",
       "  flex-direction: column;\n",
       "  align-items: center;\n",
       "  background-color: var(--sklearn-color-background);\n",
       "  padding-right: 1em;\n",
       "  padding-left: 1em;\n",
       "}\n",
       "\n",
       "\n",
       "/* Toggleable style: style used for estimator/Pipeline/ColumnTransformer box that is\n",
       "clickable and can be expanded/collapsed.\n",
       "- Pipeline and ColumnTransformer use this feature and define the default style\n",
       "- Estimators will overwrite some part of the style using the `sk-estimator` class\n",
       "*/\n",
       "\n",
       "/* Pipeline and ColumnTransformer style (default) */\n",
       "\n",
       "#sk-container-id-3 div.sk-toggleable {\n",
       "  /* Default theme specific background. It is overwritten whether we have a\n",
       "  specific estimator or a Pipeline/ColumnTransformer */\n",
       "  background-color: var(--sklearn-color-background);\n",
       "}\n",
       "\n",
       "/* Toggleable label */\n",
       "#sk-container-id-3 label.sk-toggleable__label {\n",
       "  cursor: pointer;\n",
       "  display: flex;\n",
       "  width: 100%;\n",
       "  margin-bottom: 0;\n",
       "  padding: 0.5em;\n",
       "  box-sizing: border-box;\n",
       "  text-align: center;\n",
       "  align-items: start;\n",
       "  justify-content: space-between;\n",
       "  gap: 0.5em;\n",
       "}\n",
       "\n",
       "#sk-container-id-3 label.sk-toggleable__label .caption {\n",
       "  font-size: 0.6rem;\n",
       "  font-weight: lighter;\n",
       "  color: var(--sklearn-color-text-muted);\n",
       "}\n",
       "\n",
       "#sk-container-id-3 label.sk-toggleable__label-arrow:before {\n",
       "  /* Arrow on the left of the label */\n",
       "  content: \"▸\";\n",
       "  float: left;\n",
       "  margin-right: 0.25em;\n",
       "  color: var(--sklearn-color-icon);\n",
       "}\n",
       "\n",
       "#sk-container-id-3 label.sk-toggleable__label-arrow:hover:before {\n",
       "  color: var(--sklearn-color-text);\n",
       "}\n",
       "\n",
       "/* Toggleable content - dropdown */\n",
       "\n",
       "#sk-container-id-3 div.sk-toggleable__content {\n",
       "  max-height: 0;\n",
       "  max-width: 0;\n",
       "  overflow: hidden;\n",
       "  text-align: left;\n",
       "  /* unfitted */\n",
       "  background-color: var(--sklearn-color-unfitted-level-0);\n",
       "}\n",
       "\n",
       "#sk-container-id-3 div.sk-toggleable__content.fitted {\n",
       "  /* fitted */\n",
       "  background-color: var(--sklearn-color-fitted-level-0);\n",
       "}\n",
       "\n",
       "#sk-container-id-3 div.sk-toggleable__content pre {\n",
       "  margin: 0.2em;\n",
       "  border-radius: 0.25em;\n",
       "  color: var(--sklearn-color-text);\n",
       "  /* unfitted */\n",
       "  background-color: var(--sklearn-color-unfitted-level-0);\n",
       "}\n",
       "\n",
       "#sk-container-id-3 div.sk-toggleable__content.fitted pre {\n",
       "  /* unfitted */\n",
       "  background-color: var(--sklearn-color-fitted-level-0);\n",
       "}\n",
       "\n",
       "#sk-container-id-3 input.sk-toggleable__control:checked~div.sk-toggleable__content {\n",
       "  /* Expand drop-down */\n",
       "  max-height: 200px;\n",
       "  max-width: 100%;\n",
       "  overflow: auto;\n",
       "}\n",
       "\n",
       "#sk-container-id-3 input.sk-toggleable__control:checked~label.sk-toggleable__label-arrow:before {\n",
       "  content: \"▾\";\n",
       "}\n",
       "\n",
       "/* Pipeline/ColumnTransformer-specific style */\n",
       "\n",
       "#sk-container-id-3 div.sk-label input.sk-toggleable__control:checked~label.sk-toggleable__label {\n",
       "  color: var(--sklearn-color-text);\n",
       "  background-color: var(--sklearn-color-unfitted-level-2);\n",
       "}\n",
       "\n",
       "#sk-container-id-3 div.sk-label.fitted input.sk-toggleable__control:checked~label.sk-toggleable__label {\n",
       "  background-color: var(--sklearn-color-fitted-level-2);\n",
       "}\n",
       "\n",
       "/* Estimator-specific style */\n",
       "\n",
       "/* Colorize estimator box */\n",
       "#sk-container-id-3 div.sk-estimator input.sk-toggleable__control:checked~label.sk-toggleable__label {\n",
       "  /* unfitted */\n",
       "  background-color: var(--sklearn-color-unfitted-level-2);\n",
       "}\n",
       "\n",
       "#sk-container-id-3 div.sk-estimator.fitted input.sk-toggleable__control:checked~label.sk-toggleable__label {\n",
       "  /* fitted */\n",
       "  background-color: var(--sklearn-color-fitted-level-2);\n",
       "}\n",
       "\n",
       "#sk-container-id-3 div.sk-label label.sk-toggleable__label,\n",
       "#sk-container-id-3 div.sk-label label {\n",
       "  /* The background is the default theme color */\n",
       "  color: var(--sklearn-color-text-on-default-background);\n",
       "}\n",
       "\n",
       "/* On hover, darken the color of the background */\n",
       "#sk-container-id-3 div.sk-label:hover label.sk-toggleable__label {\n",
       "  color: var(--sklearn-color-text);\n",
       "  background-color: var(--sklearn-color-unfitted-level-2);\n",
       "}\n",
       "\n",
       "/* Label box, darken color on hover, fitted */\n",
       "#sk-container-id-3 div.sk-label.fitted:hover label.sk-toggleable__label.fitted {\n",
       "  color: var(--sklearn-color-text);\n",
       "  background-color: var(--sklearn-color-fitted-level-2);\n",
       "}\n",
       "\n",
       "/* Estimator label */\n",
       "\n",
       "#sk-container-id-3 div.sk-label label {\n",
       "  font-family: monospace;\n",
       "  font-weight: bold;\n",
       "  display: inline-block;\n",
       "  line-height: 1.2em;\n",
       "}\n",
       "\n",
       "#sk-container-id-3 div.sk-label-container {\n",
       "  text-align: center;\n",
       "}\n",
       "\n",
       "/* Estimator-specific */\n",
       "#sk-container-id-3 div.sk-estimator {\n",
       "  font-family: monospace;\n",
       "  border: 1px dotted var(--sklearn-color-border-box);\n",
       "  border-radius: 0.25em;\n",
       "  box-sizing: border-box;\n",
       "  margin-bottom: 0.5em;\n",
       "  /* unfitted */\n",
       "  background-color: var(--sklearn-color-unfitted-level-0);\n",
       "}\n",
       "\n",
       "#sk-container-id-3 div.sk-estimator.fitted {\n",
       "  /* fitted */\n",
       "  background-color: var(--sklearn-color-fitted-level-0);\n",
       "}\n",
       "\n",
       "/* on hover */\n",
       "#sk-container-id-3 div.sk-estimator:hover {\n",
       "  /* unfitted */\n",
       "  background-color: var(--sklearn-color-unfitted-level-2);\n",
       "}\n",
       "\n",
       "#sk-container-id-3 div.sk-estimator.fitted:hover {\n",
       "  /* fitted */\n",
       "  background-color: var(--sklearn-color-fitted-level-2);\n",
       "}\n",
       "\n",
       "/* Specification for estimator info (e.g. \"i\" and \"?\") */\n",
       "\n",
       "/* Common style for \"i\" and \"?\" */\n",
       "\n",
       ".sk-estimator-doc-link,\n",
       "a:link.sk-estimator-doc-link,\n",
       "a:visited.sk-estimator-doc-link {\n",
       "  float: right;\n",
       "  font-size: smaller;\n",
       "  line-height: 1em;\n",
       "  font-family: monospace;\n",
       "  background-color: var(--sklearn-color-background);\n",
       "  border-radius: 1em;\n",
       "  height: 1em;\n",
       "  width: 1em;\n",
       "  text-decoration: none !important;\n",
       "  margin-left: 0.5em;\n",
       "  text-align: center;\n",
       "  /* unfitted */\n",
       "  border: var(--sklearn-color-unfitted-level-1) 1pt solid;\n",
       "  color: var(--sklearn-color-unfitted-level-1);\n",
       "}\n",
       "\n",
       ".sk-estimator-doc-link.fitted,\n",
       "a:link.sk-estimator-doc-link.fitted,\n",
       "a:visited.sk-estimator-doc-link.fitted {\n",
       "  /* fitted */\n",
       "  border: var(--sklearn-color-fitted-level-1) 1pt solid;\n",
       "  color: var(--sklearn-color-fitted-level-1);\n",
       "}\n",
       "\n",
       "/* On hover */\n",
       "div.sk-estimator:hover .sk-estimator-doc-link:hover,\n",
       ".sk-estimator-doc-link:hover,\n",
       "div.sk-label-container:hover .sk-estimator-doc-link:hover,\n",
       ".sk-estimator-doc-link:hover {\n",
       "  /* unfitted */\n",
       "  background-color: var(--sklearn-color-unfitted-level-3);\n",
       "  color: var(--sklearn-color-background);\n",
       "  text-decoration: none;\n",
       "}\n",
       "\n",
       "div.sk-estimator.fitted:hover .sk-estimator-doc-link.fitted:hover,\n",
       ".sk-estimator-doc-link.fitted:hover,\n",
       "div.sk-label-container:hover .sk-estimator-doc-link.fitted:hover,\n",
       ".sk-estimator-doc-link.fitted:hover {\n",
       "  /* fitted */\n",
       "  background-color: var(--sklearn-color-fitted-level-3);\n",
       "  color: var(--sklearn-color-background);\n",
       "  text-decoration: none;\n",
       "}\n",
       "\n",
       "/* Span, style for the box shown on hovering the info icon */\n",
       ".sk-estimator-doc-link span {\n",
       "  display: none;\n",
       "  z-index: 9999;\n",
       "  position: relative;\n",
       "  font-weight: normal;\n",
       "  right: .2ex;\n",
       "  padding: .5ex;\n",
       "  margin: .5ex;\n",
       "  width: min-content;\n",
       "  min-width: 20ex;\n",
       "  max-width: 50ex;\n",
       "  color: var(--sklearn-color-text);\n",
       "  box-shadow: 2pt 2pt 4pt #999;\n",
       "  /* unfitted */\n",
       "  background: var(--sklearn-color-unfitted-level-0);\n",
       "  border: .5pt solid var(--sklearn-color-unfitted-level-3);\n",
       "}\n",
       "\n",
       ".sk-estimator-doc-link.fitted span {\n",
       "  /* fitted */\n",
       "  background: var(--sklearn-color-fitted-level-0);\n",
       "  border: var(--sklearn-color-fitted-level-3);\n",
       "}\n",
       "\n",
       ".sk-estimator-doc-link:hover span {\n",
       "  display: block;\n",
       "}\n",
       "\n",
       "/* \"?\"-specific style due to the `<a>` HTML tag */\n",
       "\n",
       "#sk-container-id-3 a.estimator_doc_link {\n",
       "  float: right;\n",
       "  font-size: 1rem;\n",
       "  line-height: 1em;\n",
       "  font-family: monospace;\n",
       "  background-color: var(--sklearn-color-background);\n",
       "  border-radius: 1rem;\n",
       "  height: 1rem;\n",
       "  width: 1rem;\n",
       "  text-decoration: none;\n",
       "  /* unfitted */\n",
       "  color: var(--sklearn-color-unfitted-level-1);\n",
       "  border: var(--sklearn-color-unfitted-level-1) 1pt solid;\n",
       "}\n",
       "\n",
       "#sk-container-id-3 a.estimator_doc_link.fitted {\n",
       "  /* fitted */\n",
       "  border: var(--sklearn-color-fitted-level-1) 1pt solid;\n",
       "  color: var(--sklearn-color-fitted-level-1);\n",
       "}\n",
       "\n",
       "/* On hover */\n",
       "#sk-container-id-3 a.estimator_doc_link:hover {\n",
       "  /* unfitted */\n",
       "  background-color: var(--sklearn-color-unfitted-level-3);\n",
       "  color: var(--sklearn-color-background);\n",
       "  text-decoration: none;\n",
       "}\n",
       "\n",
       "#sk-container-id-3 a.estimator_doc_link.fitted:hover {\n",
       "  /* fitted */\n",
       "  background-color: var(--sklearn-color-fitted-level-3);\n",
       "}\n",
       "</style><div id=\"sk-container-id-3\" class=\"sk-top-container\"><div class=\"sk-text-repr-fallback\"><pre>GridSearchCV(cv=5, estimator=KNeighborsRegressor(), n_jobs=-1,\n",
       "             param_grid={&#x27;metric&#x27;: [&#x27;euclidean&#x27;, &#x27;manhattan&#x27;, &#x27;minkowski&#x27;,\n",
       "                                    &#x27;chebyshev&#x27;, &#x27;cosine&#x27;],\n",
       "                         &#x27;n_neighbors&#x27;: range(1, 31),\n",
       "                         &#x27;weights&#x27;: [&#x27;uniform&#x27;, &#x27;distance&#x27;]},\n",
       "             scoring=&#x27;neg_mean_absolute_error&#x27;)</pre><b>In a Jupyter environment, please rerun this cell to show the HTML representation or trust the notebook. <br />On GitHub, the HTML representation is unable to render, please try loading this page with nbviewer.org.</b></div><div class=\"sk-container\" hidden><div class=\"sk-item sk-dashed-wrapped\"><div class=\"sk-label-container\"><div class=\"sk-label fitted sk-toggleable\"><input class=\"sk-toggleable__control sk-hidden--visually\" id=\"sk-estimator-id-5\" type=\"checkbox\" ><label for=\"sk-estimator-id-5\" class=\"sk-toggleable__label fitted sk-toggleable__label-arrow\"><div><div>GridSearchCV</div></div><div><a class=\"sk-estimator-doc-link fitted\" rel=\"noreferrer\" target=\"_blank\" href=\"https://scikit-learn.org/1.6/modules/generated/sklearn.model_selection.GridSearchCV.html\">?<span>Documentation for GridSearchCV</span></a><span class=\"sk-estimator-doc-link fitted\">i<span>Fitted</span></span></div></label><div class=\"sk-toggleable__content fitted\"><pre>GridSearchCV(cv=5, estimator=KNeighborsRegressor(), n_jobs=-1,\n",
       "             param_grid={&#x27;metric&#x27;: [&#x27;euclidean&#x27;, &#x27;manhattan&#x27;, &#x27;minkowski&#x27;,\n",
       "                                    &#x27;chebyshev&#x27;, &#x27;cosine&#x27;],\n",
       "                         &#x27;n_neighbors&#x27;: range(1, 31),\n",
       "                         &#x27;weights&#x27;: [&#x27;uniform&#x27;, &#x27;distance&#x27;]},\n",
       "             scoring=&#x27;neg_mean_absolute_error&#x27;)</pre></div> </div></div><div class=\"sk-parallel\"><div class=\"sk-parallel-item\"><div class=\"sk-item\"><div class=\"sk-label-container\"><div class=\"sk-label fitted sk-toggleable\"><input class=\"sk-toggleable__control sk-hidden--visually\" id=\"sk-estimator-id-6\" type=\"checkbox\" ><label for=\"sk-estimator-id-6\" class=\"sk-toggleable__label fitted sk-toggleable__label-arrow\"><div><div>best_estimator_: KNeighborsRegressor</div></div></label><div class=\"sk-toggleable__content fitted\"><pre>KNeighborsRegressor(metric=&#x27;manhattan&#x27;, n_neighbors=14, weights=&#x27;distance&#x27;)</pre></div> </div></div><div class=\"sk-serial\"><div class=\"sk-item\"><div class=\"sk-estimator fitted sk-toggleable\"><input class=\"sk-toggleable__control sk-hidden--visually\" id=\"sk-estimator-id-7\" type=\"checkbox\" ><label for=\"sk-estimator-id-7\" class=\"sk-toggleable__label fitted sk-toggleable__label-arrow\"><div><div>KNeighborsRegressor</div></div><div><a class=\"sk-estimator-doc-link fitted\" rel=\"noreferrer\" target=\"_blank\" href=\"https://scikit-learn.org/1.6/modules/generated/sklearn.neighbors.KNeighborsRegressor.html\">?<span>Documentation for KNeighborsRegressor</span></a></div></label><div class=\"sk-toggleable__content fitted\"><pre>KNeighborsRegressor(metric=&#x27;manhattan&#x27;, n_neighbors=14, weights=&#x27;distance&#x27;)</pre></div> </div></div></div></div></div></div></div></div></div>"
      ],
      "text/plain": [
       "GridSearchCV(cv=5, estimator=KNeighborsRegressor(), n_jobs=-1,\n",
       "             param_grid={'metric': ['euclidean', 'manhattan', 'minkowski',\n",
       "                                    'chebyshev', 'cosine'],\n",
       "                         'n_neighbors': range(1, 31),\n",
       "                         'weights': ['uniform', 'distance']},\n",
       "             scoring='neg_mean_absolute_error')"
      ]
     },
     "execution_count": 43,
     "metadata": {},
     "output_type": "execute_result"
    }
   ],
   "source": [
    "knn = KNeighborsRegressor()\n",
    "\n",
    "\n",
    "param_grid = {\n",
    "    'n_neighbors': range(1, 31),\n",
    "    'weights': ['uniform', 'distance'],\n",
    "    'metric': ['euclidean', 'manhattan', 'minkowski', 'chebyshev', 'cosine']\n",
    "}\n",
    "\n",
    "grid_search = GridSearchCV(\n",
    "    estimator=knn,\n",
    "    param_grid=param_grid,\n",
    "    cv=5,\n",
    "    scoring='neg_mean_absolute_error',\n",
    "    n_jobs=-1\n",
    ")\n",
    "\n",
    "grid_search.fit(X_train_reduced, y_train)"
   ]
  },
  {
   "cell_type": "code",
   "execution_count": 44,
   "metadata": {},
   "outputs": [
    {
     "name": "stdout",
     "output_type": "stream",
     "text": [
      "MAE:  0.14694673917350695\n",
      "MAPE:  0.03832943792582881\n"
     ]
    }
   ],
   "source": [
    "y_pred = grid_search.predict(X_test_reduced)\n",
    "print(\"MAE: \", mean_absolute_error(y_pred, y_test))\n",
    "print(\"MAPE: \",mean_absolute_percentage_error(y_pred, y_test))"
   ]
  },
  {
   "cell_type": "code",
   "execution_count": 45,
   "metadata": {},
   "outputs": [
    {
     "name": "stdout",
     "output_type": "stream",
     "text": [
      "Beste Hyperparameter: {'metric': 'manhattan', 'n_neighbors': 14, 'weights': 'distance'}\n"
     ]
    }
   ],
   "source": [
    "print(\"Beste Hyperparameter:\", grid_search.best_params_)"
   ]
  },
  {
   "cell_type": "markdown",
   "metadata": {},
   "source": [
    "## EVALUATION"
   ]
  },
  {
   "cell_type": "code",
   "execution_count": 46,
   "metadata": {},
   "outputs": [
    {
     "name": "stderr",
     "output_type": "stream",
     "text": [
      "/var/folders/rx/ml2kghxj29n_x460c8qg8qqr0000gn/T/ipykernel_79196/7156267.py:3: DeprecationWarning:\n",
      "\n",
      "DataFrameGroupBy.apply operated on the grouping columns. This behavior is deprecated, and in a future version of pandas the grouping columns will be excluded from the operation. Either pass `include_groups=False` to exclude the groupings or explicitly select the grouping columns after groupby to silence this warning.\n",
      "\n"
     ]
    },
    {
     "data": {
      "text/html": [
       "<div>\n",
       "<style scoped>\n",
       "    .dataframe tbody tr th:only-of-type {\n",
       "        vertical-align: middle;\n",
       "    }\n",
       "\n",
       "    .dataframe tbody tr th {\n",
       "        vertical-align: top;\n",
       "    }\n",
       "\n",
       "    .dataframe thead th {\n",
       "        text-align: right;\n",
       "    }\n",
       "</style>\n",
       "<table border=\"1\" class=\"dataframe\">\n",
       "  <thead>\n",
       "    <tr style=\"text-align: right;\">\n",
       "      <th></th>\n",
       "      <th>Actual</th>\n",
       "      <th>MAE</th>\n",
       "    </tr>\n",
       "  </thead>\n",
       "  <tbody>\n",
       "    <tr>\n",
       "      <th>0</th>\n",
       "      <td>2.7</td>\n",
       "      <td>1.001558</td>\n",
       "    </tr>\n",
       "    <tr>\n",
       "      <th>1</th>\n",
       "      <td>2.8</td>\n",
       "      <td>0.805993</td>\n",
       "    </tr>\n",
       "    <tr>\n",
       "      <th>2</th>\n",
       "      <td>2.9</td>\n",
       "      <td>0.650385</td>\n",
       "    </tr>\n",
       "    <tr>\n",
       "      <th>3</th>\n",
       "      <td>3.0</td>\n",
       "      <td>0.570573</td>\n",
       "    </tr>\n",
       "    <tr>\n",
       "      <th>4</th>\n",
       "      <td>3.1</td>\n",
       "      <td>0.463861</td>\n",
       "    </tr>\n",
       "    <tr>\n",
       "      <th>5</th>\n",
       "      <td>3.2</td>\n",
       "      <td>0.347907</td>\n",
       "    </tr>\n",
       "    <tr>\n",
       "      <th>6</th>\n",
       "      <td>3.3</td>\n",
       "      <td>0.360789</td>\n",
       "    </tr>\n",
       "    <tr>\n",
       "      <th>7</th>\n",
       "      <td>3.4</td>\n",
       "      <td>0.250832</td>\n",
       "    </tr>\n",
       "    <tr>\n",
       "      <th>8</th>\n",
       "      <td>3.5</td>\n",
       "      <td>0.175482</td>\n",
       "    </tr>\n",
       "    <tr>\n",
       "      <th>9</th>\n",
       "      <td>3.6</td>\n",
       "      <td>0.144670</td>\n",
       "    </tr>\n",
       "    <tr>\n",
       "      <th>10</th>\n",
       "      <td>3.7</td>\n",
       "      <td>0.101314</td>\n",
       "    </tr>\n",
       "    <tr>\n",
       "      <th>11</th>\n",
       "      <td>3.8</td>\n",
       "      <td>0.094509</td>\n",
       "    </tr>\n",
       "    <tr>\n",
       "      <th>12</th>\n",
       "      <td>3.9</td>\n",
       "      <td>0.117205</td>\n",
       "    </tr>\n",
       "    <tr>\n",
       "      <th>13</th>\n",
       "      <td>4.0</td>\n",
       "      <td>0.132240</td>\n",
       "    </tr>\n",
       "    <tr>\n",
       "      <th>14</th>\n",
       "      <td>4.1</td>\n",
       "      <td>0.150495</td>\n",
       "    </tr>\n",
       "    <tr>\n",
       "      <th>15</th>\n",
       "      <td>4.2</td>\n",
       "      <td>0.165235</td>\n",
       "    </tr>\n",
       "    <tr>\n",
       "      <th>16</th>\n",
       "      <td>4.3</td>\n",
       "      <td>0.170318</td>\n",
       "    </tr>\n",
       "    <tr>\n",
       "      <th>17</th>\n",
       "      <td>4.4</td>\n",
       "      <td>0.184869</td>\n",
       "    </tr>\n",
       "    <tr>\n",
       "      <th>18</th>\n",
       "      <td>4.5</td>\n",
       "      <td>0.171243</td>\n",
       "    </tr>\n",
       "    <tr>\n",
       "      <th>19</th>\n",
       "      <td>4.6</td>\n",
       "      <td>0.141566</td>\n",
       "    </tr>\n",
       "    <tr>\n",
       "      <th>20</th>\n",
       "      <td>4.7</td>\n",
       "      <td>0.145302</td>\n",
       "    </tr>\n",
       "    <tr>\n",
       "      <th>21</th>\n",
       "      <td>4.8</td>\n",
       "      <td>0.195812</td>\n",
       "    </tr>\n",
       "  </tbody>\n",
       "</table>\n",
       "</div>"
      ],
      "text/plain": [
       "    Actual       MAE\n",
       "0      2.7  1.001558\n",
       "1      2.8  0.805993\n",
       "2      2.9  0.650385\n",
       "3      3.0  0.570573\n",
       "4      3.1  0.463861\n",
       "5      3.2  0.347907\n",
       "6      3.3  0.360789\n",
       "7      3.4  0.250832\n",
       "8      3.5  0.175482\n",
       "9      3.6  0.144670\n",
       "10     3.7  0.101314\n",
       "11     3.8  0.094509\n",
       "12     3.9  0.117205\n",
       "13     4.0  0.132240\n",
       "14     4.1  0.150495\n",
       "15     4.2  0.165235\n",
       "16     4.3  0.170318\n",
       "17     4.4  0.184869\n",
       "18     4.5  0.171243\n",
       "19     4.6  0.141566\n",
       "20     4.7  0.145302\n",
       "21     4.8  0.195812"
      ]
     },
     "execution_count": 46,
     "metadata": {},
     "output_type": "execute_result"
    }
   ],
   "source": [
    "results_by_rating = pd.DataFrame({\"Actual\": y_test, \"Predicted\": y_pred})\n",
    "\n",
    "mae_by_rating= results_by_rating.groupby(\"Actual\").apply(lambda x: mean_absolute_error(x[\"Actual\"], x[\"Predicted\"])).reset_index(name=\"MAE\")\n",
    "mae_by_rating.head(30)"
   ]
  },
  {
   "cell_type": "code",
   "execution_count": 47,
   "metadata": {},
   "outputs": [
    {
     "data": {
      "application/vnd.plotly.v1+json": {
       "config": {
        "plotlyServerURL": "https://plot.ly"
       },
       "data": [
        {
         "hovertemplate": "Actual Rating=%{x}<br>Predicted Rating=%{y}<extra></extra>",
         "legendgroup": "",
         "marker": {
          "color": "#146c91",
          "symbol": "circle"
         },
         "mode": "markers",
         "name": "",
         "showlegend": false,
         "type": "scattergl",
         "x": {
          "bdata": "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",
          "dtype": "f8"
         },
         "xaxis": "x",
         "y": {
          "bdata": "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",
          "dtype": "f8"
         },
         "yaxis": "y"
        }
       ],
       "layout": {
        "legend": {
         "tracegroupgap": 0
        },
        "shapes": [
         {
          "line": {
           "color": "#FF3358"
          },
          "type": "line",
          "x0": 2.7,
          "x1": 4.8,
          "y0": 2.7,
          "y1": 4.8
         }
        ],
        "template": {
         "data": {
          "bar": [
           {
            "error_x": {
             "color": "#2a3f5f"
            },
            "error_y": {
             "color": "#2a3f5f"
            },
            "marker": {
             "line": {
              "color": "#E5ECF6",
              "width": 0.5
             },
             "pattern": {
              "fillmode": "overlay",
              "size": 10,
              "solidity": 0.2
             }
            },
            "type": "bar"
           }
          ],
          "barpolar": [
           {
            "marker": {
             "line": {
              "color": "#E5ECF6",
              "width": 0.5
             },
             "pattern": {
              "fillmode": "overlay",
              "size": 10,
              "solidity": 0.2
             }
            },
            "type": "barpolar"
           }
          ],
          "carpet": [
           {
            "aaxis": {
             "endlinecolor": "#2a3f5f",
             "gridcolor": "white",
             "linecolor": "white",
             "minorgridcolor": "white",
             "startlinecolor": "#2a3f5f"
            },
            "baxis": {
             "endlinecolor": "#2a3f5f",
             "gridcolor": "white",
             "linecolor": "white",
             "minorgridcolor": "white",
             "startlinecolor": "#2a3f5f"
            },
            "type": "carpet"
           }
          ],
          "choropleth": [
           {
            "colorbar": {
             "outlinewidth": 0,
             "ticks": ""
            },
            "type": "choropleth"
           }
          ],
          "contour": [
           {
            "colorbar": {
             "outlinewidth": 0,
             "ticks": ""
            },
            "colorscale": [
             [
              0,
              "#0d0887"
             ],
             [
              0.1111111111111111,
              "#46039f"
             ],
             [
              0.2222222222222222,
              "#7201a8"
             ],
             [
              0.3333333333333333,
              "#9c179e"
             ],
             [
              0.4444444444444444,
              "#bd3786"
             ],
             [
              0.5555555555555556,
              "#d8576b"
             ],
             [
              0.6666666666666666,
              "#ed7953"
             ],
             [
              0.7777777777777778,
              "#fb9f3a"
             ],
             [
              0.8888888888888888,
              "#fdca26"
             ],
             [
              1,
              "#f0f921"
             ]
            ],
            "type": "contour"
           }
          ],
          "contourcarpet": [
           {
            "colorbar": {
             "outlinewidth": 0,
             "ticks": ""
            },
            "type": "contourcarpet"
           }
          ],
          "heatmap": [
           {
            "colorbar": {
             "outlinewidth": 0,
             "ticks": ""
            },
            "colorscale": [
             [
              0,
              "#0d0887"
             ],
             [
              0.1111111111111111,
              "#46039f"
             ],
             [
              0.2222222222222222,
              "#7201a8"
             ],
             [
              0.3333333333333333,
              "#9c179e"
             ],
             [
              0.4444444444444444,
              "#bd3786"
             ],
             [
              0.5555555555555556,
              "#d8576b"
             ],
             [
              0.6666666666666666,
              "#ed7953"
             ],
             [
              0.7777777777777778,
              "#fb9f3a"
             ],
             [
              0.8888888888888888,
              "#fdca26"
             ],
             [
              1,
              "#f0f921"
             ]
            ],
            "type": "heatmap"
           }
          ],
          "histogram": [
           {
            "marker": {
             "pattern": {
              "fillmode": "overlay",
              "size": 10,
              "solidity": 0.2
             }
            },
            "type": "histogram"
           }
          ],
          "histogram2d": [
           {
            "colorbar": {
             "outlinewidth": 0,
             "ticks": ""
            },
            "colorscale": [
             [
              0,
              "#0d0887"
             ],
             [
              0.1111111111111111,
              "#46039f"
             ],
             [
              0.2222222222222222,
              "#7201a8"
             ],
             [
              0.3333333333333333,
              "#9c179e"
             ],
             [
              0.4444444444444444,
              "#bd3786"
             ],
             [
              0.5555555555555556,
              "#d8576b"
             ],
             [
              0.6666666666666666,
              "#ed7953"
             ],
             [
              0.7777777777777778,
              "#fb9f3a"
             ],
             [
              0.8888888888888888,
              "#fdca26"
             ],
             [
              1,
              "#f0f921"
             ]
            ],
            "type": "histogram2d"
           }
          ],
          "histogram2dcontour": [
           {
            "colorbar": {
             "outlinewidth": 0,
             "ticks": ""
            },
            "colorscale": [
             [
              0,
              "#0d0887"
             ],
             [
              0.1111111111111111,
              "#46039f"
             ],
             [
              0.2222222222222222,
              "#7201a8"
             ],
             [
              0.3333333333333333,
              "#9c179e"
             ],
             [
              0.4444444444444444,
              "#bd3786"
             ],
             [
              0.5555555555555556,
              "#d8576b"
             ],
             [
              0.6666666666666666,
              "#ed7953"
             ],
             [
              0.7777777777777778,
              "#fb9f3a"
             ],
             [
              0.8888888888888888,
              "#fdca26"
             ],
             [
              1,
              "#f0f921"
             ]
            ],
            "type": "histogram2dcontour"
           }
          ],
          "mesh3d": [
           {
            "colorbar": {
             "outlinewidth": 0,
             "ticks": ""
            },
            "type": "mesh3d"
           }
          ],
          "parcoords": [
           {
            "line": {
             "colorbar": {
              "outlinewidth": 0,
              "ticks": ""
             }
            },
            "type": "parcoords"
           }
          ],
          "pie": [
           {
            "automargin": true,
            "type": "pie"
           }
          ],
          "scatter": [
           {
            "fillpattern": {
             "fillmode": "overlay",
             "size": 10,
             "solidity": 0.2
            },
            "type": "scatter"
           }
          ],
          "scatter3d": [
           {
            "line": {
             "colorbar": {
              "outlinewidth": 0,
              "ticks": ""
             }
            },
            "marker": {
             "colorbar": {
              "outlinewidth": 0,
              "ticks": ""
             }
            },
            "type": "scatter3d"
           }
          ],
          "scattercarpet": [
           {
            "marker": {
             "colorbar": {
              "outlinewidth": 0,
              "ticks": ""
             }
            },
            "type": "scattercarpet"
           }
          ],
          "scattergeo": [
           {
            "marker": {
             "colorbar": {
              "outlinewidth": 0,
              "ticks": ""
             }
            },
            "type": "scattergeo"
           }
          ],
          "scattergl": [
           {
            "marker": {
             "colorbar": {
              "outlinewidth": 0,
              "ticks": ""
             }
            },
            "type": "scattergl"
           }
          ],
          "scattermap": [
           {
            "marker": {
             "colorbar": {
              "outlinewidth": 0,
              "ticks": ""
             }
            },
            "type": "scattermap"
           }
          ],
          "scattermapbox": [
           {
            "marker": {
             "colorbar": {
              "outlinewidth": 0,
              "ticks": ""
             }
            },
            "type": "scattermapbox"
           }
          ],
          "scatterpolar": [
           {
            "marker": {
             "colorbar": {
              "outlinewidth": 0,
              "ticks": ""
             }
            },
            "type": "scatterpolar"
           }
          ],
          "scatterpolargl": [
           {
            "marker": {
             "colorbar": {
              "outlinewidth": 0,
              "ticks": ""
             }
            },
            "type": "scatterpolargl"
           }
          ],
          "scatterternary": [
           {
            "marker": {
             "colorbar": {
              "outlinewidth": 0,
              "ticks": ""
             }
            },
            "type": "scatterternary"
           }
          ],
          "surface": [
           {
            "colorbar": {
             "outlinewidth": 0,
             "ticks": ""
            },
            "colorscale": [
             [
              0,
              "#0d0887"
             ],
             [
              0.1111111111111111,
              "#46039f"
             ],
             [
              0.2222222222222222,
              "#7201a8"
             ],
             [
              0.3333333333333333,
              "#9c179e"
             ],
             [
              0.4444444444444444,
              "#bd3786"
             ],
             [
              0.5555555555555556,
              "#d8576b"
             ],
             [
              0.6666666666666666,
              "#ed7953"
             ],
             [
              0.7777777777777778,
              "#fb9f3a"
             ],
             [
              0.8888888888888888,
              "#fdca26"
             ],
             [
              1,
              "#f0f921"
             ]
            ],
            "type": "surface"
           }
          ],
          "table": [
           {
            "cells": {
             "fill": {
              "color": "#EBF0F8"
             },
             "line": {
              "color": "white"
             }
            },
            "header": {
             "fill": {
              "color": "#C8D4E3"
             },
             "line": {
              "color": "white"
             }
            },
            "type": "table"
           }
          ]
         },
         "layout": {
          "annotationdefaults": {
           "arrowcolor": "#2a3f5f",
           "arrowhead": 0,
           "arrowwidth": 1
          },
          "autotypenumbers": "strict",
          "coloraxis": {
           "colorbar": {
            "outlinewidth": 0,
            "ticks": ""
           }
          },
          "colorscale": {
           "diverging": [
            [
             0,
             "#8e0152"
            ],
            [
             0.1,
             "#c51b7d"
            ],
            [
             0.2,
             "#de77ae"
            ],
            [
             0.3,
             "#f1b6da"
            ],
            [
             0.4,
             "#fde0ef"
            ],
            [
             0.5,
             "#f7f7f7"
            ],
            [
             0.6,
             "#e6f5d0"
            ],
            [
             0.7,
             "#b8e186"
            ],
            [
             0.8,
             "#7fbc41"
            ],
            [
             0.9,
             "#4d9221"
            ],
            [
             1,
             "#276419"
            ]
           ],
           "sequential": [
            [
             0,
             "#0d0887"
            ],
            [
             0.1111111111111111,
             "#46039f"
            ],
            [
             0.2222222222222222,
             "#7201a8"
            ],
            [
             0.3333333333333333,
             "#9c179e"
            ],
            [
             0.4444444444444444,
             "#bd3786"
            ],
            [
             0.5555555555555556,
             "#d8576b"
            ],
            [
             0.6666666666666666,
             "#ed7953"
            ],
            [
             0.7777777777777778,
             "#fb9f3a"
            ],
            [
             0.8888888888888888,
             "#fdca26"
            ],
            [
             1,
             "#f0f921"
            ]
           ],
           "sequentialminus": [
            [
             0,
             "#0d0887"
            ],
            [
             0.1111111111111111,
             "#46039f"
            ],
            [
             0.2222222222222222,
             "#7201a8"
            ],
            [
             0.3333333333333333,
             "#9c179e"
            ],
            [
             0.4444444444444444,
             "#bd3786"
            ],
            [
             0.5555555555555556,
             "#d8576b"
            ],
            [
             0.6666666666666666,
             "#ed7953"
            ],
            [
             0.7777777777777778,
             "#fb9f3a"
            ],
            [
             0.8888888888888888,
             "#fdca26"
            ],
            [
             1,
             "#f0f921"
            ]
           ]
          },
          "colorway": [
           "#636efa",
           "#EF553B",
           "#00cc96",
           "#ab63fa",
           "#FFA15A",
           "#19d3f3",
           "#FF6692",
           "#B6E880",
           "#FF97FF",
           "#FECB52"
          ],
          "font": {
           "color": "#2a3f5f"
          },
          "geo": {
           "bgcolor": "white",
           "lakecolor": "white",
           "landcolor": "#E5ECF6",
           "showlakes": true,
           "showland": true,
           "subunitcolor": "white"
          },
          "hoverlabel": {
           "align": "left"
          },
          "hovermode": "closest",
          "mapbox": {
           "style": "light"
          },
          "paper_bgcolor": "white",
          "plot_bgcolor": "#E5ECF6",
          "polar": {
           "angularaxis": {
            "gridcolor": "white",
            "linecolor": "white",
            "ticks": ""
           },
           "bgcolor": "#E5ECF6",
           "radialaxis": {
            "gridcolor": "white",
            "linecolor": "white",
            "ticks": ""
           }
          },
          "scene": {
           "xaxis": {
            "backgroundcolor": "#E5ECF6",
            "gridcolor": "white",
            "gridwidth": 2,
            "linecolor": "white",
            "showbackground": true,
            "ticks": "",
            "zerolinecolor": "white"
           },
           "yaxis": {
            "backgroundcolor": "#E5ECF6",
            "gridcolor": "white",
            "gridwidth": 2,
            "linecolor": "white",
            "showbackground": true,
            "ticks": "",
            "zerolinecolor": "white"
           },
           "zaxis": {
            "backgroundcolor": "#E5ECF6",
            "gridcolor": "white",
            "gridwidth": 2,
            "linecolor": "white",
            "showbackground": true,
            "ticks": "",
            "zerolinecolor": "white"
           }
          },
          "shapedefaults": {
           "line": {
            "color": "#2a3f5f"
           }
          },
          "ternary": {
           "aaxis": {
            "gridcolor": "white",
            "linecolor": "white",
            "ticks": ""
           },
           "baxis": {
            "gridcolor": "white",
            "linecolor": "white",
            "ticks": ""
           },
           "bgcolor": "#E5ECF6",
           "caxis": {
            "gridcolor": "white",
            "linecolor": "white",
            "ticks": ""
           }
          },
          "title": {
           "x": 0.05
          },
          "xaxis": {
           "automargin": true,
           "gridcolor": "white",
           "linecolor": "white",
           "ticks": "",
           "title": {
            "standoff": 15
           },
           "zerolinecolor": "white",
           "zerolinewidth": 2
          },
          "yaxis": {
           "automargin": true,
           "gridcolor": "white",
           "linecolor": "white",
           "ticks": "",
           "title": {
            "standoff": 15
           },
           "zerolinecolor": "white",
           "zerolinewidth": 2
          }
         }
        },
        "title": {
         "text": "Actual vs. Predicted Rating"
        },
        "xaxis": {
         "anchor": "y",
         "domain": [
          0,
          1
         ],
         "title": {
          "text": "Actual Rating"
         }
        },
        "yaxis": {
         "anchor": "x",
         "domain": [
          0,
          1
         ],
         "title": {
          "text": "Predicted Rating"
         }
        }
       }
      }
     },
     "metadata": {},
     "output_type": "display_data"
    }
   ],
   "source": [
    "# Scatter Plot: Predicted vs actual Rating\n",
    "y_train_pred = best_model.predict(X_train_reduced)\n",
    "\n",
    "fig = px.scatter(x=y_test, y=y_pred, labels={\n",
    "                     \"y\": \"Predicted Rating\",\n",
    "                     \"x\": \"Actual Rating\"},title=\"Actual vs. Predicted Rating\", color_discrete_sequence=[\"#146c91\"])\n",
    "\n",
    "start = y_test.min()\n",
    "end = y_test.max()\n",
    "\n",
    "fig.add_shape(type=\"line\", x0=start, y0=start, x1=end, y1=end, line=dict(color=\"#FF3358\"))\n",
    "\n",
    "fig.show()"
   ]
  },
  {
   "cell_type": "code",
   "execution_count": 48,
   "metadata": {},
   "outputs": [
    {
     "data": {
      "application/vnd.plotly.v1+json": {
       "config": {
        "plotlyServerURL": "https://plot.ly"
       },
       "data": [
        {
         "hovertemplate": "feature=%{x}<br>importance=%{y}<extra></extra>",
         "legendgroup": "",
         "marker": {
          "color": "#146c91",
          "pattern": {
           "shape": ""
          }
         },
         "name": "",
         "orientation": "v",
         "showlegend": false,
         "textposition": "auto",
         "type": "bar",
         "x": [
          "Price",
          "Winery_encoded",
          "Region_encoded",
          "Variety_encoded",
          "Year",
          "Country_France",
          "Country_Italy",
          "WineType_Red",
          "WineType_White",
          "Country_Spain"
         ],
         "xaxis": "x",
         "y": {
          "bdata": "rxYfX0va2j/n9n4eQALWP/IiD5bdwbg/IgnN+bsRpT8JiXqsdlSjP4v0EK3Hioc/bcZIiAS2dT8hk6QQbXd1PwEFfoQbAnI/GEmTsZr+cD8=",
          "dtype": "f8"
         },
         "yaxis": "y"
        }
       ],
       "layout": {
        "barmode": "relative",
        "legend": {
         "tracegroupgap": 0
        },
        "template": {
         "data": {
          "bar": [
           {
            "error_x": {
             "color": "#2a3f5f"
            },
            "error_y": {
             "color": "#2a3f5f"
            },
            "marker": {
             "line": {
              "color": "#E5ECF6",
              "width": 0.5
             },
             "pattern": {
              "fillmode": "overlay",
              "size": 10,
              "solidity": 0.2
             }
            },
            "type": "bar"
           }
          ],
          "barpolar": [
           {
            "marker": {
             "line": {
              "color": "#E5ECF6",
              "width": 0.5
             },
             "pattern": {
              "fillmode": "overlay",
              "size": 10,
              "solidity": 0.2
             }
            },
            "type": "barpolar"
           }
          ],
          "carpet": [
           {
            "aaxis": {
             "endlinecolor": "#2a3f5f",
             "gridcolor": "white",
             "linecolor": "white",
             "minorgridcolor": "white",
             "startlinecolor": "#2a3f5f"
            },
            "baxis": {
             "endlinecolor": "#2a3f5f",
             "gridcolor": "white",
             "linecolor": "white",
             "minorgridcolor": "white",
             "startlinecolor": "#2a3f5f"
            },
            "type": "carpet"
           }
          ],
          "choropleth": [
           {
            "colorbar": {
             "outlinewidth": 0,
             "ticks": ""
            },
            "type": "choropleth"
           }
          ],
          "contour": [
           {
            "colorbar": {
             "outlinewidth": 0,
             "ticks": ""
            },
            "colorscale": [
             [
              0,
              "#0d0887"
             ],
             [
              0.1111111111111111,
              "#46039f"
             ],
             [
              0.2222222222222222,
              "#7201a8"
             ],
             [
              0.3333333333333333,
              "#9c179e"
             ],
             [
              0.4444444444444444,
              "#bd3786"
             ],
             [
              0.5555555555555556,
              "#d8576b"
             ],
             [
              0.6666666666666666,
              "#ed7953"
             ],
             [
              0.7777777777777778,
              "#fb9f3a"
             ],
             [
              0.8888888888888888,
              "#fdca26"
             ],
             [
              1,
              "#f0f921"
             ]
            ],
            "type": "contour"
           }
          ],
          "contourcarpet": [
           {
            "colorbar": {
             "outlinewidth": 0,
             "ticks": ""
            },
            "type": "contourcarpet"
           }
          ],
          "heatmap": [
           {
            "colorbar": {
             "outlinewidth": 0,
             "ticks": ""
            },
            "colorscale": [
             [
              0,
              "#0d0887"
             ],
             [
              0.1111111111111111,
              "#46039f"
             ],
             [
              0.2222222222222222,
              "#7201a8"
             ],
             [
              0.3333333333333333,
              "#9c179e"
             ],
             [
              0.4444444444444444,
              "#bd3786"
             ],
             [
              0.5555555555555556,
              "#d8576b"
             ],
             [
              0.6666666666666666,
              "#ed7953"
             ],
             [
              0.7777777777777778,
              "#fb9f3a"
             ],
             [
              0.8888888888888888,
              "#fdca26"
             ],
             [
              1,
              "#f0f921"
             ]
            ],
            "type": "heatmap"
           }
          ],
          "histogram": [
           {
            "marker": {
             "pattern": {
              "fillmode": "overlay",
              "size": 10,
              "solidity": 0.2
             }
            },
            "type": "histogram"
           }
          ],
          "histogram2d": [
           {
            "colorbar": {
             "outlinewidth": 0,
             "ticks": ""
            },
            "colorscale": [
             [
              0,
              "#0d0887"
             ],
             [
              0.1111111111111111,
              "#46039f"
             ],
             [
              0.2222222222222222,
              "#7201a8"
             ],
             [
              0.3333333333333333,
              "#9c179e"
             ],
             [
              0.4444444444444444,
              "#bd3786"
             ],
             [
              0.5555555555555556,
              "#d8576b"
             ],
             [
              0.6666666666666666,
              "#ed7953"
             ],
             [
              0.7777777777777778,
              "#fb9f3a"
             ],
             [
              0.8888888888888888,
              "#fdca26"
             ],
             [
              1,
              "#f0f921"
             ]
            ],
            "type": "histogram2d"
           }
          ],
          "histogram2dcontour": [
           {
            "colorbar": {
             "outlinewidth": 0,
             "ticks": ""
            },
            "colorscale": [
             [
              0,
              "#0d0887"
             ],
             [
              0.1111111111111111,
              "#46039f"
             ],
             [
              0.2222222222222222,
              "#7201a8"
             ],
             [
              0.3333333333333333,
              "#9c179e"
             ],
             [
              0.4444444444444444,
              "#bd3786"
             ],
             [
              0.5555555555555556,
              "#d8576b"
             ],
             [
              0.6666666666666666,
              "#ed7953"
             ],
             [
              0.7777777777777778,
              "#fb9f3a"
             ],
             [
              0.8888888888888888,
              "#fdca26"
             ],
             [
              1,
              "#f0f921"
             ]
            ],
            "type": "histogram2dcontour"
           }
          ],
          "mesh3d": [
           {
            "colorbar": {
             "outlinewidth": 0,
             "ticks": ""
            },
            "type": "mesh3d"
           }
          ],
          "parcoords": [
           {
            "line": {
             "colorbar": {
              "outlinewidth": 0,
              "ticks": ""
             }
            },
            "type": "parcoords"
           }
          ],
          "pie": [
           {
            "automargin": true,
            "type": "pie"
           }
          ],
          "scatter": [
           {
            "fillpattern": {
             "fillmode": "overlay",
             "size": 10,
             "solidity": 0.2
            },
            "type": "scatter"
           }
          ],
          "scatter3d": [
           {
            "line": {
             "colorbar": {
              "outlinewidth": 0,
              "ticks": ""
             }
            },
            "marker": {
             "colorbar": {
              "outlinewidth": 0,
              "ticks": ""
             }
            },
            "type": "scatter3d"
           }
          ],
          "scattercarpet": [
           {
            "marker": {
             "colorbar": {
              "outlinewidth": 0,
              "ticks": ""
             }
            },
            "type": "scattercarpet"
           }
          ],
          "scattergeo": [
           {
            "marker": {
             "colorbar": {
              "outlinewidth": 0,
              "ticks": ""
             }
            },
            "type": "scattergeo"
           }
          ],
          "scattergl": [
           {
            "marker": {
             "colorbar": {
              "outlinewidth": 0,
              "ticks": ""
             }
            },
            "type": "scattergl"
           }
          ],
          "scattermap": [
           {
            "marker": {
             "colorbar": {
              "outlinewidth": 0,
              "ticks": ""
             }
            },
            "type": "scattermap"
           }
          ],
          "scattermapbox": [
           {
            "marker": {
             "colorbar": {
              "outlinewidth": 0,
              "ticks": ""
             }
            },
            "type": "scattermapbox"
           }
          ],
          "scatterpolar": [
           {
            "marker": {
             "colorbar": {
              "outlinewidth": 0,
              "ticks": ""
             }
            },
            "type": "scatterpolar"
           }
          ],
          "scatterpolargl": [
           {
            "marker": {
             "colorbar": {
              "outlinewidth": 0,
              "ticks": ""
             }
            },
            "type": "scatterpolargl"
           }
          ],
          "scatterternary": [
           {
            "marker": {
             "colorbar": {
              "outlinewidth": 0,
              "ticks": ""
             }
            },
            "type": "scatterternary"
           }
          ],
          "surface": [
           {
            "colorbar": {
             "outlinewidth": 0,
             "ticks": ""
            },
            "colorscale": [
             [
              0,
              "#0d0887"
             ],
             [
              0.1111111111111111,
              "#46039f"
             ],
             [
              0.2222222222222222,
              "#7201a8"
             ],
             [
              0.3333333333333333,
              "#9c179e"
             ],
             [
              0.4444444444444444,
              "#bd3786"
             ],
             [
              0.5555555555555556,
              "#d8576b"
             ],
             [
              0.6666666666666666,
              "#ed7953"
             ],
             [
              0.7777777777777778,
              "#fb9f3a"
             ],
             [
              0.8888888888888888,
              "#fdca26"
             ],
             [
              1,
              "#f0f921"
             ]
            ],
            "type": "surface"
           }
          ],
          "table": [
           {
            "cells": {
             "fill": {
              "color": "#EBF0F8"
             },
             "line": {
              "color": "white"
             }
            },
            "header": {
             "fill": {
              "color": "#C8D4E3"
             },
             "line": {
              "color": "white"
             }
            },
            "type": "table"
           }
          ]
         },
         "layout": {
          "annotationdefaults": {
           "arrowcolor": "#2a3f5f",
           "arrowhead": 0,
           "arrowwidth": 1
          },
          "autotypenumbers": "strict",
          "coloraxis": {
           "colorbar": {
            "outlinewidth": 0,
            "ticks": ""
           }
          },
          "colorscale": {
           "diverging": [
            [
             0,
             "#8e0152"
            ],
            [
             0.1,
             "#c51b7d"
            ],
            [
             0.2,
             "#de77ae"
            ],
            [
             0.3,
             "#f1b6da"
            ],
            [
             0.4,
             "#fde0ef"
            ],
            [
             0.5,
             "#f7f7f7"
            ],
            [
             0.6,
             "#e6f5d0"
            ],
            [
             0.7,
             "#b8e186"
            ],
            [
             0.8,
             "#7fbc41"
            ],
            [
             0.9,
             "#4d9221"
            ],
            [
             1,
             "#276419"
            ]
           ],
           "sequential": [
            [
             0,
             "#0d0887"
            ],
            [
             0.1111111111111111,
             "#46039f"
            ],
            [
             0.2222222222222222,
             "#7201a8"
            ],
            [
             0.3333333333333333,
             "#9c179e"
            ],
            [
             0.4444444444444444,
             "#bd3786"
            ],
            [
             0.5555555555555556,
             "#d8576b"
            ],
            [
             0.6666666666666666,
             "#ed7953"
            ],
            [
             0.7777777777777778,
             "#fb9f3a"
            ],
            [
             0.8888888888888888,
             "#fdca26"
            ],
            [
             1,
             "#f0f921"
            ]
           ],
           "sequentialminus": [
            [
             0,
             "#0d0887"
            ],
            [
             0.1111111111111111,
             "#46039f"
            ],
            [
             0.2222222222222222,
             "#7201a8"
            ],
            [
             0.3333333333333333,
             "#9c179e"
            ],
            [
             0.4444444444444444,
             "#bd3786"
            ],
            [
             0.5555555555555556,
             "#d8576b"
            ],
            [
             0.6666666666666666,
             "#ed7953"
            ],
            [
             0.7777777777777778,
             "#fb9f3a"
            ],
            [
             0.8888888888888888,
             "#fdca26"
            ],
            [
             1,
             "#f0f921"
            ]
           ]
          },
          "colorway": [
           "#636efa",
           "#EF553B",
           "#00cc96",
           "#ab63fa",
           "#FFA15A",
           "#19d3f3",
           "#FF6692",
           "#B6E880",
           "#FF97FF",
           "#FECB52"
          ],
          "font": {
           "color": "#2a3f5f"
          },
          "geo": {
           "bgcolor": "white",
           "lakecolor": "white",
           "landcolor": "#E5ECF6",
           "showlakes": true,
           "showland": true,
           "subunitcolor": "white"
          },
          "hoverlabel": {
           "align": "left"
          },
          "hovermode": "closest",
          "mapbox": {
           "style": "light"
          },
          "paper_bgcolor": "white",
          "plot_bgcolor": "#E5ECF6",
          "polar": {
           "angularaxis": {
            "gridcolor": "white",
            "linecolor": "white",
            "ticks": ""
           },
           "bgcolor": "#E5ECF6",
           "radialaxis": {
            "gridcolor": "white",
            "linecolor": "white",
            "ticks": ""
           }
          },
          "scene": {
           "xaxis": {
            "backgroundcolor": "#E5ECF6",
            "gridcolor": "white",
            "gridwidth": 2,
            "linecolor": "white",
            "showbackground": true,
            "ticks": "",
            "zerolinecolor": "white"
           },
           "yaxis": {
            "backgroundcolor": "#E5ECF6",
            "gridcolor": "white",
            "gridwidth": 2,
            "linecolor": "white",
            "showbackground": true,
            "ticks": "",
            "zerolinecolor": "white"
           },
           "zaxis": {
            "backgroundcolor": "#E5ECF6",
            "gridcolor": "white",
            "gridwidth": 2,
            "linecolor": "white",
            "showbackground": true,
            "ticks": "",
            "zerolinecolor": "white"
           }
          },
          "shapedefaults": {
           "line": {
            "color": "#2a3f5f"
           }
          },
          "ternary": {
           "aaxis": {
            "gridcolor": "white",
            "linecolor": "white",
            "ticks": ""
           },
           "baxis": {
            "gridcolor": "white",
            "linecolor": "white",
            "ticks": ""
           },
           "bgcolor": "#E5ECF6",
           "caxis": {
            "gridcolor": "white",
            "linecolor": "white",
            "ticks": ""
           }
          },
          "title": {
           "x": 0.05
          },
          "xaxis": {
           "automargin": true,
           "gridcolor": "white",
           "linecolor": "white",
           "ticks": "",
           "title": {
            "standoff": 15
           },
           "zerolinecolor": "white",
           "zerolinewidth": 2
          },
          "yaxis": {
           "automargin": true,
           "gridcolor": "white",
           "linecolor": "white",
           "ticks": "",
           "title": {
            "standoff": 15
           },
           "zerolinecolor": "white",
           "zerolinewidth": 2
          }
         }
        },
        "title": {
         "text": "Feature Importance"
        },
        "xaxis": {
         "anchor": "y",
         "domain": [
          0,
          1
         ],
         "title": {
          "text": "feature"
         }
        },
        "yaxis": {
         "anchor": "x",
         "domain": [
          0,
          1
         ],
         "title": {
          "text": "importance"
         }
        }
       }
      }
     },
     "metadata": {},
     "output_type": "display_data"
    }
   ],
   "source": [
    "# Barplot: Top 10 Features by Feature Importance\n",
    "importances = search_cv.best_estimator_.feature_importances_\n",
    "\n",
    "feature_importances_df = pd.DataFrame({\n",
    "    \"feature\": selected_features,\n",
    "    \"importance\": importances\n",
    "}).sort_values(by='importance', ascending=False)\n",
    "\n",
    "fig = px.bar(feature_importances_df.head(10), x=\"feature\", y=\"importance\", title =\"Feature Importance\", color_discrete_sequence=[\"#146c91\"])\n",
    "fig.show()"
   ]
  }
 ],
 "metadata": {
  "kernelspec": {
   "display_name": ".venv",
   "language": "python",
   "name": "python3"
  },
  "language_info": {
   "codemirror_mode": {
    "name": "ipython",
    "version": 3
   },
   "file_extension": ".py",
   "mimetype": "text/x-python",
   "name": "python",
   "nbconvert_exporter": "python",
   "pygments_lexer": "ipython3",
   "version": "3.11.6"
  }
 },
 "nbformat": 4,
 "nbformat_minor": 2
}
